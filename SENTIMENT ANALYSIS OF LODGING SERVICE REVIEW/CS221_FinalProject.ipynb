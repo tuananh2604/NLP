{
  "cells": [
    {
      "cell_type": "code",
      "execution_count": null,
      "metadata": {
        "colab": {
          "base_uri": "https://localhost:8080/"
        },
        "id": "45QRYPddOd4k",
        "outputId": "cf2b36b2-b7db-4127-9b76-d09b029bc0c6"
      },
      "outputs": [
        {
          "name": "stdout",
          "output_type": "stream",
          "text": [
            "Looking in indexes: https://pypi.org/simple, https://us-python.pkg.dev/colab-wheels/public/simple/\n",
            "Collecting underthesea\n",
            "  Downloading underthesea-6.0.0-py3-none-any.whl (11.0 MB)\n",
            "\u001b[2K     \u001b[90m━━━━━━━━━━━━━━━━━━━━━━━━━━━━━━━━━━━━━━━━\u001b[0m \u001b[32m11.0/11.0 MB\u001b[0m \u001b[31m54.8 MB/s\u001b[0m eta \u001b[36m0:00:00\u001b[0m\n",
            "\u001b[?25hRequirement already satisfied: nltk in /usr/local/lib/python3.8/dist-packages (from underthesea) (3.7)\n",
            "Collecting python-crfsuite>=0.9.6\n",
            "  Downloading python_crfsuite-0.9.8-cp38-cp38-manylinux_2_17_x86_64.manylinux2014_x86_64.whl (1.0 MB)\n",
            "\u001b[2K     \u001b[90m━━━━━━━━━━━━━━━━━━━━━━━━━━━━━━━━━━━━━━━━\u001b[0m \u001b[32m1.0/1.0 MB\u001b[0m \u001b[31m49.5 MB/s\u001b[0m eta \u001b[36m0:00:00\u001b[0m\n",
            "\u001b[?25hRequirement already satisfied: PyYAML in /usr/local/lib/python3.8/dist-packages (from underthesea) (6.0)\n",
            "Requirement already satisfied: joblib in /usr/local/lib/python3.8/dist-packages (from underthesea) (1.2.0)\n",
            "Collecting underthesea-core==0.0.5a2\n",
            "  Downloading underthesea_core-0.0.5_alpha.2-cp38-cp38-manylinux2010_x86_64.whl (591 kB)\n",
            "\u001b[2K     \u001b[90m━━━━━━━━━━━━━━━━━━━━━━━━━━━━━━━━━━━━━━\u001b[0m \u001b[32m591.3/591.3 KB\u001b[0m \u001b[31m33.9 MB/s\u001b[0m eta \u001b[36m0:00:00\u001b[0m\n",
            "\u001b[?25hRequirement already satisfied: Click>=6.0 in /usr/local/lib/python3.8/dist-packages (from underthesea) (7.1.2)\n",
            "Requirement already satisfied: requests in /usr/local/lib/python3.8/dist-packages (from underthesea) (2.25.1)\n",
            "Requirement already satisfied: tqdm in /usr/local/lib/python3.8/dist-packages (from underthesea) (4.64.1)\n",
            "Requirement already satisfied: scikit-learn in /usr/local/lib/python3.8/dist-packages (from underthesea) (1.0.2)\n",
            "Requirement already satisfied: regex>=2021.8.3 in /usr/local/lib/python3.8/dist-packages (from nltk->underthesea) (2022.6.2)\n",
            "Requirement already satisfied: urllib3<1.27,>=1.21.1 in /usr/local/lib/python3.8/dist-packages (from requests->underthesea) (1.24.3)\n",
            "Requirement already satisfied: chardet<5,>=3.0.2 in /usr/local/lib/python3.8/dist-packages (from requests->underthesea) (4.0.0)\n",
            "Requirement already satisfied: certifi>=2017.4.17 in /usr/local/lib/python3.8/dist-packages (from requests->underthesea) (2022.12.7)\n",
            "Requirement already satisfied: idna<3,>=2.5 in /usr/local/lib/python3.8/dist-packages (from requests->underthesea) (2.10)\n",
            "Requirement already satisfied: numpy>=1.14.6 in /usr/local/lib/python3.8/dist-packages (from scikit-learn->underthesea) (1.21.6)\n",
            "Requirement already satisfied: threadpoolctl>=2.0.0 in /usr/local/lib/python3.8/dist-packages (from scikit-learn->underthesea) (3.1.0)\n",
            "Requirement already satisfied: scipy>=1.1.0 in /usr/local/lib/python3.8/dist-packages (from scikit-learn->underthesea) (1.7.3)\n",
            "Installing collected packages: underthesea-core, python-crfsuite, underthesea\n",
            "Successfully installed python-crfsuite-0.9.8 underthesea-6.0.0 underthesea-core-0.0.5a2\n",
            "Looking in indexes: https://pypi.org/simple, https://us-python.pkg.dev/colab-wheels/public/simple/\n",
            "Requirement already satisfied: imbalanced-learn in /usr/local/lib/python3.8/dist-packages (0.8.1)\n",
            "Requirement already satisfied: joblib>=0.11 in /usr/local/lib/python3.8/dist-packages (from imbalanced-learn) (1.2.0)\n",
            "Requirement already satisfied: numpy>=1.13.3 in /usr/local/lib/python3.8/dist-packages (from imbalanced-learn) (1.21.6)\n",
            "Requirement already satisfied: scipy>=0.19.1 in /usr/local/lib/python3.8/dist-packages (from imbalanced-learn) (1.7.3)\n",
            "Requirement already satisfied: scikit-learn>=0.24 in /usr/local/lib/python3.8/dist-packages (from imbalanced-learn) (1.0.2)\n",
            "Requirement already satisfied: threadpoolctl>=2.0.0 in /usr/local/lib/python3.8/dist-packages (from scikit-learn>=0.24->imbalanced-learn) (3.1.0)\n"
          ]
        }
      ],
      "source": [
        "%pip install underthesea\n",
        "%pip install imbalanced-learn"
      ]
    },
    {
      "cell_type": "code",
      "execution_count": null,
      "metadata": {
        "id": "ViM68CaDHvgv"
      },
      "outputs": [],
      "source": [
        "import pandas as pd\n",
        "import zipfile\n",
        "import numpy as np\n",
        "import matplotlib.pyplot as plt\n",
        "import joblib"
      ]
    },
    {
      "cell_type": "code",
      "execution_count": null,
      "metadata": {
        "id": "muBXXZJzFPBW"
      },
      "outputs": [],
      "source": [
        "from underthesea import word_tokenize\n",
        "from sklearn.naive_bayes import MultinomialNB\n",
        "from sklearn.feature_extraction.text import CountVectorizer\n",
        "from imblearn.over_sampling import RandomOverSampler\n",
        "import seaborn as sns\n",
        "from sklearn.metrics import classification_report\n",
        "from sklearn.metrics import confusion_matrix\n",
        "from sklearn.svm import SVC\n",
        "from sklearn.ensemble import RandomForestClassifier"
      ]
    },
    {
      "cell_type": "code",
      "execution_count": null,
      "metadata": {
        "colab": {
          "base_uri": "https://localhost:8080/"
        },
        "id": "aCWDsZuIQCDu",
        "outputId": "070c9fa7-5c16-4761-d7b6-a35df44fe032"
      },
      "outputs": [
        {
          "name": "stdout",
          "output_type": "stream",
          "text": [
            "openjdk version \"11.0.17\" 2022-10-18\n",
            "OpenJDK Runtime Environment (build 11.0.17+8-post-Ubuntu-1ubuntu218.04)\n",
            "OpenJDK 64-Bit Server VM (build 11.0.17+8-post-Ubuntu-1ubuntu218.04, mixed mode, sharing)\n"
          ]
        }
      ],
      "source": [
        "import os       #importing os to set environment variable\n",
        "def install_java():\n",
        "  !apt-get install -y openjdk-8-jdk-headless -qq > /dev/null      #install openjdk\n",
        "  os.environ[\"JAVA_HOME\"] = \"/usr/lib/jvm/java-8-openjdk-amd64\"     #set environment variable\n",
        "  !java -version       #check java version\n",
        "install_java()"
      ]
    },
    {
      "cell_type": "code",
      "execution_count": null,
      "metadata": {
        "colab": {
          "base_uri": "https://localhost:8080/"
        },
        "id": "ocKvCcLLQ4b0",
        "outputId": "6f47d4b5-38f0-4d22-c43b-2d86b3cac8cf"
      },
      "outputs": [
        {
          "name": "stdout",
          "output_type": "stream",
          "text": [
            "Looking in indexes: https://pypi.org/simple, https://us-python.pkg.dev/colab-wheels/public/simple/\n",
            "Collecting vncorenlp\n",
            "  Downloading vncorenlp-1.0.3.tar.gz (2.6 MB)\n",
            "\u001b[2K     \u001b[90m━━━━━━━━━━━━━━━━━━━━━━━━━━━━━━━━━━━━━━━━\u001b[0m \u001b[32m2.6/2.6 MB\u001b[0m \u001b[31m36.0 MB/s\u001b[0m eta \u001b[36m0:00:00\u001b[0m\n",
            "\u001b[?25h  Preparing metadata (setup.py) ... \u001b[?25l\u001b[?25hdone\n",
            "Requirement already satisfied: requests in /usr/local/lib/python3.8/dist-packages (from vncorenlp) (2.25.1)\n",
            "Requirement already satisfied: certifi>=2017.4.17 in /usr/local/lib/python3.8/dist-packages (from requests->vncorenlp) (2022.12.7)\n",
            "Requirement already satisfied: idna<3,>=2.5 in /usr/local/lib/python3.8/dist-packages (from requests->vncorenlp) (2.10)\n",
            "Requirement already satisfied: chardet<5,>=3.0.2 in /usr/local/lib/python3.8/dist-packages (from requests->vncorenlp) (4.0.0)\n",
            "Requirement already satisfied: urllib3<1.27,>=1.21.1 in /usr/local/lib/python3.8/dist-packages (from requests->vncorenlp) (1.24.3)\n",
            "Building wheels for collected packages: vncorenlp\n",
            "  Building wheel for vncorenlp (setup.py) ... \u001b[?25l\u001b[?25hdone\n",
            "  Created wheel for vncorenlp: filename=vncorenlp-1.0.3-py3-none-any.whl size=2645950 sha256=26ad5d846c22c6af7f00fbec0ffd2e131b15b7ae4c8eb9ccd39a40e952cc97b9\n",
            "  Stored in directory: /root/.cache/pip/wheels/3c/e9/86/706911c12e307aeb9a2702399f0dad38d36f1d6f9dde8af35e\n",
            "Successfully built vncorenlp\n",
            "\u001b[31mERROR: Operation cancelled by user\u001b[0m\u001b[31m\n",
            "\u001b[0mLooking in indexes: https://pypi.org/simple, https://us-python.pkg.dev/colab-wheels/public/simple/\n",
            "Collecting fastBPE\n",
            "  Downloading fastBPE-0.1.0.tar.gz (35 kB)\n",
            "  Preparing metadata (setup.py) ... \u001b[?25l\u001b[?25hdone\n",
            "Building wheels for collected packages: fastBPE\n",
            "  Building wheel for fastBPE (setup.py) ... \u001b[?25l\u001b[?25hcanceled\n",
            "\u001b[31mERROR: Operation cancelled by user\u001b[0m\u001b[31m\n",
            "\u001b[0m\u001b[31mERROR: Operation cancelled by user\u001b[0m\u001b[31m\n",
            "\u001b[0mLooking in indexes: https://pypi.org/simple, https://us-python.pkg.dev/colab-wheels/public/simple/\n",
            "Requirement already satisfied: tensorboard in /usr/local/lib/python3.8/dist-packages (2.9.1)\n",
            "Collecting tensorboard\n",
            "  Downloading tensorboard-2.11.0-py3-none-any.whl (6.0 MB)\n",
            "\u001b[2K     \u001b[90m━━━━━━━━━━━━━━━━━━━━━━━━━━━━━━━━━━━━━━━━\u001b[0m \u001b[32m6.0/6.0 MB\u001b[0m \u001b[31m24.1 MB/s\u001b[0m eta \u001b[36m0:00:00\u001b[0m\n",
            "\u001b[?25hRequirement already satisfied: markdown>=2.6.8 in /usr/local/lib/python3.8/dist-packages (from tensorboard) (3.4.1)\n",
            "Requirement already satisfied: requests<3,>=2.21.0 in /usr/local/lib/python3.8/dist-packages (from tensorboard) (2.25.1)\n",
            "Requirement already satisfied: setuptools>=41.0.0 in /usr/local/lib/python3.8/dist-packages (from tensorboard) (57.4.0)\n",
            "Requirement already satisfied: absl-py>=0.4 in /usr/local/lib/python3.8/dist-packages (from tensorboard) (1.3.0)\n",
            "Requirement already satisfied: numpy>=1.12.0 in /usr/local/lib/python3.8/dist-packages (from tensorboard) (1.21.6)\n",
            "Requirement already satisfied: protobuf<4,>=3.9.2 in /usr/local/lib/python3.8/dist-packages (from tensorboard) (3.19.6)\n",
            "Requirement already satisfied: tensorboard-data-server<0.7.0,>=0.6.0 in /usr/local/lib/python3.8/dist-packages (from tensorboard) (0.6.1)\n",
            "Requirement already satisfied: tensorboard-plugin-wit>=1.6.0 in /usr/local/lib/python3.8/dist-packages (from tensorboard) (1.8.1)\n",
            "Requirement already satisfied: google-auth<3,>=1.6.3 in /usr/local/lib/python3.8/dist-packages (from tensorboard) (2.15.0)\n",
            "Requirement already satisfied: google-auth-oauthlib<0.5,>=0.4.1 in /usr/local/lib/python3.8/dist-packages (from tensorboard) (0.4.6)\n",
            "Requirement already satisfied: grpcio>=1.24.3 in /usr/local/lib/python3.8/dist-packages (from tensorboard) (1.51.1)\n",
            "Requirement already satisfied: werkzeug>=1.0.1 in /usr/local/lib/python3.8/dist-packages (from tensorboard) (1.0.1)\n",
            "Requirement already satisfied: wheel>=0.26 in /usr/local/lib/python3.8/dist-packages (from tensorboard) (0.38.4)\n",
            "Requirement already satisfied: cachetools<6.0,>=2.0.0 in /usr/local/lib/python3.8/dist-packages (from google-auth<3,>=1.6.3->tensorboard) (5.2.0)\n",
            "Requirement already satisfied: rsa<5,>=3.1.4 in /usr/local/lib/python3.8/dist-packages (from google-auth<3,>=1.6.3->tensorboard) (4.9)\n",
            "Requirement already satisfied: six>=1.9.0 in /usr/local/lib/python3.8/dist-packages (from google-auth<3,>=1.6.3->tensorboard) (1.15.0)\n",
            "Requirement already satisfied: pyasn1-modules>=0.2.1 in /usr/local/lib/python3.8/dist-packages (from google-auth<3,>=1.6.3->tensorboard) (0.2.8)\n",
            "Requirement already satisfied: requests-oauthlib>=0.7.0 in /usr/local/lib/python3.8/dist-packages (from google-auth-oauthlib<0.5,>=0.4.1->tensorboard) (1.3.1)\n",
            "Requirement already satisfied: importlib-metadata>=4.4 in /usr/local/lib/python3.8/dist-packages (from markdown>=2.6.8->tensorboard) (5.2.0)\n",
            "Requirement already satisfied: certifi>=2017.4.17 in /usr/local/lib/python3.8/dist-packages (from requests<3,>=2.21.0->tensorboard) (2022.12.7)\n",
            "Requirement already satisfied: urllib3<1.27,>=1.21.1 in /usr/local/lib/python3.8/dist-packages (from requests<3,>=2.21.0->tensorboard) (1.24.3)\n",
            "Requirement already satisfied: chardet<5,>=3.0.2 in /usr/local/lib/python3.8/dist-packages (from requests<3,>=2.21.0->tensorboard) (4.0.0)\n",
            "Requirement already satisfied: idna<3,>=2.5 in /usr/local/lib/python3.8/dist-packages (from requests<3,>=2.21.0->tensorboard) (2.10)\n",
            "Requirement already satisfied: zipp>=0.5 in /usr/local/lib/python3.8/dist-packages (from importlib-metadata>=4.4->markdown>=2.6.8->tensorboard) (3.11.0)\n",
            "Requirement already satisfied: pyasn1<0.5.0,>=0.4.6 in /usr/local/lib/python3.8/dist-packages (from pyasn1-modules>=0.2.1->google-auth<3,>=1.6.3->tensorboard) (0.4.8)\n",
            "Requirement already satisfied: oauthlib>=3.0.0 in /usr/local/lib/python3.8/dist-packages (from requests-oauthlib>=0.7.0->google-auth-oauthlib<0.5,>=0.4.1->tensorboard) (3.2.2)\n",
            "\u001b[31mERROR: Operation cancelled by user\u001b[0m\u001b[31m\n",
            "\u001b[0mTraceback (most recent call last):\n",
            "  File \"/usr/local/lib/python3.8/dist-packages/pip/_vendor/pkg_resources/__init__.py\", line 3021, in _dep_map\n",
            "    return self.__dep_map\n",
            "  File \"/usr/local/lib/python3.8/dist-packages/pip/_vendor/pkg_resources/__init__.py\", line 2815, in __getattr__\n",
            "    raise AttributeError(attr)\n",
            "AttributeError: _DistInfoDistribution__dep_map\n",
            "\n",
            "During handling of the above exception, another exception occurred:\n",
            "\n",
            "Traceback (most recent call last):\n",
            "  File \"/usr/local/lib/python3.8/dist-packages/pip/_internal/cli/base_command.py\", line 167, in exc_logging_wrapper\n",
            "    status = run_func(*args)\n",
            "  File \"/usr/local/lib/python3.8/dist-packages/pip/_internal/cli/req_command.py\", line 199, in wrapper\n",
            "    return func(self, options, args)\n",
            "  File \"/usr/local/lib/python3.8/dist-packages/pip/_internal/commands/install.py\", line 397, in run\n",
            "    conflicts = self._determine_conflicts(to_install)\n",
            "  File \"/usr/local/lib/python3.8/dist-packages/pip/_internal/commands/install.py\", line 529, in _determine_conflicts\n",
            "    return check_install_conflicts(to_install)\n",
            "  File \"/usr/local/lib/python3.8/dist-packages/pip/_internal/operations/check.py\", line 101, in check_install_conflicts\n",
            "    package_set, _ = create_package_set_from_installed()\n",
            "  File \"/usr/local/lib/python3.8/dist-packages/pip/_internal/operations/check.py\", line 42, in create_package_set_from_installed\n",
            "    dependencies = list(dist.iter_dependencies())\n",
            "  File \"/usr/local/lib/python3.8/dist-packages/pip/_internal/metadata/pkg_resources.py\", line 202, in iter_dependencies\n",
            "    return self._dist.requires(extras)\n",
            "  File \"/usr/local/lib/python3.8/dist-packages/pip/_vendor/pkg_resources/__init__.py\", line 2736, in requires\n",
            "    dm = self._dep_map\n",
            "  File \"/usr/local/lib/python3.8/dist-packages/pip/_vendor/pkg_resources/__init__.py\", line 3023, in _dep_map\n",
            "    self.__dep_map = self._compute_dependencies()\n",
            "  File \"/usr/local/lib/python3.8/dist-packages/pip/_vendor/pkg_resources/__init__.py\", line 3033, in _compute_dependencies\n",
            "    reqs.extend(parse_requirements(req))\n",
            "  File \"/usr/local/lib/python3.8/dist-packages/pip/_vendor/pkg_resources/__init__.py\", line 3094, in parse_requirements\n",
            "    yield Requirement(line)\n",
            "  File \"/usr/local/lib/python3.8/dist-packages/pip/_vendor/pkg_resources/__init__.py\", line 3101, in __init__\n",
            "    super(Requirement, self).__init__(requirement_string)\n",
            "  File \"/usr/local/lib/python3.8/dist-packages/pip/_vendor/packaging/requirements.py\", line 102, in __init__\n",
            "    req = REQUIREMENT.parseString(requirement_string)\n",
            "  File \"/usr/local/lib/python3.8/dist-packages/pip/_vendor/pyparsing/core.py\", line 1124, in parse_string\n",
            "    loc, tokens = self._parse(instring, 0)\n",
            "  File \"/usr/local/lib/python3.8/dist-packages/pip/_vendor/pyparsing/core.py\", line 810, in _parseNoCache\n",
            "    loc, tokens = self.parseImpl(instring, pre_loc, doActions)\n",
            "  File \"/usr/local/lib/python3.8/dist-packages/pip/_vendor/pyparsing/core.py\", line 3863, in parseImpl\n",
            "    loc, exprtokens = e._parse(instring, loc, doActions)\n",
            "  File \"/usr/local/lib/python3.8/dist-packages/pip/_vendor/pyparsing/core.py\", line 810, in _parseNoCache\n",
            "    loc, tokens = self.parseImpl(instring, pre_loc, doActions)\n",
            "  File \"/usr/local/lib/python3.8/dist-packages/pip/_vendor/pyparsing/core.py\", line 4091, in parseImpl\n",
            "    return e._parse(\n",
            "  File \"/usr/local/lib/python3.8/dist-packages/pip/_vendor/pyparsing/core.py\", line 810, in _parseNoCache\n",
            "    loc, tokens = self.parseImpl(instring, pre_loc, doActions)\n",
            "  File \"/usr/local/lib/python3.8/dist-packages/pip/_vendor/pyparsing/core.py\", line 3863, in parseImpl\n",
            "    loc, exprtokens = e._parse(instring, loc, doActions)\n",
            "  File \"/usr/local/lib/python3.8/dist-packages/pip/_vendor/pyparsing/core.py\", line 810, in _parseNoCache\n",
            "    loc, tokens = self.parseImpl(instring, pre_loc, doActions)\n",
            "  File \"/usr/local/lib/python3.8/dist-packages/pip/_vendor/pyparsing/core.py\", line 4936, in parseImpl\n",
            "    loc, tokens = self_expr._parse(instring, loc, doActions, callPreParse=False)\n",
            "  File \"/usr/local/lib/python3.8/dist-packages/pip/_vendor/pyparsing/core.py\", line 810, in _parseNoCache\n",
            "    loc, tokens = self.parseImpl(instring, pre_loc, doActions)\n",
            "  File \"/usr/local/lib/python3.8/dist-packages/pip/_vendor/pyparsing/core.py\", line 3863, in parseImpl\n",
            "    loc, exprtokens = e._parse(instring, loc, doActions)\n",
            "  File \"/usr/local/lib/python3.8/dist-packages/pip/_vendor/pyparsing/core.py\", line 810, in _parseNoCache\n",
            "    loc, tokens = self.parseImpl(instring, pre_loc, doActions)\n",
            "  File \"/usr/local/lib/python3.8/dist-packages/pip/_vendor/pyparsing/core.py\", line 3863, in parseImpl\n",
            "    loc, exprtokens = e._parse(instring, loc, doActions)\n",
            "  File \"/usr/local/lib/python3.8/dist-packages/pip/_vendor/pyparsing/core.py\", line 810, in _parseNoCache\n",
            "    loc, tokens = self.parseImpl(instring, pre_loc, doActions)\n",
            "  File \"/usr/local/lib/python3.8/dist-packages/pip/_vendor/pyparsing/core.py\", line 5203, in parseImpl\n",
            "    return super().parseImpl(instring, loc, doActions)\n",
            "  File \"/usr/local/lib/python3.8/dist-packages/pip/_vendor/pyparsing/core.py\", line 4352, in parseImpl\n",
            "    return self.expr._parse(instring, loc, doActions, callPreParse=False)\n",
            "  File \"/usr/local/lib/python3.8/dist-packages/pip/_vendor/pyparsing/core.py\", line 810, in _parseNoCache\n",
            "    loc, tokens = self.parseImpl(instring, pre_loc, doActions)\n",
            "  File \"/usr/local/lib/python3.8/dist-packages/pip/_vendor/pyparsing/core.py\", line 3841, in parseImpl\n",
            "    loc, resultlist = self.exprs[0]._parse(\n",
            "  File \"/usr/local/lib/python3.8/dist-packages/pip/_vendor/pyparsing/core.py\", line 810, in _parseNoCache\n",
            "    loc, tokens = self.parseImpl(instring, pre_loc, doActions)\n",
            "  File \"/usr/local/lib/python3.8/dist-packages/pip/_vendor/pyparsing/core.py\", line 4091, in parseImpl\n",
            "    return e._parse(\n",
            "  File \"/usr/local/lib/python3.8/dist-packages/pip/_vendor/pyparsing/core.py\", line 810, in _parseNoCache\n",
            "    loc, tokens = self.parseImpl(instring, pre_loc, doActions)\n",
            "  File \"/usr/local/lib/python3.8/dist-packages/pip/_vendor/pyparsing/core.py\", line 4352, in parseImpl\n",
            "    return self.expr._parse(instring, loc, doActions, callPreParse=False)\n",
            "  File \"/usr/local/lib/python3.8/dist-packages/pip/_vendor/pyparsing/core.py\", line 810, in _parseNoCache\n",
            "    loc, tokens = self.parseImpl(instring, pre_loc, doActions)\n",
            "  File \"/usr/local/lib/python3.8/dist-packages/pip/_vendor/pyparsing/core.py\", line 3841, in parseImpl\n",
            "    loc, resultlist = self.exprs[0]._parse(\n",
            "  File \"/usr/local/lib/python3.8/dist-packages/pip/_vendor/pyparsing/core.py\", line 810, in _parseNoCache\n",
            "    loc, tokens = self.parseImpl(instring, pre_loc, doActions)\n",
            "  File \"/usr/local/lib/python3.8/dist-packages/pip/_vendor/pyparsing/core.py\", line 4091, in parseImpl\n",
            "    return e._parse(\n",
            "  File \"/usr/local/lib/python3.8/dist-packages/pip/_vendor/pyparsing/core.py\", line 810, in _parseNoCache\n",
            "    loc, tokens = self.parseImpl(instring, pre_loc, doActions)\n",
            "  File \"/usr/local/lib/python3.8/dist-packages/pip/_vendor/pyparsing/core.py\", line 4091, in parseImpl\n",
            "    return e._parse(\n",
            "  File \"/usr/local/lib/python3.8/dist-packages/pip/_vendor/pyparsing/core.py\", line 814, in _parseNoCache\n",
            "    loc, tokens = self.parseImpl(instring, pre_loc, doActions)\n",
            "  File \"/usr/local/lib/python3.8/dist-packages/pip/_vendor/pyparsing/core.py\", line 2332, in parseImpl\n",
            "    raise ParseException(instring, loc, self.errmsg, self)\n",
            "  File \"/usr/local/lib/python3.8/dist-packages/pip/_vendor/pyparsing/exceptions.py\", line 39, in __init__\n",
            "    self.args = (pstr, loc, msg)\n",
            "KeyboardInterrupt\n",
            "\n",
            "During handling of the above exception, another exception occurred:\n",
            "\n",
            "Traceback (most recent call last):\n",
            "  File \"/usr/local/bin/pip3\", line 8, in <module>\n",
            "    sys.exit(main())\n",
            "  File \"/usr/local/lib/python3.8/dist-packages/pip/_internal/cli/main.py\", line 70, in main\n",
            "    return command.main(cmd_args)\n",
            "  File \"/usr/local/lib/python3.8/dist-packages/pip/_internal/cli/base_command.py\", line 101, in main\n",
            "    return self._main(args)\n",
            "  File \"/usr/local/lib/python3.8/dist-packages/pip/_internal/cli/base_command.py\", line 221, in _main\n",
            "    return run(options, args)\n",
            "  File \"/usr/local/lib/python3.8/dist-packages/pip/_internal/cli/base_command.py\", line 205, in exc_logging_wrapper\n",
            "    logger.debug(\"Exception information:\", exc_info=True)\n",
            "  File \"/usr/lib/python3.8/logging/__init__.py\", line 1434, in debug\n",
            "    self._log(DEBUG, msg, args, **kwargs)\n",
            "  File \"/usr/lib/python3.8/logging/__init__.py\", line 1589, in _log\n",
            "    self.handle(record)\n",
            "  File \"/usr/lib/python3.8/logging/__init__.py\", line 1599, in handle\n",
            "    self.callHandlers(record)\n",
            "  File \"/usr/lib/python3.8/logging/__init__.py\", line 1661, in callHandlers\n",
            "    hdlr.handle(record)\n",
            "  File \"/usr/lib/python3.8/logging/__init__.py\", line 954, in handle\n",
            "    self.emit(record)\n",
            "  File \"/usr/lib/python3.8/logging/handlers.py\", line 71, in emit\n",
            "    logging.FileHandler.emit(self, record)\n",
            "  File \"/usr/lib/python3.8/logging/__init__.py\", line 1187, in emit\n",
            "    StreamHandler.emit(self, record)\n",
            "  File \"/usr/lib/python3.8/logging/__init__.py\", line 1085, in emit\n",
            "    msg = self.format(record)\n",
            "  File \"/usr/lib/python3.8/logging/__init__.py\", line 929, in format\n",
            "    return fmt.format(record)\n",
            "  File \"/usr/local/lib/python3.8/dist-packages/pip/_internal/utils/logging.py\", line 110, in format\n",
            "    formatted = super().format(record)\n",
            "  File \"/usr/lib/python3.8/logging/__init__.py\", line 676, in format\n",
            "    record.exc_text = self.formatException(record.exc_info)\n",
            "  File \"/usr/lib/python3.8/logging/__init__.py\", line 626, in formatException\n",
            "    traceback.print_exception(ei[0], ei[1], tb, None, sio)\n",
            "  File \"/usr/lib/python3.8/traceback.py\", line 103, in print_exception\n",
            "    for line in TracebackException(\n",
            "  File \"/usr/lib/python3.8/traceback.py\", line 508, in __init__\n",
            "    self.stack = StackSummary.extract(\n",
            "  File \"/usr/lib/python3.8/traceback.py\", line 366, in extract\n",
            "    f.line\n",
            "  File \"/usr/lib/python3.8/traceback.py\", line 288, in line\n",
            "    self._line = linecache.getline(self.filename, self.lineno).strip()\n",
            "  File \"/usr/lib/python3.8/linecache.py\", line 16, in getline\n",
            "    lines = getlines(filename, module_globals)\n",
            "  File \"/usr/lib/python3.8/linecache.py\", line 47, in getlines\n",
            "    return updatecache(filename, module_globals)\n",
            "  File \"/usr/lib/python3.8/linecache.py\", line 136, in updatecache\n",
            "    with tokenize.open(fullname) as fp:\n",
            "  File \"/usr/lib/python3.8/tokenize.py\", line 394, in open\n",
            "    encoding, lines = detect_encoding(buffer.readline)\n",
            "  File \"/usr/lib/python3.8/tokenize.py\", line 363, in detect_encoding\n",
            "    first = read_or_stop()\n",
            "  File \"/usr/lib/python3.8/tokenize.py\", line 321, in read_or_stop\n",
            "    return readline()\n",
            "KeyboardInterrupt\n",
            "^C\n"
          ]
        }
      ],
      "source": [
        "!pip install vncorenlp\n",
        "!pip install fastBPE\n",
        "!pip install fairseq\n",
        "!pip install tensorboard --upgrade"
      ]
    },
    {
      "cell_type": "markdown",
      "metadata": {
        "id": "1Xebt1b-IpNd"
      },
      "source": [
        "# Tạo dataset & tiền xử lý dữ liệu\n",
        "\n",
        "## 1. Giải nén file dataset"
      ]
    },
    {
      "cell_type": "code",
      "execution_count": null,
      "metadata": {
        "colab": {
          "base_uri": "https://localhost:8080/"
        },
        "id": "zmuZXV8iu32z",
        "outputId": "1f819678-eb59-47d5-c593-fd0d898b4a94"
      },
      "outputs": [
        {
          "name": "stdout",
          "output_type": "stream",
          "text": [
            "Mounted at /content/drive\n"
          ]
        }
      ],
      "source": [
        "from google.colab import drive\n",
        "drive.mount('/content/drive')"
      ]
    },
    {
      "cell_type": "code",
      "execution_count": null,
      "metadata": {
        "colab": {
          "base_uri": "https://localhost:8080/"
        },
        "id": "62WFokA1vNJm",
        "outputId": "c0ebed2d-320f-4683-b765-48d9d791b7b1"
      },
      "outputs": [
        {
          "name": "stdout",
          "output_type": "stream",
          "text": [
            "/content/drive/MyDrive/CS221\n"
          ]
        }
      ],
      "source": [
        "%cd /content/drive/MyDrive/CS221/"
      ]
    },
    {
      "cell_type": "code",
      "execution_count": null,
      "metadata": {
        "colab": {
          "base_uri": "https://localhost:8080/"
        },
        "id": "1nuE6Xnlf0J9",
        "outputId": "4669abfb-ad89-4165-8c95-6028a980bb1b"
      },
      "outputs": [
        {
          "data": {
            "text/plain": [
              "['PhoBERT_base_transformers',\n",
              " 'PhoBERT_base_transformers.tar.gz',\n",
              " 'UIT-VSMEC',\n",
              " 'vncorenlp',\n",
              " 'data_gui_bao.csv',\n",
              " 'data.csv',\n",
              " 'stopwords.txt',\n",
              " 'runs',\n",
              " 'data_aug.csv',\n",
              " 'data_aug_N.csv',\n",
              " 'data_aug2.csv',\n",
              " 'test.csv',\n",
              " 'data_aug1.csv',\n",
              " 'confusion_matrix.png',\n",
              " 'test_processed.csv',\n",
              " 'pytorch_phoBERT_sentiment.bin',\n",
              " 'test_preprocess.csv',\n",
              " 'data_merged.csv']"
            ]
          },
          "execution_count": 5,
          "metadata": {},
          "output_type": "execute_result"
        }
      ],
      "source": [
        "import os \n",
        "os.listdir()"
      ]
    },
    {
      "cell_type": "markdown",
      "metadata": {
        "id": "wRgvNPW7kzyf"
      },
      "source": [
        "## 2. Lấy danh sách các stopwords"
      ]
    },
    {
      "cell_type": "code",
      "execution_count": null,
      "metadata": {
        "colab": {
          "base_uri": "https://localhost:8080/"
        },
        "id": "YogWTmdRrIuh",
        "outputId": "cbce7e65-973e-4fc0-f543-f742d7710558"
      },
      "outputs": [
        {
          "name": "stdout",
          "output_type": "stream",
          "text": [
            "1942\n"
          ]
        }
      ],
      "source": [
        "stopwords = []\n",
        "\n",
        "with open('stopwords.txt', 'r+', encoding='utf-8') as f:\n",
        "    for line in f:\n",
        "        stopwords.append(line.strip())\n",
        "\n",
        "print(len(stopwords))"
      ]
    },
    {
      "cell_type": "markdown",
      "metadata": {
        "id": "P3bXe7P4kzyf"
      },
      "source": [
        "## 3. Định nghĩa các hàm hỗ trợ tiền xử lý dữ liệu"
      ]
    },
    {
      "cell_type": "code",
      "execution_count": null,
      "metadata": {
        "id": "xlzserkprt5y"
      },
      "outputs": [],
      "source": [
        "import re\n",
        "\n",
        "def strip_emoji(text):\n",
        "\tRE_EMOJI = re.compile(u'([\\U00002600-\\U000027BF])|([\\U0001f300-\\U0001f64F])|([\\U0001f680-\\U0001f6FF])')\n",
        "\treturn RE_EMOJI.sub(r'', text)\n",
        "\n",
        "def remove_special_char(text):\n",
        "\tspecial_character = re.compile(\"�+\")\n",
        "\treturn special_character.sub(r'', text)\n",
        "\n",
        "def remove_punctuation(text):\n",
        "\tpunctuation = re.compile(r\"[!#$%&()*+;<=>?@[\\]^_`{|}~]\")\n",
        "\treturn punctuation.sub(r\"\", text)\n",
        "\n",
        "def remove_number(text):\n",
        "\treturn re.sub(\" \\d+\", \" \", text)\n",
        "\n",
        "def normalize_annotatation(text):\n",
        "\tkhach_san = \"\\bkhach san ?|\\bksan ?|\\bks ?\"\n",
        "\treturn re.sub(\"\\bnv ?\", \"nhân viên\",re.sub(khach_san, \"khách sạn\", text))\n",
        "\n",
        "def clean_text(text):\n",
        "\treturn {\"Review\": normalize_annotatation(remove_number(remove_special_char(remove_punctuation(strip_emoji(text[\"Review\"].lower())))))}\n"
      ]
    },
    {
      "cell_type": "code",
      "execution_count": null,
      "metadata": {
        "id": "O_f_hHOqjmgj"
      },
      "outputs": [],
      "source": [
        "# Tiền xử lý: loại bỏ các dấu , . ! ?,\n",
        "# loại bỏ dấu cách thừa và chuyển string về dạng lowercase.\n",
        "\n",
        "def preprocess(sentence):\n",
        "    sentence = sentence.strip()\n",
        "    sentence = sentence.replace(',', '')\n",
        "    sentence = sentence.replace('.', '')\n",
        "    sentence = sentence.replace('?', '')\n",
        "    sentence = sentence.replace('!', '')\n",
        "    sentence = sentence.replace('\"', '')\n",
        "    sentence = sentence.replace('  ', ' ')\n",
        "\n",
        "    specials_ = {\n",
        "        ':)' : 'colonsmile',\n",
        "        ':(' : 'colonsad',\n",
        "        '@@' : 'colonsurprise',\n",
        "        '<3' : 'colonlove',\n",
        "        ':d' : 'colonsmilesmile',\n",
        "        ':3' : 'coloncontemn',\n",
        "        ':v' : 'colonbigsmile',\n",
        "        ':_' : 'coloncc',\n",
        "        ':p' : 'colonsmallsmile',\n",
        "        '>>' : 'coloncolon',\n",
        "        ':\">' : 'colonlovelove',\n",
        "        '^^' : 'colonhihi',\n",
        "        ':' : 'doubledot',\n",
        "        \":'(\" : 'colonsadcolon',\n",
        "        ':’(' : 'colonsadcolon',\n",
        "        ':@' : 'colondoublesurprise',\n",
        "        'v.v' : 'vdotv',\n",
        "        '...' : 'dotdotdot',\n",
        "        '/' : 'fraction',\n",
        "        'c#' : 'cshrap',\n",
        "    }\n",
        "\n",
        "    for key in specials_.keys():\n",
        "        sentence = sentence.replace(key, specials_[key])\n",
        "    return sentence.lower().strip()"
      ]
    },
    {
      "cell_type": "code",
      "execution_count": null,
      "metadata": {
        "id": "gilw34_urVA6"
      },
      "outputs": [],
      "source": []
    },
    {
      "cell_type": "markdown",
      "metadata": {
        "id": "krLLvOR3kzyg"
      },
      "source": [
        "## 4. Tạo dataset"
      ]
    },
    {
      "cell_type": "markdown",
      "metadata": {
        "id": "RUFfa9tTLY1-"
      },
      "source": [
        "Phần dataset train & test (tui list ra vầy mà Bảo cho tui cái 1, 2, 3, 4 là đc ròi, 5 vs 6 Bảo hông làm cũng đc):\n",
        "1. show sample data (10 câu)\n",
        "2. chart distribution thống kê class\n",
        "3. sample 3 câu cho mỗi class\n",
        "4. thống kê distrubution độ dài câu\n",
        "5. sample câu min, max và câu vs 3 câu nằm trong nhóm freq từ phổ biến nhất\n",
        "6. chồng 2 cái chart dis (để nói về correlation)"
      ]
    },
    {
      "cell_type": "code",
      "execution_count": null,
      "metadata": {
        "colab": {
          "base_uri": "https://localhost:8080/"
        },
        "id": "AQWqFJL7pkjo",
        "outputId": "2f3c1d62-ad0f-4bf6-9bda-b2213a5eff6b"
      },
      "outputs": [
        {
          "name": "stdout",
          "output_type": "stream",
          "text": [
            "Review:  Tuy không tiện nghi nhưng giá cả bình dân nhất Quy Nhơn\n",
            "Label:  4\n",
            "Review:  Giường hơi mềm, không phù hợp lắm với người bị đau lưng\n",
            "Label:  3\n",
            "Review:  Có thể do dịch nên ít khách. Phòng có mùi mốc\n",
            "Label:  2\n",
            "Review:  Cách âm kém, ko có hỗ trợ KH về các vật dụng mượn thêm vào buổi tối (như tô muỗng)\n",
            "Label:  2\n",
            "Review:  30/4 vừa rồi đông khách, vợ mình đợi 30\" chưa đi được thang máy.\n",
            "Label:  3\n",
            "Review:  Có chỗ để xe máy ở tầng trệt, ở trong hẻm nhưng đường đủ rộng để xe 4 bánh vào tới nơi.\n",
            "Label:  2\n",
            "Review:  Phòng sạch sẽ gọn gàng, nhân viên nhiệt tình thân thiện và chu đáo.\n",
            "Label:  5\n",
            "Review:  Phòng khá cũ. Mình ở 2 lần 1 lần ở phòng bình thường thì thấy ok. 1 lần ở studio view biển thất vọng thực sự. View biển đã bị chắn bởi công trình (này thì không phải lỗi của khách sạn nhưng hơi bị trái so với kì vọng của mình). Phòng thì cực kì nóng nực. Lúc mới check in vô thì bật điều hoà đúng mode và nhiệt độ thấp nhưng vẫn cực kì nóng. Gọi nhân viên lễ tân thì bạn nói câu “biết sao không?” nghe rất chối với khách hàng. Đến ngày hôm sau qua đêm rồi vẫn nóng và gọi lễ tân lần nữa thì lại có câu trả lời tương tự về việc phòng hấp hơi nhiều kính, không chủ động hỏi khách cần quạt hay cho người lên check, phải để mình yêu cầu mà vẫn còn lưỡng lự. Thực sự sau lần này chắc sẽ không quay lại nữa.\n",
            "Label:  1\n",
            "Review:  Khách sạn gần trung tâm đi lại khá tiện. Phòng ốc xịn xò sạch sẽ. Mình book được phòng view nhìn chếch ra biển khá chill\n",
            "Label:  4\n",
            "Review:  Khu trung tâm, tiện lợi. phòng đẹp, sạch sẽ.\n",
            "Label:  5\n"
          ]
        }
      ],
      "source": [
        "#y 1\n",
        "for i in range(10,20):\n",
        "    # print(train_dataset.iloc[i][\"label\"])\n",
        "    # print(train_dataset.iloc[i][\"Review\"])\n",
        "    print(\"Review: \", train_dataset.iloc[i][\"Review\"])\n",
        "    print(\"Label: \", train_dataset.iloc[i][\"labels\"])\n"
      ]
    },
    {
      "cell_type": "code",
      "execution_count": null,
      "metadata": {
        "colab": {
          "base_uri": "https://localhost:8080/",
          "height": 276
        },
        "id": "ZzmulSPo-ykG",
        "outputId": "54cb1407-9147-4079-c894-16a9d65a8e43"
      },
      "outputs": [
        {
          "data": {
            "image/png": "[encoded data removed]",
            "text/plain": [
              "<Figure size 432x288 with 1 Axes>"
            ]
          },
          "metadata": {
            "needs_background": "light"
          },
          "output_type": "display_data"
        }
      ],
      "source": [
        "#Dữ liệu trước khi tăng cường\n",
        "train_dataset = pd.read_csv(\"data.csv\")\n",
        "count = train_dataset['labels'].value_counts()\n",
        "count.plot.bar()\n",
        "plt.ylabel('Label')\n",
        "plt.xlabel('Total train samples')\n",
        "plt.show()"
      ]
    },
    {
      "cell_type": "code",
      "execution_count": null,
      "metadata": {
        "colab": {
          "base_uri": "https://localhost:8080/",
          "height": 282
        },
        "id": "UVdvaaUTrKbo",
        "outputId": "1a18a09d-347c-43ed-b13b-4ddf1c6e92bb"
      },
      "outputs": [
        {
          "data": {
            "text/plain": [
              "<matplotlib.axes._subplots.AxesSubplot at 0x7faa256c90a0>"
            ]
          },
          "execution_count": 20,
          "metadata": {},
          "output_type": "execute_result"
        },
        {
          "data": {
            "image/png": "[encoded data removed]",
            "text/plain": [
              "<Figure size 432x288 with 1 Axes>"
            ]
          },
          "metadata": {
            "needs_background": "light"
          },
          "output_type": "display_data"
        }
      ],
      "source": [
        "train_dataset['Review'].str.len().hist()"
      ]
    },
    {
      "cell_type": "code",
      "execution_count": null,
      "metadata": {
        "colab": {
          "base_uri": "https://localhost:8080/",
          "height": 621
        },
        "id": "F6qhJMaCsu7O",
        "outputId": "1ca22066-2b2b-467f-f603-78be5d76b881"
      },
      "outputs": [
        {
          "data": {
            "image/png": "[encoded data removed]",
            "text/plain": [
              "<Figure size 1080x720 with 1 Axes>"
            ]
          },
          "metadata": {
            "needs_background": "light"
          },
          "output_type": "display_data"
        }
      ],
      "source": [
        "train_dataset[\"word_count\"] = train_dataset[\"Review\"].apply(lambda x: len(str(x).split(\" \")))\n",
        "#visualize number word in each label\n",
        "plt.figure(figsize=(15,10))\n",
        "plt.title(\"Number word in each review \")\n",
        "plt.xlabel(\"Label\")\n",
        "plt.ylabel(\"Number word\")\n",
        "plt.hist(train_dataset['word_count'],bins=100,alpha=0.5,label='1')\n",
        "# plt.hist(train_dataset[train_dataset['labels']==2]['word_count'],bins=100,alpha=0.5,label='2')\n",
        "# #plt.hist(train_dataset[train_dataset['labels']==3]['word_count'],bins=100,alpha=0.5,label='3')\n",
        "# #plt.hist(train_dataset[train_dataset['labels']==4]['word_count'],bins=100,alpha=0.5,label='4')\n",
        "# plt.hist(train_dataset[train_dataset['labels']==5]['word_count'],bins=100,alpha=0.5,label='5')\n",
        "plt.legend(loc='upper right')\n",
        "plt.show()"
      ]
    },
    {
      "cell_type": "code",
      "execution_count": null,
      "metadata": {
        "colab": {
          "base_uri": "https://localhost:8080/",
          "height": 621
        },
        "id": "w2gfKboVr773",
        "outputId": "3190a2ec-6b2f-47fa-90b2-6beeec381373"
      },
      "outputs": [
        {
          "data": {
            "image/png": "[encoded data removed]",
            "text/plain": [
              "<Figure size 1080x720 with 1 Axes>"
            ]
          },
          "metadata": {
            "needs_background": "light"
          },
          "output_type": "display_data"
        }
      ],
      "source": [
        "train_dataset[\"word_count\"] = train_dataset[\"Review\"].apply(lambda x: len(str(x).split(\" \")))\n",
        "#visualize number word in each label\n",
        "plt.figure(figsize=(15,10))\n",
        "plt.title(\"Number word in each label\")\n",
        "plt.xlabel(\"Label\")\n",
        "plt.ylabel(\"Number word\")\n",
        "plt.hist(train_dataset[train_dataset['labels']==1]['word_count'],bins=100,alpha=0.5,label='1')\n",
        "plt.hist(train_dataset[train_dataset['labels']==2]['word_count'],bins=100,alpha=0.5,label='2')\n",
        "plt.hist(train_dataset[train_dataset['labels']==3]['word_count'],bins=100,alpha=0.5,label='3')\n",
        "plt.hist(train_dataset[train_dataset['labels']==4]['word_count'],bins=100,alpha=0.5,label='4')\n",
        "plt.hist(train_dataset[train_dataset['labels']==5]['word_count'],bins=100,alpha=0.5,label='5')\n",
        "plt.legend(loc='upper right')\n",
        "plt.show()"
      ]
    },
    {
      "cell_type": "code",
      "execution_count": null,
      "metadata": {
        "colab": {
          "base_uri": "https://localhost:8080/",
          "height": 293
        },
        "id": "hjvRjGFmsmkS",
        "outputId": "f1680d1f-32bb-43ce-8ad3-5171a3ea7106"
      },
      "outputs": [
        {
          "data": {
            "text/plain": [
              "<matplotlib.axes._subplots.AxesSubplot at 0x7faa24e22520>"
            ]
          },
          "execution_count": 25,
          "metadata": {},
          "output_type": "execute_result"
        },
        {
          "data": {
            "image/png": "[encoded data removed]",
            "text/plain": [
              "<Figure size 432x288 with 1 Axes>"
            ]
          },
          "metadata": {
            "needs_background": "light"
          },
          "output_type": "display_data"
        }
      ],
      "source": [
        "train_dataset[['labels','word_count']].groupby(['labels']).mean().plot.bar()"
      ]
    },
    {
      "cell_type": "code",
      "execution_count": null,
      "metadata": {
        "id": "L6-COzmMsmp_"
      },
      "outputs": [],
      "source": [
        "train_dataset[['labels','word_count']].groupby(['labels']).mean().plot.bar()"
      ]
    },
    {
      "cell_type": "code",
      "execution_count": null,
      "metadata": {
        "colab": {
          "base_uri": "https://localhost:8080/"
        },
        "id": "fx95On6Up_uH",
        "outputId": "8df5e1e3-0ae1-4e36-8268-873b0096b608"
      },
      "outputs": [
        {
          "name": "stdout",
          "output_type": "stream",
          "text": [
            "Label:  1\n",
            "Mình đã đặt 11 phòng cho kì nghỉ và rất thất vọng.\n",
            "khách ở từ thứ 3 đến thứ 7, mà khách sạn không hề lau dọn phòng.\n",
            "Thiếu nhiều vật dung cơ bản: khăn giấy trên phòng, bàn là hỏi nhân viên nhiều lần mới có do cả Ks có 1 bàn là duy nhất.\n",
            "Label:  2\n",
            "Khe vịn mở cửa tủ quần áo hơi cạn nên khi mở hơi khó, dễ gãy móng tay, nên khoét sâu hơn hoặc có nắm cửa bên ngoài.\n",
            "Cách âm kém, đêm hôm phòng bên cạnh cười nghe rõ. Không có nhân viên hỗ trợ xách đồ. View biển nhưng trước mặt có công trình xây dựng\n",
            "Vị trí gần biển nhưng do khách sạn nằm trong ngõ nên view biển căn góc không thực sự đẹp như trong hình\n",
            "Label:  3\n",
            "Cá nhân mình thấy phòng hơi thiếu sáng\n",
            "Tiện nghi có một số hạn chế. Không có bàn ủi trong phòng, muốn ủi đồ phải thuê khách sạn. Đối với ks 4 sao thì tôi thấy đây là khuyết điểm\n",
            "Máy lạnh Daikin nhưng điều khiển chỉ cho tắt mở và tăng giảm nhiệt chứ không điều chỉnh được chế độ quạt và làm lạnh.\n",
            "Label:  4\n",
            "Khách sạn gần trung tâm đi lại khá tiện. Phòng ốc xịn xò sạch sẽ. Mình book được phòng view nhìn chếch ra biển khá chill\n",
            "Vị trí đẹp. Nhân viên thân thiện nhiệt tình. Gần khu vực ăn uống\n",
            "Chú chủ khách sạn và nhân viên siêu dễ thương\n",
            "Label:  5\n",
            "Phòng thoải mái, khá rộng, có bếp và dụng cụ có thể nấu ăn chung. Tiện nghi đầy đủ giá tốt\n",
            "Phòng rộng. sạch sẽ. có thể ở tới 4 người\n",
            "Tuy ảnh hưởng mùa covid không hỗ trợ được trực tiếp nhưng hỗ trợ online với thái độ thân thiện, nhanh chóng và chính xác.\n"
          ]
        }
      ],
      "source": [
        "labels_list=[1,2,3,4,5]\n",
        "for label in labels_list:\n",
        "    #print 3 samples for each label\n",
        "    print(\"Label: \",label)\n",
        "    df_label=train_dataset[train_dataset['labels']==label]\n",
        "    #print review 3 sample \n",
        "    print(df_label['Review'].iloc[3])\n",
        "    print(df_label['Review'].iloc[5])\n",
        "    print(df_label['Review'].iloc[10])"
      ]
    },
    {
      "cell_type": "code",
      "execution_count": null,
      "metadata": {
        "colab": {
          "base_uri": "https://localhost:8080/"
        },
        "id": "TiJ7TBbgtlXk",
        "outputId": "657278ba-b441-4357-b44d-50b478c95d31"
      },
      "outputs": [
        {
          "name": "stderr",
          "output_type": "stream",
          "text": [
            "<ipython-input-29-9d97a01ded0a>:1: UserWarning: Boolean Series key will be reindexed to match DataFrame index.\n",
            "  near_avg=train_dataset[train_dataset['word_count']<35][train_dataset['word_count']>30]\n"
          ]
        }
      ],
      "source": [
        "near_avg=train_dataset[train_dataset['word_count']<35][train_dataset['word_count']>30]"
      ]
    },
    {
      "cell_type": "code",
      "execution_count": null,
      "metadata": {
        "colab": {
          "base_uri": "https://localhost:8080/",
          "height": 206
        },
        "id": "TFmWF6sXtnRB",
        "outputId": "e51640e3-6a64-4faa-92c7-0082995af070"
      },
      "outputs": [
        {
          "data": {
            "text/html": [
              "\n",
              "  <div id=\"df-758182ca-a5ed-4a85-b071-5fabd4d23c26\">\n",
              "    <div class=\"colab-df-container\">\n",
              "      <div>\n",
              "<style scoped>\n",
              "    .dataframe tbody tr th:only-of-type {\n",
              "        vertical-align: middle;\n",
              "    }\n",
              "\n",
              "    .dataframe tbody tr th {\n",
              "        vertical-align: top;\n",
              "    }\n",
              "\n",
              "    .dataframe thead th {\n",
              "        text-align: right;\n",
              "    }\n",
              "</style>\n",
              "<table border=\"1\" class=\"dataframe\">\n",
              "  <thead>\n",
              "    <tr style=\"text-align: right;\">\n",
              "      <th></th>\n",
              "      <th>labels</th>\n",
              "      <th>Review</th>\n",
              "      <th>word_count</th>\n",
              "    </tr>\n",
              "  </thead>\n",
              "  <tbody>\n",
              "    <tr>\n",
              "      <th>22</th>\n",
              "      <td>5</td>\n",
              "      <td>Nhân viên phục vụ rất nhiệt tình, giá cả cũng ...</td>\n",
              "      <td>32</td>\n",
              "    </tr>\n",
              "    <tr>\n",
              "      <th>48</th>\n",
              "      <td>5</td>\n",
              "      <td>Khách sạn mới, sạch sẽ, ở vị trí thuận lợi. Nh...</td>\n",
              "      <td>32</td>\n",
              "    </tr>\n",
              "    <tr>\n",
              "      <th>51</th>\n",
              "      <td>4</td>\n",
              "      <td>Từ nhân viên đến bạn quản lý ai đều rất thân t...</td>\n",
              "      <td>34</td>\n",
              "    </tr>\n",
              "    <tr>\n",
              "      <th>57</th>\n",
              "      <td>5</td>\n",
              "      <td>JW Marriott đa phần có dịch vụ tốt. Không phải...</td>\n",
              "      <td>31</td>\n",
              "    </tr>\n",
              "    <tr>\n",
              "      <th>81</th>\n",
              "      <td>5</td>\n",
              "      <td>Dịch vụ ok.ql thân thiện , Nv phục vụ chuẩn k ...</td>\n",
              "      <td>32</td>\n",
              "    </tr>\n",
              "  </tbody>\n",
              "</table>\n",
              "</div>\n",
              "      <button class=\"colab-df-convert\" onclick=\"convertToInteractive('df-758182ca-a5ed-4a85-b071-5fabd4d23c26')\"\n",
              "              title=\"Convert this dataframe to an interactive table.\"\n",
              "              style=\"display:none;\">\n",
              "        \n",
              "  <svg xmlns=\"http://www.w3.org/2000/svg\" height=\"24px\"viewBox=\"0 0 24 24\"\n",
              "       width=\"24px\">\n",
              "    <path d=\"M0 0h24v24H0V0z\" fill=\"none\"/>\n",
              "    <path d=\"M18.56 5.44l.94 2.06.94-2.06 2.06-.94-2.06-.94-.94-2.06-.94 2.06-2.06.94zm-11 1L8.5 8.5l.94-2.06 2.06-.94-2.06-.94L8.5 2.5l-.94 2.06-2.06.94zm10 10l.94 2.06.94-2.06 2.06-.94-2.06-.94-.94-2.06-.94 2.06-2.06.94z\"/><path d=\"M17.41 7.96l-1.37-1.37c-.4-.4-.92-.59-1.43-.59-.52 0-1.04.2-1.43.59L10.3 9.45l-7.72 7.72c-.78.78-.78 2.05 0 2.83L4 21.41c.39.39.9.59 1.41.59.51 0 1.02-.2 1.41-.59l7.78-7.78 2.81-2.81c.8-.78.8-2.07 0-2.86zM5.41 20L4 18.59l7.72-7.72 1.47 1.35L5.41 20z\"/>\n",
              "  </svg>\n",
              "      </button>\n",
              "      \n",
              "  <style>\n",
              "    .colab-df-container {\n",
              "      display:flex;\n",
              "      flex-wrap:wrap;\n",
              "      gap: 12px;\n",
              "    }\n",
              "\n",
              "    .colab-df-convert {\n",
              "      background-color: #E8F0FE;\n",
              "      border: none;\n",
              "      border-radius: 50%;\n",
              "      cursor: pointer;\n",
              "      display: none;\n",
              "      fill: #1967D2;\n",
              "      height: 32px;\n",
              "      padding: 0 0 0 0;\n",
              "      width: 32px;\n",
              "    }\n",
              "\n",
              "    .colab-df-convert:hover {\n",
              "      background-color: #E2EBFA;\n",
              "      box-shadow: 0px 1px 2px rgba(60, 64, 67, 0.3), 0px 1px 3px 1px rgba(60, 64, 67, 0.15);\n",
              "      fill: #174EA6;\n",
              "    }\n",
              "\n",
              "    [theme=dark] .colab-df-convert {\n",
              "      background-color: #3B4455;\n",
              "      fill: #D2E3FC;\n",
              "    }\n",
              "\n",
              "    [theme=dark] .colab-df-convert:hover {\n",
              "      background-color: #434B5C;\n",
              "      box-shadow: 0px 1px 3px 1px rgba(0, 0, 0, 0.15);\n",
              "      filter: drop-shadow(0px 1px 2px rgba(0, 0, 0, 0.3));\n",
              "      fill: #FFFFFF;\n",
              "    }\n",
              "  </style>\n",
              "\n",
              "      <script>\n",
              "        const buttonEl =\n",
              "          document.querySelector('#df-758182ca-a5ed-4a85-b071-5fabd4d23c26 button.colab-df-convert');\n",
              "        buttonEl.style.display =\n",
              "          google.colab.kernel.accessAllowed ? 'block' : 'none';\n",
              "\n",
              "        async function convertToInteractive(key) {\n",
              "          const element = document.querySelector('#df-758182ca-a5ed-4a85-b071-5fabd4d23c26');\n",
              "          const dataTable =\n",
              "            await google.colab.kernel.invokeFunction('convertToInteractive',\n",
              "                                                     [key], {});\n",
              "          if (!dataTable) return;\n",
              "\n",
              "          const docLinkHtml = 'Like what you see? Visit the ' +\n",
              "            '<a target=\"_blank\" href=https://colab.research.google.com/notebooks/data_table.ipynb>data table notebook</a>'\n",
              "            + ' to learn more about interactive tables.';\n",
              "          element.innerHTML = '';\n",
              "          dataTable['output_type'] = 'display_data';\n",
              "          await google.colab.output.renderOutput(dataTable, element);\n",
              "          const docLink = document.createElement('div');\n",
              "          docLink.innerHTML = docLinkHtml;\n",
              "          element.appendChild(docLink);\n",
              "        }\n",
              "      </script>\n",
              "    </div>\n",
              "  </div>\n",
              "  "
            ],
            "text/plain": [
              "    labels                                             Review  word_count\n",
              "22       5  Nhân viên phục vụ rất nhiệt tình, giá cả cũng ...          32\n",
              "48       5  Khách sạn mới, sạch sẽ, ở vị trí thuận lợi. Nh...          32\n",
              "51       4  Từ nhân viên đến bạn quản lý ai đều rất thân t...          34\n",
              "57       5  JW Marriott đa phần có dịch vụ tốt. Không phải...          31\n",
              "81       5  Dịch vụ ok.ql thân thiện , Nv phục vụ chuẩn k ...          32"
            ]
          },
          "execution_count": 31,
          "metadata": {},
          "output_type": "execute_result"
        }
      ],
      "source": [
        "near_avg[:5]#top 5 cau trung binh"
      ]
    },
    {
      "cell_type": "code",
      "execution_count": null,
      "metadata": {
        "colab": {
          "base_uri": "https://localhost:8080/"
        },
        "id": "JSyvdP41pLmt",
        "outputId": "0eca8903-9cec-49da-b506-9eb86ca76288"
      },
      "outputs": [
        {
          "data": {
            "text/plain": [
              "32.626490066225166"
            ]
          },
          "execution_count": 28,
          "metadata": {},
          "output_type": "execute_result"
        }
      ],
      "source": [
        "train_dataset['word_count'].mean()"
      ]
    },
    {
      "cell_type": "code",
      "execution_count": null,
      "metadata": {
        "id": "U8w2n6IUtxRp"
      },
      "outputs": [],
      "source": [
        "#top thap nhat va cao nhat\n",
        "max_review=train_dataset[train_dataset['word_count']==train_dataset['word_count'].max()]\n",
        "min_review=train_dataset[train_dataset['word_count']==train_dataset['word_count'].min()]"
      ]
    },
    {
      "cell_type": "code",
      "execution_count": null,
      "metadata": {
        "colab": {
          "base_uri": "https://localhost:8080/",
          "height": 81
        },
        "id": "OS2VbMBRuBc1",
        "outputId": "1357bc49-effe-4491-8dee-e11ad55486bd"
      },
      "outputs": [
        {
          "data": {
            "text/html": [
              "\n",
              "  <div id=\"df-05b4c387-8b08-4cab-84f2-40d3b4d9a57e\">\n",
              "    <div class=\"colab-df-container\">\n",
              "      <div>\n",
              "<style scoped>\n",
              "    .dataframe tbody tr th:only-of-type {\n",
              "        vertical-align: middle;\n",
              "    }\n",
              "\n",
              "    .dataframe tbody tr th {\n",
              "        vertical-align: top;\n",
              "    }\n",
              "\n",
              "    .dataframe thead th {\n",
              "        text-align: right;\n",
              "    }\n",
              "</style>\n",
              "<table border=\"1\" class=\"dataframe\">\n",
              "  <thead>\n",
              "    <tr style=\"text-align: right;\">\n",
              "      <th></th>\n",
              "      <th>labels</th>\n",
              "      <th>Review</th>\n",
              "      <th>word_count</th>\n",
              "    </tr>\n",
              "  </thead>\n",
              "  <tbody>\n",
              "    <tr>\n",
              "      <th>355</th>\n",
              "      <td>5</td>\n",
              "      <td>Theo mình thấy là giá khá cao so với các chỗ k...</td>\n",
              "      <td>444</td>\n",
              "    </tr>\n",
              "  </tbody>\n",
              "</table>\n",
              "</div>\n",
              "      <button class=\"colab-df-convert\" onclick=\"convertToInteractive('df-05b4c387-8b08-4cab-84f2-40d3b4d9a57e')\"\n",
              "              title=\"Convert this dataframe to an interactive table.\"\n",
              "              style=\"display:none;\">\n",
              "        \n",
              "  <svg xmlns=\"http://www.w3.org/2000/svg\" height=\"24px\"viewBox=\"0 0 24 24\"\n",
              "       width=\"24px\">\n",
              "    <path d=\"M0 0h24v24H0V0z\" fill=\"none\"/>\n",
              "    <path d=\"M18.56 5.44l.94 2.06.94-2.06 2.06-.94-2.06-.94-.94-2.06-.94 2.06-2.06.94zm-11 1L8.5 8.5l.94-2.06 2.06-.94-2.06-.94L8.5 2.5l-.94 2.06-2.06.94zm10 10l.94 2.06.94-2.06 2.06-.94-2.06-.94-.94-2.06-.94 2.06-2.06.94z\"/><path d=\"M17.41 7.96l-1.37-1.37c-.4-.4-.92-.59-1.43-.59-.52 0-1.04.2-1.43.59L10.3 9.45l-7.72 7.72c-.78.78-.78 2.05 0 2.83L4 21.41c.39.39.9.59 1.41.59.51 0 1.02-.2 1.41-.59l7.78-7.78 2.81-2.81c.8-.78.8-2.07 0-2.86zM5.41 20L4 18.59l7.72-7.72 1.47 1.35L5.41 20z\"/>\n",
              "  </svg>\n",
              "      </button>\n",
              "      \n",
              "  <style>\n",
              "    .colab-df-container {\n",
              "      display:flex;\n",
              "      flex-wrap:wrap;\n",
              "      gap: 12px;\n",
              "    }\n",
              "\n",
              "    .colab-df-convert {\n",
              "      background-color: #E8F0FE;\n",
              "      border: none;\n",
              "      border-radius: 50%;\n",
              "      cursor: pointer;\n",
              "      display: none;\n",
              "      fill: #1967D2;\n",
              "      height: 32px;\n",
              "      padding: 0 0 0 0;\n",
              "      width: 32px;\n",
              "    }\n",
              "\n",
              "    .colab-df-convert:hover {\n",
              "      background-color: #E2EBFA;\n",
              "      box-shadow: 0px 1px 2px rgba(60, 64, 67, 0.3), 0px 1px 3px 1px rgba(60, 64, 67, 0.15);\n",
              "      fill: #174EA6;\n",
              "    }\n",
              "\n",
              "    [theme=dark] .colab-df-convert {\n",
              "      background-color: #3B4455;\n",
              "      fill: #D2E3FC;\n",
              "    }\n",
              "\n",
              "    [theme=dark] .colab-df-convert:hover {\n",
              "      background-color: #434B5C;\n",
              "      box-shadow: 0px 1px 3px 1px rgba(0, 0, 0, 0.15);\n",
              "      filter: drop-shadow(0px 1px 2px rgba(0, 0, 0, 0.3));\n",
              "      fill: #FFFFFF;\n",
              "    }\n",
              "  </style>\n",
              "\n",
              "      <script>\n",
              "        const buttonEl =\n",
              "          document.querySelector('#df-05b4c387-8b08-4cab-84f2-40d3b4d9a57e button.colab-df-convert');\n",
              "        buttonEl.style.display =\n",
              "          google.colab.kernel.accessAllowed ? 'block' : 'none';\n",
              "\n",
              "        async function convertToInteractive(key) {\n",
              "          const element = document.querySelector('#df-05b4c387-8b08-4cab-84f2-40d3b4d9a57e');\n",
              "          const dataTable =\n",
              "            await google.colab.kernel.invokeFunction('convertToInteractive',\n",
              "                                                     [key], {});\n",
              "          if (!dataTable) return;\n",
              "\n",
              "          const docLinkHtml = 'Like what you see? Visit the ' +\n",
              "            '<a target=\"_blank\" href=https://colab.research.google.com/notebooks/data_table.ipynb>data table notebook</a>'\n",
              "            + ' to learn more about interactive tables.';\n",
              "          element.innerHTML = '';\n",
              "          dataTable['output_type'] = 'display_data';\n",
              "          await google.colab.output.renderOutput(dataTable, element);\n",
              "          const docLink = document.createElement('div');\n",
              "          docLink.innerHTML = docLinkHtml;\n",
              "          element.appendChild(docLink);\n",
              "        }\n",
              "      </script>\n",
              "    </div>\n",
              "  </div>\n",
              "  "
            ],
            "text/plain": [
              "     labels                                             Review  word_count\n",
              "355       5  Theo mình thấy là giá khá cao so với các chỗ k...         444"
            ]
          },
          "execution_count": 37,
          "metadata": {},
          "output_type": "execute_result"
        }
      ],
      "source": [
        "max_review"
      ]
    },
    {
      "cell_type": "code",
      "execution_count": null,
      "metadata": {
        "colab": {
          "base_uri": "https://localhost:8080/",
          "height": 81
        },
        "id": "tbL1v1kVuOW2",
        "outputId": "f7daf053-ba7c-49d8-eec7-4f3059e15169"
      },
      "outputs": [
        {
          "data": {
            "text/html": [
              "\n",
              "  <div id=\"df-da686a6f-9bc0-45bc-8995-ef631a7bb5a0\">\n",
              "    <div class=\"colab-df-container\">\n",
              "      <div>\n",
              "<style scoped>\n",
              "    .dataframe tbody tr th:only-of-type {\n",
              "        vertical-align: middle;\n",
              "    }\n",
              "\n",
              "    .dataframe tbody tr th {\n",
              "        vertical-align: top;\n",
              "    }\n",
              "\n",
              "    .dataframe thead th {\n",
              "        text-align: right;\n",
              "    }\n",
              "</style>\n",
              "<table border=\"1\" class=\"dataframe\">\n",
              "  <thead>\n",
              "    <tr style=\"text-align: right;\">\n",
              "      <th></th>\n",
              "      <th>labels</th>\n",
              "      <th>Review</th>\n",
              "      <th>word_count</th>\n",
              "    </tr>\n",
              "  </thead>\n",
              "  <tbody>\n",
              "    <tr>\n",
              "      <th>631</th>\n",
              "      <td>5</td>\n",
              "      <td>Phòng sạch sẽ</td>\n",
              "      <td>3</td>\n",
              "    </tr>\n",
              "  </tbody>\n",
              "</table>\n",
              "</div>\n",
              "      <button class=\"colab-df-convert\" onclick=\"convertToInteractive('df-da686a6f-9bc0-45bc-8995-ef631a7bb5a0')\"\n",
              "              title=\"Convert this dataframe to an interactive table.\"\n",
              "              style=\"display:none;\">\n",
              "        \n",
              "  <svg xmlns=\"http://www.w3.org/2000/svg\" height=\"24px\"viewBox=\"0 0 24 24\"\n",
              "       width=\"24px\">\n",
              "    <path d=\"M0 0h24v24H0V0z\" fill=\"none\"/>\n",
              "    <path d=\"M18.56 5.44l.94 2.06.94-2.06 2.06-.94-2.06-.94-.94-2.06-.94 2.06-2.06.94zm-11 1L8.5 8.5l.94-2.06 2.06-.94-2.06-.94L8.5 2.5l-.94 2.06-2.06.94zm10 10l.94 2.06.94-2.06 2.06-.94-2.06-.94-.94-2.06-.94 2.06-2.06.94z\"/><path d=\"M17.41 7.96l-1.37-1.37c-.4-.4-.92-.59-1.43-.59-.52 0-1.04.2-1.43.59L10.3 9.45l-7.72 7.72c-.78.78-.78 2.05 0 2.83L4 21.41c.39.39.9.59 1.41.59.51 0 1.02-.2 1.41-.59l7.78-7.78 2.81-2.81c.8-.78.8-2.07 0-2.86zM5.41 20L4 18.59l7.72-7.72 1.47 1.35L5.41 20z\"/>\n",
              "  </svg>\n",
              "      </button>\n",
              "      \n",
              "  <style>\n",
              "    .colab-df-container {\n",
              "      display:flex;\n",
              "      flex-wrap:wrap;\n",
              "      gap: 12px;\n",
              "    }\n",
              "\n",
              "    .colab-df-convert {\n",
              "      background-color: #E8F0FE;\n",
              "      border: none;\n",
              "      border-radius: 50%;\n",
              "      cursor: pointer;\n",
              "      display: none;\n",
              "      fill: #1967D2;\n",
              "      height: 32px;\n",
              "      padding: 0 0 0 0;\n",
              "      width: 32px;\n",
              "    }\n",
              "\n",
              "    .colab-df-convert:hover {\n",
              "      background-color: #E2EBFA;\n",
              "      box-shadow: 0px 1px 2px rgba(60, 64, 67, 0.3), 0px 1px 3px 1px rgba(60, 64, 67, 0.15);\n",
              "      fill: #174EA6;\n",
              "    }\n",
              "\n",
              "    [theme=dark] .colab-df-convert {\n",
              "      background-color: #3B4455;\n",
              "      fill: #D2E3FC;\n",
              "    }\n",
              "\n",
              "    [theme=dark] .colab-df-convert:hover {\n",
              "      background-color: #434B5C;\n",
              "      box-shadow: 0px 1px 3px 1px rgba(0, 0, 0, 0.15);\n",
              "      filter: drop-shadow(0px 1px 2px rgba(0, 0, 0, 0.3));\n",
              "      fill: #FFFFFF;\n",
              "    }\n",
              "  </style>\n",
              "\n",
              "      <script>\n",
              "        const buttonEl =\n",
              "          document.querySelector('#df-da686a6f-9bc0-45bc-8995-ef631a7bb5a0 button.colab-df-convert');\n",
              "        buttonEl.style.display =\n",
              "          google.colab.kernel.accessAllowed ? 'block' : 'none';\n",
              "\n",
              "        async function convertToInteractive(key) {\n",
              "          const element = document.querySelector('#df-da686a6f-9bc0-45bc-8995-ef631a7bb5a0');\n",
              "          const dataTable =\n",
              "            await google.colab.kernel.invokeFunction('convertToInteractive',\n",
              "                                                     [key], {});\n",
              "          if (!dataTable) return;\n",
              "\n",
              "          const docLinkHtml = 'Like what you see? Visit the ' +\n",
              "            '<a target=\"_blank\" href=https://colab.research.google.com/notebooks/data_table.ipynb>data table notebook</a>'\n",
              "            + ' to learn more about interactive tables.';\n",
              "          element.innerHTML = '';\n",
              "          dataTable['output_type'] = 'display_data';\n",
              "          await google.colab.output.renderOutput(dataTable, element);\n",
              "          const docLink = document.createElement('div');\n",
              "          docLink.innerHTML = docLinkHtml;\n",
              "          element.appendChild(docLink);\n",
              "        }\n",
              "      </script>\n",
              "    </div>\n",
              "  </div>\n",
              "  "
            ],
            "text/plain": [
              "     labels         Review  word_count\n",
              "631       5  Phòng sạch sẽ           3"
            ]
          },
          "execution_count": 38,
          "metadata": {},
          "output_type": "execute_result"
        }
      ],
      "source": [
        "min_review"
      ]
    },
    {
      "cell_type": "code",
      "execution_count": null,
      "metadata": {
        "colab": {
          "base_uri": "https://localhost:8080/",
          "height": 276
        },
        "id": "XiCNM4jlPZAD",
        "outputId": "dc1de178-290d-48fd-fdf5-1a509d7a4e1a"
      },
      "outputs": [
        {
          "data": {
            "image/png": "[encoded data removed]",
            "text/plain": [
              "<Figure size 432x288 with 1 Axes>"
            ]
          },
          "metadata": {
            "needs_background": "light"
          },
          "output_type": "display_data"
        }
      ],
      "source": [
        "train_dataset = pd.read_csv(\"data_merged.csv\")\n",
        "count = train_dataset['labels'].value_counts()\n",
        "count.plot.bar()\n",
        "plt.ylabel('Label')\n",
        "plt.xlabel('Total train augmentation samples')\n",
        "plt.show()"
      ]
    },
    {
      "cell_type": "markdown",
      "metadata": {
        "id": "h80555ptQF9J"
      },
      "source": []
    },
    {
      "cell_type": "code",
      "execution_count": null,
      "metadata": {
        "colab": {
          "base_uri": "https://localhost:8080/"
        },
        "id": "42Hkq-9APhrX",
        "outputId": "254cdb66-b899-4e52-e520-7b7e372d6553"
      },
      "outputs": [
        {
          "name": "stdout",
          "output_type": "stream",
          "text": [
            "1691\n"
          ]
        }
      ],
      "source": [
        "print(len(train_dataset))"
      ]
    },
    {
      "cell_type": "code",
      "execution_count": null,
      "metadata": {
        "colab": {
          "base_uri": "https://localhost:8080/",
          "height": 276
        },
        "id": "l4RvRHvY-4Ky",
        "outputId": "d79196e7-1185-43ca-b503-7267bb41c2be"
      },
      "outputs": [
        {
          "data": {
            "image/png": "[encoded data removed]",
            "text/plain": [
              "<Figure size 432x288 with 1 Axes>"
            ]
          },
          "metadata": {
            "needs_background": "light"
          },
          "output_type": "display_data"
        }
      ],
      "source": [
        "test_dataset =  pd.read_csv(\"test.csv\")\n",
        "test_dataset['labels'].value_counts()\n",
        "count = test_dataset['labels'].value_counts()\n",
        "count.plot.bar()\n",
        "plt.ylabel('Label')\n",
        "plt.xlabel('Total samples')\n",
        "plt.show()\n"
      ]
    },
    {
      "cell_type": "markdown",
      "metadata": {
        "id": "uMs-NNpckzyi"
      },
      "source": [
        "# Data Preprocessing and Vectorize"
      ]
    },
    {
      "cell_type": "code",
      "execution_count": null,
      "metadata": {
        "colab": {
          "base_uri": "https://localhost:8080/"
        },
        "id": "aNI2dWORV3mA",
        "outputId": "68414095-3147-41d0-aab5-e88109756153"
      },
      "outputs": [
        {
          "name": "stdout",
          "output_type": "stream",
          "text": [
            "5,Cái giường nó bị dính qá 😋 ngủ mà k tỉnh dc kkk\n",
            "5,Cái giường nó bị dính qá  ngủ mà k tỉnh dc kkk\n"
          ]
        }
      ],
      "source": [
        "#emoji\n",
        "text=\"5,Cái giường nó bị dính qá 😋 ngủ mà k tỉnh dc kkk\"\n",
        "print(text)\n",
        "\n",
        "print(strip_emoji(text))"
      ]
    },
    {
      "cell_type": "code",
      "execution_count": null,
      "metadata": {
        "colab": {
          "base_uri": "https://localhost:8080/"
        },
        "id": "tsSoozlcYbDG",
        "outputId": "9d5fd437-f8f6-46e1-a148-e71db2354034"
      },
      "outputs": [
        {
          "name": "stdout",
          "output_type": "stream",
          "text": [
            "Thoáng mát, sạch sẽ..phòng studio view đẹp (phòng trên tầng cao nữa thì đẹp :))). Đồ ăn hơi ít món nhưng ngon.\n",
            "thoáng mát sạch sẽphòng studio view đẹp (phòng trên tầng cao nữa thì đẹp colonsmile)) đồ ăn hơi ít món nhưng ngon\n"
          ]
        }
      ],
      "source": [
        "#remove_punctuation\n",
        "text=\"Thoáng mát, sạch sẽ..phòng studio view đẹp (phòng trên tầng cao nữa thì đẹp :))). Đồ ăn hơi ít món nhưng ngon.\"\n",
        "print(text)\n",
        "print(preprocess(text))\n",
        "print()"
      ]
    },
    {
      "cell_type": "code",
      "execution_count": null,
      "metadata": {
        "colab": {
          "base_uri": "https://localhost:8080/"
        },
        "id": "1CMUo_YjZ1qI",
        "outputId": "ffbf5c10-6d3e-47bc-cdb5-e213e23e6cb0"
      },
      "outputs": [
        {
          "name": "stdout",
          "output_type": "stream",
          "text": [
            "Phòng gia đình nhưng bị tách thành 2 phòng ghép với 4 giường nên kg thích lắm với cùng 1 phòng\n",
            "Phòng gia đình nhưng bị tách thành  phòng ghép với  giường nên kg thích lắm với cùng  phòng\n"
          ]
        }
      ],
      "source": [
        "text=\"Phòng gia đình nhưng bị tách thành 2 phòng ghép với 4 giường nên kg thích lắm với cùng 1 phòng\"\n",
        "print(text)\n",
        "print(remove_number(text))"
      ]
    },
    {
      "cell_type": "code",
      "execution_count": null,
      "metadata": {
        "colab": {
          "base_uri": "https://localhost:8080/"
        },
        "id": "LYKXAK6-cPvc",
        "outputId": "4f71a193-0290-4252-d10d-b4f1dcf4447a"
      },
      "outputs": [
        {
          "name": "stdout",
          "output_type": "stream",
          "text": [
            "Chấm 10đ cho Fleur Hotel Quy Nhơn* Ưu điểm: khách sạn đẹp, đối diện biển, buffet sáng ngon, nhân viên vô cùng ưng ý, thân thiện. Đặc biệt chị lễ tân Minh Hiếu rất đáng yêu.* Điểm trừ nhỏ là cách âm phòng kém quá:(\n"
          ]
        }
      ],
      "source": [
        "text=\"Chấm 10đ cho Fleur Hotel Quy Nhơn* Ưu điểm: ks đẹp, đối diện biển, buffet sáng ngon, nhân viên vô cùng ưng ý, thân thiện. Đặc biệt chị lễ tân Minh Hiếu rất đáng yêu.* Điểm trừ nhỏ là cách âm phòng kém quá:(\"\n",
        "print(normalize_annotatation(text))"
      ]
    },
    {
      "cell_type": "code",
      "execution_count": null,
      "metadata": {
        "colab": {
          "base_uri": "https://localhost:8080/",
          "height": 36
        },
        "id": "Yod4vwI1cac4",
        "outputId": "080ccbbf-e94d-47d2-8792-df6d97a9211d"
      },
      "outputs": [
        {
          "data": {
            "application/vnd.google.colaboratory.intrinsic+json": {
              "type": "string"
            },
            "text/plain": [
              "'Phòng gia đình tách thành 2 phòng ghép 4 giường kg lắm 1 phòn'"
            ]
          },
          "execution_count": 97,
          "metadata": {},
          "output_type": "execute_result"
        }
      ],
      "source": [
        "#remove stopword\n",
        "remove_VN_stopwords(\"Phòng gia đình nhưng bị tách thành 2 phòng ghép với 4 giường nên kg thích lắm với cùng 1 phòng\")"
      ]
    },
    {
      "cell_type": "code",
      "execution_count": null,
      "metadata": {
        "colab": {
          "base_uri": "https://localhost:8080/"
        },
        "id": "HzUQ6qm6aXcG",
        "outputId": "4d672428-1984-47ac-8fcf-e056d10491cf"
      },
      "outputs": [
        {
          "name": "stdout",
          "output_type": "stream",
          "text": [
            "chấm 10đ cho fleur hotel quy nhơn ưu điểm: khách sạn đẹp, đối diện biển, buffet sáng ngon, nhân viên vô cùng ưng ý, thân thiện. đặc biệt chị lễ tân minh hiếu rất đáng yêu. điểm trừ nhỏ là cách âm phòng kém quá:\n"
          ]
        }
      ],
      "source": [
        "text=\"Chấm 10đ cho Fleur Hotel Quy Nhơn* Ưu điểm: ks đẹp, đối diện biển, buffet sáng ngon, nhân viên vô cùng ưng ý, thân thiện. Đặc biệt chị lễ tân Minh Hiếu rất đáng yêu.* Điểm trừ nhỏ là cách âm phòng kém quá:(\"\n",
        "print(clean_text(text))"
      ]
    },
    {
      "cell_type": "code",
      "execution_count": null,
      "metadata": {
        "colab": {
          "base_uri": "https://localhost:8080/"
        },
        "id": "vkl5LBC8bL6r",
        "outputId": "92d595aa-f432-4700-8470-2f98b6669b30"
      },
      "outputs": [
        {
          "name": "stdout",
          "output_type": "stream",
          "text": [
            "Chấm 10đ cho Fleur Hotel Quy Nhơn* Ưu điểm: ks đẹp, đối diện biển, buffet sáng ngon, nhân viên vô cùng ưng ý, thân thiện. Đặc biệt chị lễ tân Minh Hiếu rất đáng yêu.* Điểm trừ nhỏ là cách âm phòng kém quá:(\n"
          ]
        }
      ],
      "source": [
        "print(normalize_annotatation(text))"
      ]
    },
    {
      "cell_type": "code",
      "execution_count": null,
      "metadata": {
        "colab": {
          "base_uri": "https://localhost:8080/"
        },
        "id": "lBztEJUGdRC7",
        "outputId": "d9b71c19-3fba-45b2-ebff-5493210ba7fc"
      },
      "outputs": [
        {
          "name": "stdout",
          "output_type": "stream",
          "text": [
            "Phòng sạch sẽ, thơm, chị lao công cũng dễ thương hoà đồng. Cô chú chủ cực kỳ cute luôn á mọi người. View phòng đẹp, xung quanh yên tĩnh. Mọi người nên ghé nhaaaa.\n",
            "Phòng sạch sẽ, thơm, chị lao công cũng dễ thương hoà đồng. Cô chú chủ cực kỳ cute luôn á mọi người. View phòng đẹp, xung quanh yên tĩnh. Mọi người nên ghé nha.\n"
          ]
        }
      ],
      "source": [
        "text=\"Phòng sạch sẽ, thơm, chị lao công cũng dễ thương hoà đồng. Cô chú chủ cực kỳ cute luôn á mọi người. View phòng đẹp, xung quanh yên tĩnh. Mọi người nên ghé nhaaaa.\"\n",
        "print(text)\n",
        "text=remove_similarletter(text)\n",
        "print(text)"
      ]
    },
    {
      "cell_type": "code",
      "execution_count": null,
      "metadata": {
        "id": "qvb2KGKN_l0D"
      },
      "outputs": [],
      "source": [
        "# Bỏ bớt các chữ cái giống nhau liên tiếp( Vd: quaaa -> qua)\n",
        "def remove_similarletter(text):\n",
        "    text = re.sub(r'([a-z])\\1+', lambda m: m.group(1).lower(), text, flags=re.IGNORECASE)\n",
        "    return text\n",
        "def strip_emoji(text):\n",
        "\temoji_pattern = re.compile(\"[\"\n",
        "\t\t\t\t\tu\"\\U0001F600-\\U0001F64F\" \n",
        "\t\t\t\t\tu\"\\U0001F300-\\U0001F5FF\"  \n",
        "\t\t\t\t\tu\"\\U0001F680-\\U0001F6FF\"  \n",
        "\t\t\t\t\tu\"\\U0001F1E0-\\U0001F1FF\"  \n",
        "\t\t\t\t\tu\"\\U00002702-\\U000027B0\"\n",
        "\t\t\t\t\tu\"\\U000024C2-\\U0001F251\"\n",
        "\t\t\t\t\t\"]+\", flags=re.UNICODE)\t\n",
        "\treturn emoji_pattern.sub(r'', text)\n",
        "\n",
        "def remove_special_char(text):\n",
        "\tspecial_character = re.compile(\"�+\")\n",
        "\treturn special_character.sub(r'', text)\n",
        "\n",
        "def remove_punctuation(text):\n",
        "\tpunctuation = re.compile(r\"[!#$%&()*+;<=>?@[\\]^_`{|}~]\")\n",
        "\treturn punctuation.sub(r\"\", text)\n",
        "\n",
        "def remove_number(text):\n",
        "\treturn re.sub(\" \\d+\", \" \", text)\n",
        "\n",
        "def normalize_annotatation(text):\n",
        "\treplace_list = {\n",
        "\t\t'ship': 'vận chuyển', 'shop': 'cửa hàng', 'sho': 'cửa hàng', 'm': 'mình','mk':'mình','mjk':'mình', 'mik': 'mình', 'ko': 'không' , 'k': 'không', 'kh': 'không', 'khong': 'không', 'kg': 'không', 'khg': 'không','hok':'không','hong':'không', 'tl': 'trả lời',\n",
        "\t\t'rep': 'trả lời', 'r': 'rồi', 'fb': 'facebook', 'face': 'faceook', 'thanks': 'cảm ơn', 'thank': 'cảm ơn', 'tks': 'cảm ơn', 'tk': 'cảm ơn', 'ok': 'tốt', 'oki': 'tốt', 'okie': 'tốt', 'sp': 'sản phẩm',\n",
        "\t\t'dc': 'được','đc':'được','dk':'được', 'vs': 'với', 'đt': 'điện thoại', 'thjk': 'thích', 'thik': 'thích', 'qá': 'quá', 'trể': 'trễ', 'bgjo': 'bao giờ', 'h': 'giờ', 'qa': 'quá', 'dep': 'đẹp', 'xau': 'xấu', 'ib': 'nhắn tin',\n",
        "\t\t'cute': 'dễ thương', 'sz': 'size', 'good': 'tốt', 'god': 'tốt', 'bt': 'bình thường','tr':'triệu','dag':'đang','nhiu':'nhiêu','mn':'mọi người','m.n':'mọi người','ac':'anh chị','sag':'sang','s':'sao',\n",
        "\t\t'sz': 'cỡ', 'size': 'cỡ', 'đx': 'được', 'dk': 'được', 'dc': 'được', 'đk': 'được','ae':'anh em','j':'gì','hnay':'hôm nay','lm':'làm','ktra':'kiểm tra','sp':'sản phẩm','zô':'vào',\n",
        "\t\t'đc': 'được', 'authentic': 'chuẩn chính hãng', 'aut': 'chuẩn chính hãng', 'auth ': 'chuẩn chính hãng', 'thick': 'thích','v':'vậy','cng':'cũng','cg':'cũng','ns':'nói','nv':'nhân viên',\n",
        "\t\t'gud': 'tốt', 'god': 'tốt', 'wel done': 'tốt', 'good': 'tốt', 'gút': 'tốt','ng':'người','chs':'chơi','mng':'mọi người','wa':'quá',\n",
        "\t\t'sấu': 'xấu', 'gut': 'tốt', 'tot': 'tốt', 'nice': 'tốt', 'perfect': 'rất tốt','trc':'trước',\n",
        "\t\t'time': 'thời gian', 'qá': 'quá','nc':'nói chung','ace':'anh chị em',\n",
        "\t\t'product': 'sản phẩm', 'quality': 'chất lượng', 'chat': 'chất' , 'excelent': 'hoàn hảo', 'bad': 'tệ', 'sad': 'tệ',\n",
        "\t\t'beautiful': 'đẹp', 'tl': 'trả lời', 'r': 'rồi', 'order': 'đặt hàng',\n",
        "\t\t'chất lg': 'chất lượng', 'sd': 'sử dụng', 'dt': 'điện thoại', 'nt': 'nhắn tin', 'tl': 'trả lời', 'sài': 'xài', 'bjo': 'bao giờ',\n",
        "\t\t'thik': 'thích', 'sop': 'cửa hàng', 'fb': 'facebook', 'face': 'facebook', 'very': 'rất',\n",
        "\t\t'dep': 'đẹp', 'xau': 'xấu','tgdđ':'thế giới di động','tgdd':'thế giới di động','đmx':'điện máy xanh',\n",
        "\t\t'iu': 'yêu', 'fake': 'giả mạo', 'trl': 'trả lời', '><': 'tiêu cực',\n",
        "\t\t'por': 'tệ', 'poor': 'tệ', 'ib': 'nhắn tin', 'rep': 'trả lời', 'fback': 'feedback', 'fedback': 'feedback',\n",
        "\t\t'bin': 'pin', 'cx': 'cũng', 'nch': 'nói chuyện', 'ntn': 'như thế nào', 'vde': 'vấn đề',\"tv\":\"tivi\",\"ks\":\"khách sạn\",\"nv\":\"nhân viên\",\"KS\":\"khách sạn\",\"kg\":\"không\"\n",
        "\t}\n",
        "\ttext = text.split()\n",
        "\tlen_ = len(text)\n",
        "\tfor i in range(0, len_):    \n",
        "\t\tfor k, v in replace_list.items():\n",
        "\t\t\tif (text[i]==k):\n",
        "\t\t\t\ttext[i] = v\n",
        "\treturn \" \".join(text)\n",
        "\n",
        "def clean_text(text):\n",
        "\treturn normalize_annotatation((remove_special_char(remove_punctuation(strip_emoji(text.lower())))))\n",
        " \n",
        "def preprocess(sentence):\n",
        "    sentence = sentence.strip()\n",
        "    sentence = sentence.replace(',', '')\n",
        "    sentence = sentence.replace('.', '')\n",
        "    sentence = sentence.replace('?', '')\n",
        "    sentence = sentence.replace('!', '')\n",
        "    sentence = sentence.replace('\"', '')\n",
        "    sentence = sentence.replace('  ', ' ')\n",
        "\n",
        "    specials_ = {\n",
        "        ':)' : 'colonsmile',\n",
        "        ':(' : 'colonsad',\n",
        "        '@@' : 'colonsurprise',\n",
        "        '<3' : 'colonlove',\n",
        "        ':d' : 'colonsmilesmile',\n",
        "        ':3' : 'coloncontemn',\n",
        "        ':v' : 'colonbigsmile',\n",
        "        ':_' : 'coloncc',\n",
        "        ':p' : 'colonsmallsmile',\n",
        "        '>>' : 'coloncolon',\n",
        "        ':\">' : 'colonlovelove',\n",
        "        '^^' : 'colonhihi',\n",
        "        ':' : 'doubledot',\n",
        "        \":'(\" : 'colonsadcolon',\n",
        "        ':’(' : 'colonsadcolon',\n",
        "        ':@' : 'colondoublesurprise',\n",
        "        'v.v' : 'vdotv',\n",
        "        '...' : 'dotdotdot',\n",
        "        '/' : 'fraction',\n",
        "        'c#' : 'cshrap',\n",
        "    }\n",
        "\n",
        "    for key in specials_.keys():\n",
        "        sentence = sentence.replace(key, specials_[key])\n",
        "    return sentence.lower().strip()"
      ]
    },
    {
      "cell_type": "code",
      "execution_count": null,
      "metadata": {
        "colab": {
          "base_uri": "https://localhost:8080/"
        },
        "id": "dYobLU0fTgax",
        "outputId": "e19640a3-80dc-43a0-9001-a7a65d14b0da"
      },
      "outputs": [
        {
          "name": "stdout",
          "output_type": "stream",
          "text": [
            "['Đại học', 'Công Nghệ', 'Thông Tin', ',', 'đại học', 'quốc gia', 'Hồ Chí Minh', '.']\n"
          ]
        }
      ],
      "source": [
        "print(tokenize(\"Đại học Công Nghệ Thông Tin, đại học quốc gia Hồ Chí Minh.\"))"
      ]
    },
    {
      "cell_type": "code",
      "execution_count": null,
      "metadata": {
        "colab": {
          "base_uri": "https://localhost:8080/"
        },
        "id": "FKnMHoeHTkWx",
        "outputId": "f5fe0cc8-7321-4517-b0eb-a720c43eacbe"
      },
      "outputs": [
        {
          "name": "stdout",
          "output_type": "stream",
          "text": [
            "[['Đại_học', 'Công_Nghệ_Thông_Tin', ',', 'đại_học', 'quốc_gia', 'Hồ_Chí_Minh', '.']]\n"
          ]
        }
      ],
      "source": [
        "print(tokenize_VNCore(\"Đại học Công Nghệ Thông Tin, đại học quốc gia Hồ Chí Minh.\"))"
      ]
    },
    {
      "cell_type": "code",
      "execution_count": null,
      "metadata": {
        "id": "_HNcX-qydzVi"
      },
      "outputs": [],
      "source": [
        "from collections import defaultdict\n",
        "import unicodedata as ud\n",
        "import pandas as pd\n",
        "import numpy as np\n",
        "import math\n",
        "import ast\n",
        "import re"
      ]
    },
    {
      "cell_type": "code",
      "execution_count": null,
      "metadata": {
        "id": "okoPTochekxK"
      },
      "outputs": [],
      "source": [
        "def syllablize(sentence):\n",
        "    word = '\\w+'\n",
        "    non_word = '[^\\w\\s]'\n",
        "    digits = '\\d+([\\.,_]\\d+)+'\n",
        "    \n",
        "    patterns = []\n",
        "    patterns.extend([word, non_word, digits])\n",
        "    patterns = f\"({'|'.join(patterns)})\"\n",
        "    \n",
        "    sentence = ud.normalize('NFC', sentence)\n",
        "    tokens = re.findall(patterns, sentence, re.UNICODE)\n",
        "    return [token[0] for token in tokens]\n",
        "def load_n_grams(path):\n",
        "    with open(path, encoding='utf8') as f:\n",
        "        words = f.read()\n",
        "        words = ast.literal_eval(words)\n",
        "    return words"
      ]
    },
    {
      "cell_type": "code",
      "execution_count": null,
      "metadata": {
        "id": "oIYplDzFeE3E"
      },
      "outputs": [],
      "source": [
        "def longest_matching(sentence, bi_grams, tri_grams):\n",
        "    syllables = syllablize(sentence)\n",
        "    syl_len = len(syllables)\n",
        "    \n",
        "    curr_id = 0\n",
        "    word_list = []\n",
        "    done = False\n",
        "    \n",
        "    while (curr_id < syl_len) and (not done):\n",
        "        curr_word = syllables[curr_id]\n",
        "        if curr_id >= syl_len - 1:\n",
        "            word_list.append(curr_word)\n",
        "            done = True\n",
        "        else:\n",
        "            next_word = syllables[curr_id + 1]\n",
        "            pair_word = ' '.join([curr_word.lower(), next_word.lower()])\n",
        "            if curr_id >= (syl_len - 2):\n",
        "                if pair_word in bi_grams:\n",
        "                    word_list.append('_'.join([curr_word, next_word]))\n",
        "                    curr_id += 2\n",
        "                else:\n",
        "                    word_list.append(curr_word)\n",
        "                    curr_id += 1\n",
        "            else:\n",
        "                next_next_word = syllables[curr_id + 2]\n",
        "                triple_word = ' '.join([pair_word, next_next_word.lower()])\n",
        "                if triple_word in tri_grams:\n",
        "                    word_list.append('_'.join([curr_word, next_word, next_next_word]))\n",
        "                    curr_id += 3\n",
        "                elif pair_word in bi_grams:\n",
        "                    word_list.append('_'.join([curr_word, next_word]))\n",
        "                    curr_id += 2\n",
        "                else:\n",
        "                    word_list.append(curr_word)\n",
        "                    curr_id += 1\n",
        "    return word_list"
      ]
    },
    {
      "cell_type": "code",
      "execution_count": null,
      "metadata": {
        "colab": {
          "base_uri": "https://localhost:8080/"
        },
        "id": "VrlsMHmXfcpR",
        "outputId": "a2da60ed-7713-428b-bce9-8fb0238fbc62"
      },
      "outputs": [
        {
          "data": {
            "text/plain": [
              "['Mình',\n",
              " 'hay',\n",
              " 'ghé',\n",
              " 'nhà_hàng',\n",
              " 'Ngon',\n",
              " 'ở_Trần',\n",
              " 'Hưng',\n",
              " 'Đạo',\n",
              " 'để',\n",
              " 'dùng_bữa',\n",
              " 'với',\n",
              " 'bạn_bè',\n",
              " 'và',\n",
              " 'đối_tác',\n",
              " '.']"
            ]
          },
          "execution_count": 13,
          "metadata": {},
          "output_type": "execute_result"
        }
      ],
      "source": [
        "bi_grams = load_n_grams('bi_grams.txt')\n",
        "tri_grams = load_n_grams('tri_grams.txt')\n",
        "longest_matching('Mình hay ghé nhà hàng Ngon ở Trần Hưng Đạo để dùng bữa với bạn bè và đối tác.', bi_grams, tri_grams)"
      ]
    },
    {
      "cell_type": "code",
      "execution_count": null,
      "metadata": {
        "id": "WdjzW8qHfj4C"
      },
      "outputs": [],
      "source": []
    },
    {
      "cell_type": "code",
      "execution_count": null,
      "metadata": {
        "id": "7b9uWMmdkzyi"
      },
      "outputs": [],
      "source": [
        "# Hàm tách từ, dùng word_tokenize của underthesea\n",
        "def tokenize(sentence):\n",
        "    return word_tokenize(sentence, format = 'word')\n",
        "def tokenize_VNCore(sentence):\n",
        "    return rdrsegmenter.tokenize(sentence)[0]\n",
        "def tokenize_longest_matching(sentence):\n",
        "    return longest_matching(sentence, bi_grams, tri_grams)\n",
        "# Chuyển câu tiếng Việt về vector, sử dụng CountVectorizer của sklearn\n",
        "# với các tham số là danh sách stopwords tiếng Việt \n",
        "# và tokenizer tách từ tiếng Việt\n",
        "vectorizer = CountVectorizer(\n",
        "    stop_words = stopwords,\n",
        "    tokenizer = tokenize\n",
        ")\n",
        "vectorizer_vncore = CountVectorizer(\n",
        "    stop_words = stopwords,\n",
        "    tokenizer = tokenize_VNCore\n",
        ")\n",
        "vectorizer_longestmatching=CountVectorizer(\n",
        "    stop_words = stopwords,\n",
        "    tokenizer =tokenize_longest_matching\n",
        ")"
      ]
    },
    {
      "cell_type": "code",
      "execution_count": null,
      "metadata": {
        "colab": {
          "base_uri": "https://localhost:8080/"
        },
        "id": "xB0foAxlQu_l",
        "outputId": "68ab6a13-f143-423f-aa9a-44154b50ec96"
      },
      "outputs": [
        {
          "name": "stdout",
          "output_type": "stream",
          "text": [
            "[['Đại_học', 'Công_Nghệ_Thông_Tin', ',', 'đại_học', 'quốc_gia', 'Hồ_Chí_Minh', '.']]\n"
          ]
        }
      ],
      "source": [
        "# Test import\n",
        "from vncorenlp import VnCoreNLP\n",
        "rdrsegmenter = VnCoreNLP(\"/content/drive/MyDrive/CS221/vncorenlp/VnCoreNLP-1.1.1.jar\", annotators=\"wseg\", max_heap_size='-Xmx500m') \n",
        "\n",
        "text = \"Đại học Công Nghệ Thông Tin, đại học quốc gia Hồ Chí Minh.\"\n",
        "\n",
        "word_segmented_text = rdrsegmenter.tokenize(text) \n",
        "print(word_segmented_text)"
      ]
    },
    {
      "cell_type": "code",
      "execution_count": null,
      "metadata": {
        "id": "vJDpVmoikzyi"
      },
      "outputs": [],
      "source": [
        "def load_data(df):\n",
        "    X=df[\"Review\"]\n",
        "    y=df[\"labels\"]\n",
        "    X=X.apply(preprocess)\n",
        "    X=X.apply(clean_text)\n",
        "    return X,y"
      ]
    },
    {
      "cell_type": "code",
      "execution_count": null,
      "metadata": {
        "id": "pOtgm632a9bl"
      },
      "outputs": [],
      "source": [
        "X,y=load_data(pd.read_csv(\"data.csv\"))\n",
        "X_test,y_test=load_data(pd.read_csv(\"test.csv\")) "
      ]
    },
    {
      "cell_type": "code",
      "execution_count": null,
      "metadata": {
        "id": "H7GVlLsDLr3V"
      },
      "outputs": [],
      "source": [
        "X,y=load_data(pd.read_csv(\"data_merged.csv\"))\n",
        "X_test,y_test=load_data(pd.read_csv(\"test.csv\")) "
      ]
    },
    {
      "cell_type": "code",
      "execution_count": null,
      "metadata": {
        "id": "TPeEsD8PbQXY"
      },
      "outputs": [],
      "source": [
        "#su dung count vector\n",
        "X= vectorizer_vncore.fit_transform(X)\n",
        "X_test=vectorizer_vncore.transform(X_test)"
      ]
    },
    {
      "cell_type": "code",
      "execution_count": null,
      "metadata": {
        "id": "e23l2aGDTWnS"
      },
      "outputs": [],
      "source": [
        "#su dung count vector\n",
        "X= vectorizer_longestmatching.fit_transform(X)\n",
        "X_test=vectorizer_longestmatching.transform(X_test)"
      ]
    },
    {
      "cell_type": "code",
      "execution_count": null,
      "metadata": {
        "id": "vcFSVx_whdHs"
      },
      "outputs": [],
      "source": [
        "#su dung count vector\n",
        "X= vectorizer.fit_transform(X)\n",
        "X_test=vectorizer.transform(X_test)"
      ]
    },
    {
      "cell_type": "code",
      "execution_count": null,
      "metadata": {
        "id": "JE463NyJiagJ"
      },
      "outputs": [],
      "source": [
        "file_stopwords = pd.read_csv(\"stopwords.txt\", encoding = 'UTF-8')\n",
        "file_stopwords.columns = [\"Stop_words\"]\n",
        "VN_stopword = []\n",
        "for i in file_stopwords[\"Stop_words\"]:\n",
        "    VN_stopword.append(i)"
      ]
    },
    {
      "cell_type": "code",
      "execution_count": null,
      "metadata": {
        "id": "jALlHHoyiSi0"
      },
      "outputs": [],
      "source": [
        "def remove_VN_stopwords(text):\n",
        "    text_token = tokenize(text)\n",
        "    result = [word for word in text_token if word not in VN_stopword]\n",
        "    return \" \".join(result)"
      ]
    },
    {
      "cell_type": "code",
      "execution_count": null,
      "metadata": {
        "id": "eFkLboN8iE2q"
      },
      "outputs": [],
      "source": [
        "#su dung tfidf \n",
        "from sklearn.feature_extraction.text import TfidfVectorizer\n",
        "X=X.apply(remove_VN_stopwords)\n",
        "X_test=X_test.apply(remove_VN_stopwords)\n",
        "# Chuyển câu tiếng Việt về vector, sử dụng TfidfVectorizer của sklearn\n",
        "\n",
        "tf_idf = TfidfVectorizer()\n",
        "X= tf_idf.fit_transform(X)\n",
        "X_test=tf_idf.transform(X_test)"
      ]
    },
    {
      "cell_type": "markdown",
      "metadata": {
        "id": "Edymu212bICi"
      },
      "source": [
        "# Training model"
      ]
    },
    {
      "cell_type": "code",
      "execution_count": null,
      "metadata": {
        "id": "4epZosTIcOpe"
      },
      "outputs": [],
      "source": [
        "from sklearn.metrics import classification_report\n",
        "from sklearn.metrics import confusion_matrix\n",
        "from sklearn.metrics import f1_score"
      ]
    },
    {
      "cell_type": "markdown",
      "metadata": {
        "id": "sZgeULtOdKvn"
      },
      "source": [
        "## Naive Bayes"
      ]
    },
    {
      "cell_type": "code",
      "execution_count": null,
      "metadata": {
        "colab": {
          "base_uri": "https://localhost:8080/"
        },
        "id": "wSQxDYqebMew",
        "outputId": "8d671a31-ec4f-419a-cac0-e855942694bc"
      },
      "outputs": [
        {
          "name": "stdout",
          "output_type": "stream",
          "text": [
            "Accuracy:  0.5714285714285714\n",
            "F1 score:  0.4530140776243596\n",
            "              precision    recall  f1-score   support\n",
            "\n",
            "           1       0.53      0.62      0.57        13\n",
            "           2       0.79      0.44      0.57        43\n",
            "           3       0.33      0.18      0.23        17\n",
            "           4       0.29      0.12      0.17        49\n",
            "           5       0.59      0.93      0.72        95\n",
            "\n",
            "    accuracy                           0.57       217\n",
            "   macro avg       0.51      0.46      0.45       217\n",
            "weighted avg       0.54      0.57      0.52       217\n",
            "\n"
          ]
        }
      ],
      "source": [
        "#sử dụng untherthesea +count vectorize\n",
        "model = MultinomialNB()\n",
        "model.fit(X, y)\n",
        "y_pred=model.predict(X_test)\n",
        "print(\"Accuracy: \", model.score(X_test, y_test))\n",
        "print(\"F1 score: \", f1_score(y_test, y_pred, average='macro'))\n",
        "print(classification_report(y_test, y_pred))\n"
      ]
    },
    {
      "cell_type": "code",
      "execution_count": null,
      "metadata": {
        "colab": {
          "base_uri": "https://localhost:8080/"
        },
        "id": "PzfYKd9QQtZY",
        "outputId": "e9454d6b-7fdb-438d-8799-fd1188b73670"
      },
      "outputs": [
        {
          "name": "stdout",
          "output_type": "stream",
          "text": [
            "Accuracy:  0.4700460829493088\n",
            "F1 score:  0.20478367734006833\n",
            "              precision    recall  f1-score   support\n",
            "\n",
            "           1       1.00      0.08      0.14        13\n",
            "           2       0.83      0.12      0.20        43\n",
            "           3       0.00      0.00      0.00        17\n",
            "           4       0.12      0.02      0.04        49\n",
            "           5       0.47      1.00      0.64        95\n",
            "\n",
            "    accuracy                           0.47       217\n",
            "   macro avg       0.49      0.24      0.20       217\n",
            "weighted avg       0.46      0.47      0.34       217\n",
            "\n"
          ]
        }
      ],
      "source": [
        "#sử dụng tf-idf\n",
        "model = MultinomialNB()\n",
        "model.fit(X, y)\n",
        "y_pred=model.predict(X_test)\n",
        "print(\"Accuracy: \", model.score(X_test, y_test))\n",
        "print(\"F1 score: \", f1_score(y_test, y_pred, average='macro'))\n",
        "print(classification_report(y_test, y_pred))\n"
      ]
    },
    {
      "cell_type": "code",
      "execution_count": null,
      "metadata": {
        "colab": {
          "base_uri": "https://localhost:8080/"
        },
        "id": "VprxzvgFNpnS",
        "outputId": "ccfd698c-0539-485b-c791-9b1529316e13"
      },
      "outputs": [
        {
          "name": "stdout",
          "output_type": "stream",
          "text": [
            "Accuracy:  0.6175115207373272\n",
            "F1 score:  0.5549164935640345\n",
            "              precision    recall  f1-score   support\n",
            "\n",
            "           1       0.47      0.69      0.56        13\n",
            "           2       0.74      0.58      0.65        43\n",
            "           3       0.30      0.35      0.32        17\n",
            "           4       0.46      0.53      0.50        49\n",
            "           5       0.77      0.72      0.74        95\n",
            "\n",
            "    accuracy                           0.62       217\n",
            "   macro avg       0.55      0.57      0.55       217\n",
            "weighted avg       0.64      0.62      0.62       217\n",
            "\n"
          ]
        }
      ],
      "source": [
        "#sử dụng Augmentation\n",
        "model = MultinomialNB()\n",
        "model.fit(X, y)\n",
        "y_pred=model.predict(X_test)\n",
        "print(\"Accuracy: \", model.score(X_test, y_test))\n",
        "print(\"F1 score: \", f1_score(y_test, y_pred, average='macro'))\n",
        "print(classification_report(y_test, y_pred))\n"
      ]
    },
    {
      "cell_type": "code",
      "execution_count": null,
      "metadata": {
        "colab": {
          "base_uri": "https://localhost:8080/"
        },
        "id": "5s6imdzTT3vN",
        "outputId": "b516d208-de31-4f4d-9338-dbc908643915"
      },
      "outputs": [
        {
          "name": "stdout",
          "output_type": "stream",
          "text": [
            "Accuracy:  0.5990783410138248\n",
            "F1 score:  0.5478388278388279\n",
            "              precision    recall  f1-score   support\n",
            "\n",
            "           1       0.53      0.69      0.60        13\n",
            "           2       0.71      0.58      0.64        43\n",
            "           3       0.27      0.35      0.31        17\n",
            "           4       0.45      0.51      0.48        49\n",
            "           5       0.75      0.68      0.71        95\n",
            "\n",
            "    accuracy                           0.60       217\n",
            "   macro avg       0.54      0.56      0.55       217\n",
            "weighted avg       0.62      0.60      0.61       217\n",
            "\n"
          ]
        }
      ],
      "source": [
        "#sử dụng VNCore\n",
        "model = MultinomialNB()\n",
        "model.fit(X, y)\n",
        "y_pred=model.predict(X_test)\n",
        "print(\"Accuracy: \", model.score(X_test, y_test))\n",
        "print(\"F1 score: \", f1_score(y_test, y_pred, average='macro'))\n",
        "print(classification_report(y_test, y_pred))\n"
      ]
    },
    {
      "cell_type": "code",
      "execution_count": null,
      "metadata": {
        "colab": {
          "base_uri": "https://localhost:8080/"
        },
        "id": "FLs88LIFhuvI",
        "outputId": "fa8f9c85-7bc0-4179-8391-189a280eebe2"
      },
      "outputs": [
        {
          "name": "stdout",
          "output_type": "stream",
          "text": [
            "Accuracy:  0.543778801843318\n",
            "F1 score:  0.42719561732219963\n",
            "              precision    recall  f1-score   support\n",
            "\n",
            "           1       0.47      0.54      0.50        13\n",
            "           2       0.77      0.40      0.52        43\n",
            "           3       0.30      0.18      0.22        17\n",
            "           4       0.25      0.14      0.18        49\n",
            "           5       0.59      0.88      0.71        95\n",
            "\n",
            "    accuracy                           0.54       217\n",
            "   macro avg       0.48      0.43      0.43       217\n",
            "weighted avg       0.52      0.54      0.50       217\n",
            "\n"
          ]
        }
      ],
      "source": [
        "#sử dụng maxixum matching\n",
        "model = MultinomialNB()\n",
        "model.fit(X, y)\n",
        "y_pred=model.predict(X_test)\n",
        "print(\"Accuracy: \", model.score(X_test, y_test))\n",
        "print(\"F1 score: \", f1_score(y_test, y_pred, average='macro'))\n",
        "print(classification_report(y_test, y_pred))\n"
      ]
    },
    {
      "cell_type": "code",
      "execution_count": null,
      "metadata": {
        "colab": {
          "base_uri": "https://localhost:8080/",
          "height": 265
        },
        "id": "Z_Adi8Bqcd7C",
        "outputId": "2be613d1-2605-4bff-9888-1232509b2f60"
      },
      "outputs": [
        {
          "data": {
            "image/png": "[encoded data removed]",
            "text/plain": [
              "<Figure size 432x288 with 2 Axes>"
            ]
          },
          "metadata": {
            "needs_background": "light"
          },
          "output_type": "display_data"
        }
      ],
      "source": [
        "vis=sns.heatmap(confusion_matrix(y_test, y_pred), annot=True, fmt=\"d\")\n",
        "plt.savefig('confusion_matrix.png')"
      ]
    },
    {
      "cell_type": "markdown",
      "metadata": {
        "id": "5v2QNkI2dNch"
      },
      "source": [
        "## SVM"
      ]
    },
    {
      "cell_type": "code",
      "execution_count": null,
      "metadata": {
        "colab": {
          "base_uri": "https://localhost:8080/"
        },
        "id": "MldAwIGldPPu",
        "outputId": "28fc419c-5111-4122-e20c-91040cc3b364"
      },
      "outputs": [
        {
          "name": "stdout",
          "output_type": "stream",
          "text": [
            "Accuracy:  0.5069124423963134\n",
            "F1 score:  0.36123881572689426\n",
            "              precision    recall  f1-score   support\n",
            "\n",
            "           1       0.80      0.31      0.44        13\n",
            "           2       0.83      0.23      0.36        43\n",
            "           3       0.25      0.06      0.10        17\n",
            "           4       0.23      0.20      0.22        49\n",
            "           5       0.56      0.89      0.69        95\n",
            "\n",
            "    accuracy                           0.51       217\n",
            "   macro avg       0.53      0.34      0.36       217\n",
            "weighted avg       0.53      0.51      0.46       217\n",
            "\n"
          ]
        }
      ],
      "source": [
        "model=SVC()\n",
        "model.fit(X, y)\n",
        "\n",
        "#f1 score\n",
        "from sklearn.metrics import f1_score\n",
        "y_pred=model.predict(X_test)\n",
        "print(\"Accuracy: \", model.score(X_test, y_test))\n",
        "print(\"F1 score: \", f1_score(y_test, y_pred, average='macro'))\n",
        "print(classification_report(y_test, y_pred))"
      ]
    },
    {
      "cell_type": "code",
      "execution_count": null,
      "metadata": {
        "colab": {
          "base_uri": "https://localhost:8080/"
        },
        "id": "LtQcSNwhJmNG",
        "outputId": "b265dcff-9c3d-4db1-9f9b-1c7e5c1f8629"
      },
      "outputs": [
        {
          "name": "stdout",
          "output_type": "stream",
          "text": [
            "Accuracy:  0.5668202764976958\n",
            "F1 score:  0.4443105581217348\n",
            "              precision    recall  f1-score   support\n",
            "\n",
            "           1       0.71      0.38      0.50        13\n",
            "           2       0.83      0.47      0.60        43\n",
            "           3       0.43      0.18      0.25        17\n",
            "           4       0.38      0.12      0.18        49\n",
            "           5       0.55      0.94      0.69        95\n",
            "\n",
            "    accuracy                           0.57       217\n",
            "   macro avg       0.58      0.42      0.44       217\n",
            "weighted avg       0.57      0.57      0.51       217\n",
            "\n"
          ]
        }
      ],
      "source": [
        "model=SVC(kernel=\"rbf\")\n",
        "model.fit(X, y)\n",
        "\n",
        "#f1 score\n",
        "from sklearn.metrics import f1_score\n",
        "y_pred=model.predict(X_test)\n",
        "print(\"Accuracy: \", model.score(X_test, y_test))\n",
        "print(\"F1 score: \", f1_score(y_test, y_pred, average='macro'))\n",
        "print(classification_report(y_test, y_pred))"
      ]
    },
    {
      "cell_type": "code",
      "execution_count": null,
      "metadata": {
        "colab": {
          "base_uri": "https://localhost:8080/"
        },
        "id": "8rOMRFEbOiuW",
        "outputId": "32f9f66e-e839-4146-dbdb-d3007aa754d1"
      },
      "outputs": [
        {
          "name": "stdout",
          "output_type": "stream",
          "text": [
            "Accuracy:  0.6359447004608295\n",
            "F1 score:  0.5936548850131194\n",
            "              precision    recall  f1-score   support\n",
            "\n",
            "           1       0.73      0.62      0.67        13\n",
            "           2       0.71      0.74      0.73        43\n",
            "           3       0.36      0.29      0.32        17\n",
            "           4       0.46      0.67      0.55        49\n",
            "           5       0.79      0.63      0.70        95\n",
            "\n",
            "    accuracy                           0.64       217\n",
            "   macro avg       0.61      0.59      0.59       217\n",
            "weighted avg       0.66      0.64      0.64       217\n",
            "\n"
          ]
        }
      ],
      "source": [
        "model=SVC()\n",
        "model.fit(X, y)\n",
        "\n",
        "#f1 score\n",
        "from sklearn.metrics import f1_score\n",
        "y_pred=model.predict(X_test)\n",
        "print(\"Accuracy: \", model.score(X_test, y_test))\n",
        "print(\"F1 score: \", f1_score(y_test, y_pred, average='macro'))\n",
        "print(classification_report(y_test, y_pred))"
      ]
    },
    {
      "cell_type": "code",
      "execution_count": null,
      "metadata": {
        "colab": {
          "base_uri": "https://localhost:8080/"
        },
        "id": "SS4ORqzUURDz",
        "outputId": "a9924b29-a1ec-44db-c87e-4df3c9ffe750"
      },
      "outputs": [
        {
          "name": "stdout",
          "output_type": "stream",
          "text": [
            "Accuracy:  0.6175115207373272\n",
            "F1 score:  0.5702299379349908\n",
            "              precision    recall  f1-score   support\n",
            "\n",
            "           1       0.62      0.62      0.62        13\n",
            "           2       0.67      0.72      0.70        43\n",
            "           3       0.31      0.29      0.30        17\n",
            "           4       0.45      0.67      0.54        49\n",
            "           5       0.83      0.60      0.70        95\n",
            "\n",
            "    accuracy                           0.62       217\n",
            "   macro avg       0.58      0.58      0.57       217\n",
            "weighted avg       0.66      0.62      0.63       217\n",
            "\n"
          ]
        }
      ],
      "source": [
        "model=SVC()\n",
        "model.fit(X, y)\n",
        "\n",
        "#f1 score\n",
        "from sklearn.metrics import f1_score\n",
        "y_pred=model.predict(X_test)\n",
        "print(\"Accuracy: \", model.score(X_test, y_test))\n",
        "print(\"F1 score: \", f1_score(y_test, y_pred, average='macro'))\n",
        "print(classification_report(y_test, y_pred))"
      ]
    },
    {
      "cell_type": "code",
      "execution_count": null,
      "metadata": {
        "colab": {
          "base_uri": "https://localhost:8080/"
        },
        "id": "hk-bdLAth54a",
        "outputId": "71ed8537-2328-46ab-c2e1-16dbf6b17d5c"
      },
      "outputs": [
        {
          "name": "stdout",
          "output_type": "stream",
          "text": [
            "Accuracy:  0.5253456221198156\n",
            "F1 score:  0.408270762868464\n",
            "              precision    recall  f1-score   support\n",
            "\n",
            "           1       0.80      0.31      0.44        13\n",
            "           2       0.80      0.28      0.41        43\n",
            "           3       0.43      0.18      0.25        17\n",
            "           4       0.26      0.22      0.24        49\n",
            "           5       0.57      0.88      0.69        95\n",
            "\n",
            "    accuracy                           0.53       217\n",
            "   macro avg       0.57      0.37      0.41       217\n",
            "weighted avg       0.55      0.53      0.49       217\n",
            "\n"
          ]
        }
      ],
      "source": [
        "model=SVC()\n",
        "model.fit(X, y)\n",
        "\n",
        "#f1 score\n",
        "from sklearn.metrics import f1_score\n",
        "y_pred=model.predict(X_test)\n",
        "print(\"Accuracy: \", model.score(X_test, y_test))\n",
        "print(\"F1 score: \", f1_score(y_test, y_pred, average='macro'))\n",
        "print(classification_report(y_test, y_pred))"
      ]
    },
    {
      "cell_type": "code",
      "execution_count": null,
      "metadata": {
        "colab": {
          "base_uri": "https://localhost:8080/",
          "height": 265
        },
        "id": "e_9vkXrndS6G",
        "outputId": "d45367c4-3512-4ec2-afda-9120966e86e0"
      },
      "outputs": [
        {
          "data": {
            "image/png": "[encoded data removed]",
            "text/plain": [
              "<Figure size 432x288 with 2 Axes>"
            ]
          },
          "metadata": {
            "needs_background": "light"
          },
          "output_type": "display_data"
        }
      ],
      "source": [
        "vis=sns.heatmap(confusion_matrix(y_test, y_pred), annot=True, fmt=\"d\")\n",
        "plt.savefig('confusion_matrix.png')"
      ]
    },
    {
      "cell_type": "markdown",
      "metadata": {
        "id": "jfC3Brfpd04n"
      },
      "source": [
        "## Random Forest"
      ]
    },
    {
      "cell_type": "code",
      "execution_count": null,
      "metadata": {
        "colab": {
          "base_uri": "https://localhost:8080/"
        },
        "id": "4vXKrzPVd3Fs",
        "outputId": "a108b3e9-4fcb-4e4d-d953-45835407b5c6"
      },
      "outputs": [
        {
          "name": "stdout",
          "output_type": "stream",
          "text": [
            "Accuracy:  0.5253456221198156\n",
            "F1 score:  0.4451240306174107\n",
            "              precision    recall  f1-score   support\n",
            "\n",
            "           1       0.60      0.46      0.52        13\n",
            "           2       0.77      0.40      0.52        43\n",
            "           3       0.25      0.18      0.21        17\n",
            "           4       0.27      0.31      0.29        49\n",
            "           5       0.62      0.77      0.69        95\n",
            "\n",
            "    accuracy                           0.53       217\n",
            "   macro avg       0.50      0.42      0.45       217\n",
            "weighted avg       0.54      0.53      0.52       217\n",
            "\n"
          ]
        }
      ],
      "source": [
        "model=RandomForestClassifier()\n",
        "model.fit(X, y)\n",
        "y_pred=model.predict(X_test)\n",
        "print(\"Accuracy: \", model.score(X_test, y_test))\n",
        "print(\"F1 score: \", f1_score(y_test, y_pred, average='macro'))\n",
        "print(classification_report(y_test, y_pred))"
      ]
    },
    {
      "cell_type": "code",
      "execution_count": null,
      "metadata": {
        "colab": {
          "base_uri": "https://localhost:8080/"
        },
        "id": "oVYAWPYXJtCe",
        "outputId": "683a7059-2f65-4b29-a07d-e7e95f5cb8b6"
      },
      "outputs": [
        {
          "name": "stdout",
          "output_type": "stream",
          "text": [
            "Accuracy:  0.5161290322580645\n",
            "F1 score:  0.42722851694848474\n",
            "              precision    recall  f1-score   support\n",
            "\n",
            "           1       0.60      0.46      0.52        13\n",
            "           2       0.79      0.35      0.48        43\n",
            "           3       0.23      0.18      0.20        17\n",
            "           4       0.30      0.24      0.27        49\n",
            "           5       0.56      0.80      0.66        95\n",
            "\n",
            "    accuracy                           0.52       217\n",
            "   macro avg       0.50      0.41      0.43       217\n",
            "weighted avg       0.52      0.52      0.49       217\n",
            "\n"
          ]
        }
      ],
      "source": [
        "model=RandomForestClassifier()\n",
        "model.fit(X, y)\n",
        "y_pred=model.predict(X_test)\n",
        "print(\"Accuracy: \", model.score(X_test, y_test))\n",
        "print(\"F1 score: \", f1_score(y_test, y_pred, average='macro'))\n",
        "print(classification_report(y_test, y_pred))"
      ]
    },
    {
      "cell_type": "code",
      "execution_count": null,
      "metadata": {
        "colab": {
          "base_uri": "https://localhost:8080/"
        },
        "id": "8cGotEw0OnJn",
        "outputId": "776f190f-322e-4e8a-fd55-03fb45aaa0ff"
      },
      "outputs": [
        {
          "name": "stdout",
          "output_type": "stream",
          "text": [
            "Accuracy:  0.6497695852534562\n",
            "F1 score:  0.6161701802912307\n",
            "              precision    recall  f1-score   support\n",
            "\n",
            "           1       0.62      0.77      0.69        13\n",
            "           2       0.79      0.60      0.68        43\n",
            "           3       0.55      0.35      0.43        17\n",
            "           4       0.45      0.67      0.54        49\n",
            "           5       0.79      0.69      0.74        95\n",
            "\n",
            "    accuracy                           0.65       217\n",
            "   macro avg       0.64      0.62      0.62       217\n",
            "weighted avg       0.68      0.65      0.66       217\n",
            "\n"
          ]
        }
      ],
      "source": [
        "model=RandomForestClassifier()\n",
        "model.fit(X, y)\n",
        "y_pred=model.predict(X_test)\n",
        "print(\"Accuracy: \", model.score(X_test, y_test))\n",
        "print(\"F1 score: \", f1_score(y_test, y_pred, average='macro'))\n",
        "print(classification_report(y_test, y_pred))"
      ]
    },
    {
      "cell_type": "code",
      "execution_count": null,
      "metadata": {
        "colab": {
          "base_uri": "https://localhost:8080/"
        },
        "id": "kriuIkgqUWpy",
        "outputId": "2ae40e3d-a1ba-4cf9-8e31-5e7f41d92fbc"
      },
      "outputs": [
        {
          "name": "stdout",
          "output_type": "stream",
          "text": [
            "Accuracy:  0.6405529953917051\n",
            "F1 score:  0.5902938088157573\n",
            "              precision    recall  f1-score   support\n",
            "\n",
            "           1       0.60      0.69      0.64        13\n",
            "           2       0.74      0.60      0.67        43\n",
            "           3       0.35      0.35      0.35        17\n",
            "           4       0.48      0.63      0.55        49\n",
            "           5       0.78      0.71      0.74        95\n",
            "\n",
            "    accuracy                           0.64       217\n",
            "   macro avg       0.59      0.60      0.59       217\n",
            "weighted avg       0.66      0.64      0.65       217\n",
            "\n"
          ]
        }
      ],
      "source": [
        "model=RandomForestClassifier()\n",
        "model.fit(X, y)\n",
        "y_pred=model.predict(X_test)\n",
        "print(\"Accuracy: \", model.score(X_test, y_test))\n",
        "print(\"F1 score: \", f1_score(y_test, y_pred, average='macro'))\n",
        "print(classification_report(y_test, y_pred))"
      ]
    },
    {
      "cell_type": "code",
      "execution_count": null,
      "metadata": {
        "colab": {
          "base_uri": "https://localhost:8080/"
        },
        "id": "q6Qe8r9AiAIN",
        "outputId": "9b83da44-d305-4326-8b74-d6e0e0710d28"
      },
      "outputs": [
        {
          "name": "stdout",
          "output_type": "stream",
          "text": [
            "Accuracy:  0.511520737327189\n",
            "F1 score:  0.4423698041089345\n",
            "              precision    recall  f1-score   support\n",
            "\n",
            "           1       0.60      0.46      0.52        13\n",
            "           2       0.76      0.37      0.50        43\n",
            "           3       0.22      0.24      0.23        17\n",
            "           4       0.27      0.31      0.29        49\n",
            "           5       0.62      0.74      0.67        95\n",
            "\n",
            "    accuracy                           0.51       217\n",
            "   macro avg       0.50      0.42      0.44       217\n",
            "weighted avg       0.54      0.51      0.51       217\n",
            "\n"
          ]
        }
      ],
      "source": [
        "model=RandomForestClassifier()\n",
        "model.fit(X, y)\n",
        "y_pred=model.predict(X_test)\n",
        "print(\"Accuracy: \", model.score(X_test, y_test))\n",
        "print(\"F1 score: \", f1_score(y_test, y_pred, average='macro'))\n",
        "print(classification_report(y_test, y_pred))"
      ]
    },
    {
      "cell_type": "code",
      "execution_count": null,
      "metadata": {
        "colab": {
          "base_uri": "https://localhost:8080/",
          "height": 265
        },
        "id": "AVQNS4Fvd5k3",
        "outputId": "166b7bdb-c9ad-4a20-ccf5-f6ae380e5e97"
      },
      "outputs": [
        {
          "data": {
            "image/png": "[encoded data removed]",
            "text/plain": [
              "<Figure size 432x288 with 2 Axes>"
            ]
          },
          "metadata": {
            "needs_background": "light"
          },
          "output_type": "display_data"
        }
      ],
      "source": [
        "vis=sns.heatmap(confusion_matrix(y_test, y_pred), annot=True, fmt=\"d\")\n",
        "plt.savefig('confusion_matrix.png')"
      ]
    },
    {
      "cell_type": "markdown",
      "metadata": {
        "id": "b23o1xari4sF"
      },
      "source": [
        "# Data Augmentation "
      ]
    },
    {
      "cell_type": "code",
      "execution_count": null,
      "metadata": {
        "colab": {
          "base_uri": "https://localhost:8080/"
        },
        "id": "hhEukeASlJcn",
        "outputId": "249ba13e-d184-4ee5-fcb7-1fdd9535e40c"
      },
      "outputs": [
        {
          "name": "stdout",
          "output_type": "stream",
          "text": [
            "Looking in indexes: https://pypi.org/simple, https://us-python.pkg.dev/colab-wheels/public/simple/\n",
            "Collecting transformers\n",
            "  Downloading transformers-4.25.1-py3-none-any.whl (5.8 MB)\n",
            "\u001b[2K     \u001b[90m━━━━━━━━━━━━━━━━━━━━━━━━━━━━━━━━━━━━━━━━\u001b[0m \u001b[32m5.8/5.8 MB\u001b[0m \u001b[31m45.2 MB/s\u001b[0m eta \u001b[36m0:00:00\u001b[0m\n",
            "\u001b[?25hCollecting tokenizers!=0.11.3,<0.14,>=0.11.1\n",
            "  Downloading tokenizers-0.13.2-cp38-cp38-manylinux_2_17_x86_64.manylinux2014_x86_64.whl (7.6 MB)\n",
            "\u001b[2K     \u001b[90m━━━━━━━━━━━━━━━━━━━━━━━━━━━━━━━━━━━━━━━━\u001b[0m \u001b[32m7.6/7.6 MB\u001b[0m \u001b[31m79.6 MB/s\u001b[0m eta \u001b[36m0:00:00\u001b[0m\n",
            "\u001b[?25hCollecting huggingface-hub<1.0,>=0.10.0\n",
            "  Downloading huggingface_hub-0.11.1-py3-none-any.whl (182 kB)\n",
            "\u001b[2K     \u001b[90m━━━━━━━━━━━━━━━━━━━━━━━━━━━━━━━━━━━━━━\u001b[0m \u001b[32m182.4/182.4 KB\u001b[0m \u001b[31m16.5 MB/s\u001b[0m eta \u001b[36m0:00:00\u001b[0m\n",
            "\u001b[?25hRequirement already satisfied: filelock in /usr/local/lib/python3.8/dist-packages (from transformers) (3.8.2)\n",
            "Requirement already satisfied: numpy>=1.17 in /usr/local/lib/python3.8/dist-packages (from transformers) (1.21.6)\n",
            "Requirement already satisfied: packaging>=20.0 in /usr/local/lib/python3.8/dist-packages (from transformers) (21.3)\n",
            "Requirement already satisfied: tqdm>=4.27 in /usr/local/lib/python3.8/dist-packages (from transformers) (4.64.1)\n",
            "Requirement already satisfied: regex!=2019.12.17 in /usr/local/lib/python3.8/dist-packages (from transformers) (2022.6.2)\n",
            "Requirement already satisfied: pyyaml>=5.1 in /usr/local/lib/python3.8/dist-packages (from transformers) (6.0)\n",
            "Requirement already satisfied: requests in /usr/local/lib/python3.8/dist-packages (from transformers) (2.25.1)\n",
            "Requirement already satisfied: typing-extensions>=3.7.4.3 in /usr/local/lib/python3.8/dist-packages (from huggingface-hub<1.0,>=0.10.0->transformers) (4.4.0)\n",
            "Requirement already satisfied: pyparsing!=3.0.5,>=2.0.2 in /usr/local/lib/python3.8/dist-packages (from packaging>=20.0->transformers) (3.0.9)\n",
            "Requirement already satisfied: chardet<5,>=3.0.2 in /usr/local/lib/python3.8/dist-packages (from requests->transformers) (4.0.0)\n",
            "Requirement already satisfied: idna<3,>=2.5 in /usr/local/lib/python3.8/dist-packages (from requests->transformers) (2.10)\n",
            "Requirement already satisfied: urllib3<1.27,>=1.21.1 in /usr/local/lib/python3.8/dist-packages (from requests->transformers) (1.24.3)\n",
            "Requirement already satisfied: certifi>=2017.4.17 in /usr/local/lib/python3.8/dist-packages (from requests->transformers) (2022.12.7)\n",
            "Installing collected packages: tokenizers, huggingface-hub, transformers\n",
            "Successfully installed huggingface-hub-0.11.1 tokenizers-0.13.2 transformers-4.25.1\n"
          ]
        }
      ],
      "source": [
        "!pip install transformers"
      ]
    },
    {
      "cell_type": "code",
      "execution_count": null,
      "metadata": {
        "colab": {
          "base_uri": "https://localhost:8080/",
          "height": 274,
          "referenced_widgets": [
            "9b41329e142140f2b5c7357a33f04e71",
            "b5038210bb6a4ee4b0bf9fcdb6239347",
            "7626f32f5d28439e945f76d3147464b9",
            "40e892b91c034a3d970ec367db2feab6",
            "0d272eeee9eb4dda82d922c48df72496",
            "827e760c93b44958b1f91afa04d6c34e",
            "fe76e10a28114313abc58032267ead5c",
            "9baed5b5b0464ecd96dbaa30f60a443a",
            "d7ee57a2cdb245fbad8293279b75ab59",
            "cb6b78baec064349a66b9d126744503a",
            "143ec34432124e9baa606c8af6822c54",
            "70e17c2542ef4be9a64e3bd745a95909",
            "62a8617eebff43f0ba46d6525d676ab0",
            "ce0a29a1b583454c94a05ef84e9bda12",
            "fc998a7947064bab944cffd1d2e56963",
            "2db26a09beba4fefb2863af5a9a99e73",
            "296654b9ffba4abea64e05c0df36ca0f",
            "a4e3f66a42ee40b79b40297dcb6f04a7",
            "f4154cba81a24f079344e27a9d4ddd9f",
            "c811a7a85be14b9e8d8e979e19a98bbd",
            "984640150f404177852dddffc284c6c7",
            "a85ab5b895844c3fa58249386b14541b",
            "5f612082a1224787b0c3e276a2d49cd4",
            "f6b67fdc2d83455bb34fa795d67e10b7",
            "80a86114622f4237b4b7eb368785e707",
            "3a9f3607666d458295e1216a8aa140c5",
            "55f620c9119c480981dca30deecb019b",
            "ffdcd1ee1ea3423cbb101e4e17ba2065",
            "823147a39fac446c870447db1c6f6591",
            "3247601aafd04898820b4d322341b204",
            "81f86805bd424f7eac04c40003aa7d76",
            "a607f78e05d24338915a7b3608876ec5",
            "eeb198c71c7441d08cf015f98f0d9df0",
            "9a05f9a88948499ca807a3cfa97fa086",
            "34bf5ae39f2143c7a6501be538d3b8f8",
            "5ea81f9e56664deda77d1056bbdcfc14",
            "c33e0a8f0cc3409b92909399b3872c13",
            "533ed776e5cd4340859d8d572c7bc065",
            "be1e2e978f3a43bfaf042d8fec4693c7",
            "33cc4f6ae44542fbaee7c62507c555e4",
            "355c62ae3a964503b8b3e237ffd9ca51",
            "e80c699d4109419585dc487dc1236b4e",
            "dfa2f6b21e60453082f5471cfbefbd17",
            "9a7d5d17fc06433b9cd93528eccef0d1"
          ]
        },
        "id": "VZJoBxooi74E",
        "outputId": "8b07b308-6bce-4720-ce54-4f7091a35935"
      },
      "outputs": [
        {
          "data": {
            "application/vnd.jupyter.widget-view+json": {
              "model_id": "9b41329e142140f2b5c7357a33f04e71",
              "version_major": 2,
              "version_minor": 0
            },
            "text/plain": [
              "Downloading:   0%|          | 0.00/557 [00:00<?, ?B/s]"
            ]
          },
          "metadata": {},
          "output_type": "display_data"
        },
        {
          "data": {
            "application/vnd.jupyter.widget-view+json": {
              "model_id": "70e17c2542ef4be9a64e3bd745a95909",
              "version_major": 2,
              "version_minor": 0
            },
            "text/plain": [
              "Downloading:   0%|          | 0.00/543M [00:00<?, ?B/s]"
            ]
          },
          "metadata": {},
          "output_type": "display_data"
        },
        {
          "name": "stderr",
          "output_type": "stream",
          "text": [
            "Some weights of the model checkpoint at vinai/phobert-base were not used when initializing RobertaModel: ['lm_head.bias', 'lm_head.dense.bias', 'lm_head.decoder.weight', 'lm_head.layer_norm.bias', 'lm_head.decoder.bias', 'lm_head.dense.weight', 'lm_head.layer_norm.weight']\n",
            "- This IS expected if you are initializing RobertaModel from the checkpoint of a model trained on another task or with another architecture (e.g. initializing a BertForSequenceClassification model from a BertForPreTraining model).\n",
            "- This IS NOT expected if you are initializing RobertaModel from the checkpoint of a model that you expect to be exactly identical (initializing a BertForSequenceClassification model from a BertForSequenceClassification model).\n"
          ]
        },
        {
          "data": {
            "application/vnd.jupyter.widget-view+json": {
              "model_id": "5f612082a1224787b0c3e276a2d49cd4",
              "version_major": 2,
              "version_minor": 0
            },
            "text/plain": [
              "Downloading:   0%|          | 0.00/895k [00:00<?, ?B/s]"
            ]
          },
          "metadata": {},
          "output_type": "display_data"
        },
        {
          "data": {
            "application/vnd.jupyter.widget-view+json": {
              "model_id": "9a05f9a88948499ca807a3cfa97fa086",
              "version_major": 2,
              "version_minor": 0
            },
            "text/plain": [
              "Downloading:   0%|          | 0.00/1.14M [00:00<?, ?B/s]"
            ]
          },
          "metadata": {},
          "output_type": "display_data"
        },
        {
          "name": "stderr",
          "output_type": "stream",
          "text": [
            "Special tokens have been added in the vocabulary, make sure the associated word embeddings are fine-tuned or trained.\n",
            "/usr/local/lib/python3.8/dist-packages/transformers/models/auto/modeling_auto.py:1177: FutureWarning: The class `AutoModelWithLMHead` is deprecated and will be removed in a future version. Please use `AutoModelForCausalLM` for causal language models, `AutoModelForMaskedLM` for masked language models and `AutoModelForSeq2SeqLM` for encoder-decoder models.\n",
            "  warnings.warn(\n"
          ]
        }
      ],
      "source": [
        "import torch\n",
        "from transformers import AutoModel, AutoTokenizer,AutoModelWithLMHead\n",
        "from transformers import pipeline, AutoModelWithLMHead, AutoTokenizer\n",
        "from underthesea import word_tokenize\n",
        "import random\n",
        "import pandas as pd\n",
        "from underthesea import pos_tag\n",
        "phobert = AutoModel.from_pretrained(\"vinai/phobert-base\")\n",
        "tokenizer = AutoTokenizer.from_pretrained(\"vinai/phobert-base\")\n",
        "model_ = AutoModelWithLMHead.from_pretrained(\"vinai/phobert-base\")\n",
        "nlp = pipeline(\"fill-mask\", model=model_,tokenizer=tokenizer)\n",
        "\n"
      ]
    },
    {
      "cell_type": "code",
      "execution_count": null,
      "metadata": {
        "colab": {
          "base_uri": "https://localhost:8080/"
        },
        "id": "TcRzRVWcpYiu",
        "outputId": "d2d10e51-a168-46b0-e4da-f89ef68f15f5"
      },
      "outputs": [
        {
          "name": "stdout",
          "output_type": "stream",
          "text": [
            "[3, 4, 8, 15, 16, 25, 26, 27]\n"
          ]
        }
      ],
      "source": [
        "\n",
        "def augment(text,num_sent):\n",
        "    tagging=pos_tag(text)\n",
        "    word_token=word_tokenize(text)\n",
        "    index_n=[]\n",
        "    for i in range(len(tagging)):\n",
        "        if tagging[i][1]=='N':\n",
        "            index_n.append(i)\n",
        "    list_aug=[]\n",
        "    list_score=[]\n",
        "    print(index_n)\n",
        "    for index in index_n:\n",
        "        word_token_copy=word_token.copy()\n",
        "        word_token_copy[index]='<mask>'\n",
        "        text=' '.join(word_token_copy)\n",
        "        new_text_list=nlp(text)\n",
        "        score=[i['score'] for i in new_text_list]\n",
        "        new_text_list=[i['sequence'] for i in new_text_list ]\n",
        "        list_score+=score\n",
        "        list_aug+=new_text_list\n",
        "    dict_score={i:j for i,j in zip(list_aug,list_score)}\n",
        "    return dict_score \n",
        "    # list_aug=sorted(dict_score.items(), key=lambda x: x[1],reverse=True)\n",
        "    # list_aug=[i[0] for i in list_aug]\n",
        "    # list_aug=[i for i in list_aug if i!=text][:3]\n",
        "    # return list_aug[:3]\n",
        "aug=(augment('Khe vịn mở cửa tủ quần áo hơi cạn nên khi mở hơi khó, dễ gãy móng tay, nên khoét sâu hơn hoặc có nắm cửa bên ngoài.',3))"
      ]
    },
    {
      "cell_type": "code",
      "execution_count": null,
      "metadata": {
        "colab": {
          "base_uri": "https://localhost:8080/"
        },
        "id": "0XGF9VlbLZot",
        "outputId": "f859e503-a33d-4ccf-ebb0-09546543f228"
      },
      "outputs": [
        {
          "name": "stdout",
          "output_type": "stream",
          "text": [
            "{'Khe vịn mở cửa mặc quần áo hơi cạn nên khi mở hơi khó, dễ gãy móng tay, nên khoét sâu hơn hoặc có nắm cửa bên ngoài.': 0.12839145958423615, 'Khe vịn mở cửa sau quần áo hơi cạn nên khi mở hơi khó, dễ gãy móng tay, nên khoét sâu hơn hoặc có nắm cửa bên ngoài.': 0.12647907435894012, 'Khe vịn mở cửa của quần áo hơi cạn nên khi mở hơi khó, dễ gãy móng tay, nên khoét sâu hơn hoặc có nắm cửa bên ngoài.': 0.07465775310993195, 'Khe vịn mở cửa ở quần áo hơi cạn nên khi mở hơi khó, dễ gãy móng tay, nên khoét sâu hơn hoặc có nắm cửa bên ngoài.': 0.051124487072229385, 'Khe vịn mở cửa bằng quần áo hơi cạn nên khi mở hơi khó, dễ gãy móng tay, nên khoét sâu hơn hoặc có nắm cửa bên ngoài.': 0.045155514031648636, 'Khe vịn mở cửa tủ thường hơi cạn nên khi mở hơi khó, dễ gãy móng tay, nên khoét sâu hơn hoặc có nắm cửa bên ngoài.': 0.13574711978435516, 'Khe vịn mở cửa tủ quần_áo hơi cạn nên khi mở hơi khó, dễ gãy móng tay, nên khoét sâu hơn hoặc có nắm cửa bên ngoài.': 0.13428083062171936, 'Khe vịn mở cửa tủ gỗ hơi cạn nên khi mở hơi khó, dễ gãy móng tay, nên khoét sâu hơn hoặc có nắm cửa bên ngoài.': 0.08967196196317673, 'Khe vịn mở cửa tủ bếp hơi cạn nên khi mở hơi khó, dễ gãy móng tay, nên khoét sâu hơn hoặc có nắm cửa bên ngoài.': 0.05082983151078224, 'Khe vịn mở cửa tủ kính hơi cạn nên khi mở hơi khó, dễ gãy móng tay, nên khoét sâu hơn hoặc có nắm cửa bên ngoài.': 0.036277178674936295, 'Khe vịn mở cửa tủ quần áo hơi cạn nên đóng mở hơi khó, dễ gãy móng tay, nên khoét sâu hơn hoặc có nắm cửa bên ngoài.': 0.3411456346511841, 'Khe vịn mở cửa tủ quần áo hơi cạn nên việc mở hơi khó, dễ gãy móng tay, nên khoét sâu hơn hoặc có nắm cửa bên ngoài.': 0.08866514265537262, 'Khe vịn mở cửa tủ quần áo hơi cạn nên khi mở hơi khó, dễ gãy móng tay, nên khoét sâu hơn hoặc có nắm cửa bên ngoài.': 0.23708920180797577, 'Khe vịn mở cửa tủ quần áo hơi cạn nên có_thể mở hơi khó, dễ gãy móng tay, nên khoét sâu hơn hoặc có nắm cửa bên ngoài.': 0.03944364935159683, 'Khe vịn mở cửa tủ quần áo hơi cạn nên cậy mở hơi khó, dễ gãy móng tay, nên khoét sâu hơn hoặc có nắm cửa bên ngoài.': 0.03663773462176323, 'Khe vịn mở cửa tủ quần áo hơi cạn nên khi mở hơi khó, dễ gãy ngón tay, nên khoét sâu hơn hoặc có nắm cửa bên ngoài.': 0.7496420741081238, 'Khe vịn mở cửa tủ quần áo hơi cạn nên khi mở hơi khó, dễ gãy xương tay, nên khoét sâu hơn hoặc có nắm cửa bên ngoài.': 0.02231689728796482, 'Khe vịn mở cửa tủ quần áo hơi cạn nên khi mở hơi khó, dễ gãy khuỷu tay, nên khoét sâu hơn hoặc có nắm cửa bên ngoài.': 0.016812745481729507, 'Khe vịn mở cửa tủ quần áo hơi cạn nên khi mở hơi khó, dễ gãy ở tay, nên khoét sâu hơn hoặc có nắm cửa bên ngoài.': 0.005689438432455063, 'Khe vịn mở cửa tủ quần áo hơi cạn nên khi mở hơi khó, dễ gãy móng chân, nên khoét sâu hơn hoặc có nắm cửa bên ngoài.': 0.047042928636074066, 'Khe vịn mở cửa tủ quần áo hơi cạn nên khi mở hơi khó, dễ gãy móng gỗ, nên khoét sâu hơn hoặc có nắm cửa bên ngoài.': 0.004811644554138184, 'Khe vịn mở cửa tủ quần áo hơi cạn nên khi mở hơi khó, dễ gãy móng tay_chân, nên khoét sâu hơn hoặc có nắm cửa bên ngoài.': 0.00359912496060133, 'Khe vịn mở cửa tủ quần áo hơi cạn nên khi mở hơi khó, dễ gãy móng cửa, nên khoét sâu hơn hoặc có nắm cửa bên ngoài.': 0.001296115224249661, 'Khe vịn mở cửa tủ quần áo hơi cạn nên khi mở hơi khó, dễ gãy móng tay, nên khoét sâu hơn hoặc có nắm khoá bên ngoài.': 0.08471833914518356, 'Khe vịn mở cửa tủ quần áo hơi cạn nên khi mở hơi khó, dễ gãy móng tay, nên khoét sâu hơn hoặc có nắm vịn bên ngoài.': 0.06985188275575638, 'Khe vịn mở cửa tủ quần áo hơi cạn nên khi mở hơi khó, dễ gãy móng tay, nên khoét sâu hơn hoặc có nắm đỡ bên ngoài.': 0.0650019720196724, 'Khe vịn mở cửa tủ quần áo hơi cạn nên khi mở hơi khó, dễ gãy móng tay, nên khoét sâu hơn hoặc có nắm gỗ bên ngoài.': 0.04040870442986488, 'Khe vịn mở cửa tủ quần áo hơi cạn nên khi mở hơi khó, dễ gãy móng tay, nên khoét sâu hơn hoặc có nắm cố_định bên ngoài.': 0.039110779762268066, 'Khe vịn mở cửa tủ quần áo hơi cạn nên khi mở hơi khó, dễ gãy móng tay, nên khoét sâu hơn hoặc có nắm cửa phía ngoài.': 0.2033437192440033, 'Khe vịn mở cửa tủ quần áo hơi cạn nên khi mở hơi khó, dễ gãy móng tay, nên khoét sâu hơn hoặc có nắm cửa ở ngoài.': 0.15859246253967285, 'Khe vịn mở cửa tủ quần áo hơi cạn nên khi mở hơi khó, dễ gãy móng tay, nên khoét sâu hơn hoặc có nắm cửa khoá ngoài.': 0.023732412606477737, 'Khe vịn mở cửa tủ quần áo hơi cạn nên khi mở hơi khó, dễ gãy móng tay, nên khoét sâu hơn hoặc có nắm cửa gắn ngoài.': 0.0215461328625679, 'Khe vịn mở cửa tủ quần áo hơi cạn nên khi mở hơi khó, dễ gãy móng tay, nên khoét sâu hơn hoặc có nắm cửa bên trong.': 0.4914078414440155, 'Khe vịn mở cửa tủ quần áo hơi cạn nên khi mở hơi khó, dễ gãy móng tay, nên khoét sâu hơn hoặc có nắm cửa bên dưới.': 0.0564754493534565, 'Khe vịn mở cửa tủ quần áo hơi cạn nên khi mở hơi khó, dễ gãy móng tay, nên khoét sâu hơn hoặc có nắm cửa bên hông.': 0.0564672090113163, 'Khe vịn mở cửa tủ quần áo hơi cạn nên khi mở hơi khó, dễ gãy móng tay, nên khoét sâu hơn hoặc có nắm cửa bên cạnh.': 0.037178389728069305}\n"
          ]
        }
      ],
      "source": [
        "print(aug)"
      ]
    },
    {
      "cell_type": "code",
      "execution_count": null,
      "metadata": {
        "colab": {
          "base_uri": "https://localhost:8080/"
        },
        "id": "ATvGGitKv0aP",
        "outputId": "b962104c-0782-4734-8560-daabbbde786d"
      },
      "outputs": [
        {
          "name": "stdout",
          "output_type": "stream",
          "text": [
            "[0, 2, 5, 10, 12, 14, 16, 18, 22, 23, 25, 34, 35, 38]\n",
            "[1, 4, 7]\n",
            "[0, 1, 3, 5, 7, 8, 11]\n",
            "[0, 3, 6, 8, 10, 13, 17, 20, 21, 25, 27, 29, 31, 35, 37, 40, 43, 47, 51]\n",
            "[0, 7, 9, 17]\n",
            "[5, 9, 11, 12, 16, 24, 31]\n",
            "[0, 9]\n",
            "[0, 6, 13]\n",
            "[0, 1, 5, 9, 14, 17, 18, 21, 24, 26, 30, 34, 37, 39, 43, 53]\n",
            "[0, 3, 6, 7, 8, 16, 21, 23, 28, 31, 33, 38, 41, 42, 50, 52, 53, 57, 59, 62, 73]\n",
            "[4]\n",
            "[0, 8, 11]\n",
            "[5, 8]\n",
            "[0, 3, 9, 13, 14, 17, 18]\n",
            "[0, 3, 5]\n",
            "[1, 3, 5, 10, 12, 16, 18, 20]\n",
            "[0, 4, 5]\n",
            "[0, 6, 8, 10, 17, 19, 20, 21, 24, 25, 30, 36, 38, 45, 54, 63, 65, 72, 73, 75, 77, 88, 91, 92, 93, 95, 102, 107, 111, 112, 115, 120, 125, 127, 139, 140]\n",
            "[0, 2, 7, 9, 11, 14, 19]\n",
            "[0, 1, 5]\n",
            "[3, 4, 8, 15, 16, 25, 26, 27]\n",
            "[2, 3, 12, 13]\n",
            "[0, 5, 7, 11, 13, 15, 19, 23]\n",
            "[2, 4, 6, 12, 13, 15, 19, 26]\n",
            "[0, 5, 11, 13, 20, 24, 26, 34]\n",
            "[0, 1, 3, 7, 14, 15, 20, 21, 28, 31, 32, 34, 42, 44, 45, 47, 48, 52, 55]\n",
            "[0, 4, 6]\n",
            "[0, 3, 4, 5, 6, 7, 11, 13, 16, 17, 18, 21, 23]\n",
            "[0, 1, 3, 4]\n",
            "[2]\n",
            "[0, 7, 9, 10, 11, 14, 15, 17]\n",
            "[0, 1, 4, 6, 15, 16, 20, 22, 24, 29, 31, 33, 35, 42, 44, 46, 49, 51, 55, 61, 66, 67, 68, 73, 78, 84]\n",
            "[1, 8, 10, 13, 15, 19, 24, 25, 31]\n",
            "[2, 3, 5, 6, 15, 18]\n",
            "[0]\n",
            "[0, 3, 5, 7]\n",
            "[0, 3, 6, 10]\n",
            "[2, 9]\n",
            "[0, 1, 5, 7, 9, 12, 15, 17, 22, 28, 34, 36]\n",
            "[0, 3, 4, 5]\n",
            "[1, 2, 5, 12, 13, 17, 19, 26, 31, 33, 39]\n",
            "[3, 5, 12]\n",
            "[0, 5]\n",
            "[1, 3, 5, 8, 10]\n",
            "[0, 1, 3, 6, 10, 14, 18, 20, 23, 25]\n",
            "[0, 2, 5, 8, 11, 13, 19]\n",
            "[0, 5, 11, 17, 20, 27, 32, 38, 42, 43]\n",
            "[0, 3, 7, 9, 13, 15, 17, 20, 22, 36, 38, 41, 45, 49, 54, 59, 66, 73, 77]\n",
            "[0, 6, 9, 15, 20, 25]\n",
            "[2, 8, 10, 12]\n",
            "[0, 2, 4, 11, 13, 19, 20]\n",
            "[1, 3, 10, 14, 15, 21, 23]\n",
            "[4, 8, 10, 12, 18, 20, 22, 23, 29, 40, 41, 42, 43]\n",
            "[0, 3, 5, 8, 10]\n",
            "[0, 4, 10]\n",
            "[3, 8, 11, 17, 27, 29, 33, 35, 37, 38, 40, 44, 49, 55, 56, 61, 66, 68, 70, 71, 74, 76, 78, 86, 87, 93]\n",
            "[3, 9, 13, 15, 17, 20]\n",
            "[4, 11, 16]\n",
            "[0, 3, 4, 6]\n",
            "[0, 2, 5, 7]\n",
            "[0, 1, 3, 5, 9, 11, 16, 17, 20, 22, 23, 25, 33, 36, 41, 43, 47, 59, 63, 64, 67, 70, 72, 76, 78, 79, 87, 90, 93, 95, 98, 100, 104, 106, 107, 111, 112, 114, 118, 124]\n",
            "[1, 2, 4]\n",
            "[0, 2, 4, 8, 9]\n",
            "[1, 6, 9, 12]\n"
          ]
        },
        {
          "name": "stderr",
          "output_type": "stream",
          "text": [
            "Token indices sequence length is longer than the specified maximum sequence length for this model (435 > 256). Running this sequence through the model will result in indexing errors\n"
          ]
        },
        {
          "name": "stdout",
          "output_type": "stream",
          "text": [
            "[0, 7, 9, 15, 20, 27, 29, 39, 43, 47, 53, 56, 58, 60, 67, 78, 83, 85, 96, 104, 107, 108, 114, 118, 121, 124, 127, 132, 145, 148, 149, 151, 152, 154, 156, 157, 159, 160, 165, 170, 171, 173, 178, 179, 183, 187, 190, 194, 199, 200, 206, 214, 217, 221, 225, 226, 229, 233, 234, 235, 260, 266, 268, 277, 279, 280, 282, 284, 287, 291, 293, 301, 304, 305, 310, 312, 314, 315, 317, 319, 321, 324, 328, 332, 333, 334, 335, 337, 339, 348, 350, 354, 357]\n",
            "[3, 5, 7, 13, 15, 19, 24, 33, 35, 37, 41, 43, 47, 53, 59]\n",
            "[0, 3, 7, 11, 12, 14, 15]\n",
            "[0, 1, 3, 9, 11, 12, 16, 18, 22, 25, 27, 29, 31, 34]\n",
            "[0, 1]\n",
            "[2, 7, 10, 12, 15, 21, 25]\n",
            "[0, 3, 7, 11, 15, 18, 22, 29, 30, 34, 39, 40, 42, 43, 48, 55, 56, 59, 62, 67, 73]\n",
            "[0, 1, 3, 8, 12, 16, 17, 23, 26, 30, 33, 42]\n",
            "[2, 12, 13]\n",
            "[4]\n",
            "[0, 3, 5, 7, 12, 15, 18, 21, 23, 26, 27, 31, 33, 34, 38, 39, 42, 46, 50]\n",
            "[0, 1, 2, 5, 6, 9, 16, 17]\n",
            "[0, 2, 7, 15, 18, 21, 22, 24]\n",
            "[2, 5, 13, 16, 17, 19, 21, 22, 24, 27, 30, 33, 35, 37, 39, 40, 43, 45, 47, 50, 54, 57, 58, 63, 64, 67, 69, 72, 74, 75, 79, 82, 83, 85, 87, 91, 92]\n",
            "[0, 4, 9, 17, 22, 23, 32]\n",
            "[0, 2, 3, 6, 13, 17, 19, 24, 27, 33, 42, 48, 52, 62, 70, 73, 77, 79, 83, 87, 89, 90, 96, 100, 106, 108, 112, 125, 130, 131, 134, 135, 141, 148, 150]\n",
            "[1, 3, 5, 9, 10, 13, 16, 21, 25]\n",
            "[0, 2, 6, 7, 11, 15, 18, 27]\n",
            "[1, 3, 4, 7, 9, 10]\n",
            "[4, 8, 10, 11, 17]\n",
            "[0, 4, 6, 8, 9, 11, 17, 22]\n",
            "[0, 2]\n",
            "[0, 2, 3, 5, 10, 13, 16, 18, 20, 21, 25, 26, 32, 37, 38, 39, 40, 42]\n",
            "[0, 12, 18, 20, 23, 25, 26, 29]\n",
            "[0, 5, 8]\n",
            "[2, 11, 13]\n",
            "[0, 1, 4, 10, 11]\n",
            "[0, 1, 5, 8]\n",
            "[0, 3, 6, 9, 14]\n",
            "[2, 4, 13, 20, 22, 28, 31, 32, 36, 39, 42]\n",
            "[0, 4, 8, 20, 34, 45, 60, 62, 69, 70, 73, 75, 76, 80, 89, 92, 96, 99, 102, 104, 108, 111, 113, 122, 130, 133, 134, 135, 137, 143, 149, 150, 154, 157, 160, 164, 170, 172, 176, 180, 181, 184, 189, 191, 209, 211, 216, 218, 220, 222, 225, 229, 231, 238, 242, 246, 250, 267]\n",
            "[0, 1, 7, 9, 11, 16, 18, 20, 22, 24, 26, 29]\n",
            "[0]\n",
            "[1, 7, 13]\n",
            "[4, 6, 9, 10, 14]\n",
            "[0, 5, 10, 13, 20, 23]\n",
            "[0, 3, 6, 9, 14, 17, 19, 20]\n",
            "[2, 4, 6, 8, 11, 12, 13, 14, 16, 18, 19, 20, 21, 23, 26, 28, 29, 31, 33, 35, 37, 39, 40, 45, 47, 51, 53]\n",
            "[2, 3, 12]\n",
            "[4, 6, 10, 14, 16, 17, 19, 21, 27, 28, 31, 35, 40, 43, 46, 49, 52, 56, 65, 68, 73, 74, 78, 79, 83, 84, 88, 90, 95, 99, 103, 105, 106, 115, 116, 118, 120, 122, 123, 127, 130, 131, 134, 136, 137, 140, 144, 149, 151, 152, 159, 162]\n",
            "[2, 9]\n",
            "[1, 3, 7, 8]\n",
            "[4, 7, 10, 15, 17, 21, 27]\n",
            "[0, 2, 4, 8, 13, 15]\n",
            "[0, 1, 4, 5, 7, 10, 14, 17, 18, 21, 23, 24]\n",
            "[0, 1, 2, 3, 4]\n",
            "[2, 3, 7, 8, 15, 18, 23, 24, 28, 30]\n",
            "[0, 1, 3, 6, 7, 12, 13, 15, 17, 23, 29, 31, 35, 40, 44]\n",
            "[0, 3, 6]\n",
            "[0, 4, 6, 8, 12, 15, 17]\n",
            "[4, 5, 7, 10, 15, 17, 27, 28, 32]\n",
            "[2, 4, 5, 10, 13, 17, 27, 30, 37]\n",
            "[2, 3, 5, 7]\n",
            "[0, 3, 5, 9, 12, 13]\n",
            "[0, 3, 9, 13, 14, 16, 18, 19, 22, 33, 36, 45, 50, 54]\n",
            "[2, 4, 5]\n",
            "[0, 5, 7]\n",
            "[4, 5]\n",
            "[5, 9, 16, 26, 28, 29, 34, 36, 37]\n",
            "[0, 2, 6]\n",
            "[0, 1, 4, 6, 8, 10, 12, 16, 17, 19, 21]\n",
            "[0, 6, 8, 12, 17, 20, 25, 26, 27, 33, 34, 36, 37]\n",
            "[0]\n",
            "[2, 6]\n",
            "[0, 4, 7, 11, 15, 20, 23, 28, 30, 36, 41, 42]\n",
            "[0, 4, 5, 7, 12, 13, 15, 20, 22]\n",
            "[0, 6, 13, 19, 23, 28, 35, 39, 45, 46, 53, 54, 55, 60]\n",
            "[3, 5, 8, 11]\n",
            "[5]\n",
            "[0, 4, 7, 13, 15]\n",
            "[0, 3]\n",
            "[0, 1, 3, 5, 8, 10, 12]\n",
            "[2, 6, 7, 9, 13, 15, 23]\n",
            "[6, 8, 11, 15, 18, 20, 22, 24, 28, 30, 33, 35, 44, 48, 51, 54]\n",
            "[1, 6]\n",
            "[6, 10, 13, 18, 21, 24, 26, 28, 30, 32, 34, 41, 49, 53, 56, 60]\n",
            "[0, 1, 2, 4, 6, 9, 13, 14, 15]\n",
            "[0, 4, 9, 12, 14]\n",
            "[0, 3, 5, 9, 10, 12, 19, 25, 27, 29, 33, 35, 38]\n",
            "[0, 1, 3, 9]\n",
            "[0, 3, 4]\n",
            "[0, 6, 11, 14]\n",
            "[0, 11, 16]\n",
            "[0, 6, 11, 14, 17, 20]\n",
            "[0, 3, 7, 9, 14]\n",
            "[0, 5, 7, 12, 16]\n",
            "[3, 9, 11, 17, 20, 23, 28]\n",
            "[3, 8, 13, 16, 21, 26, 27, 29, 33, 37, 42, 43, 47]\n",
            "[0, 5, 7, 8, 20]\n",
            "[0, 3, 4, 8, 14, 16, 17]\n",
            "[2, 5, 8]\n",
            "[0, 1, 4, 8]\n",
            "[2, 3]\n",
            "[1, 3, 7, 13, 15, 17, 19, 26, 28, 34, 35, 38, 41, 42, 49, 53, 58]\n",
            "[0, 3, 8, 11, 15, 17, 22, 24, 29, 32, 37, 44, 46]\n",
            "[0, 1, 3, 4, 7, 8, 13]\n",
            "[0, 1, 3, 5, 9, 14, 18, 20, 21]\n",
            "[0, 3, 4, 6]\n",
            "[0, 5, 12]\n",
            "[0, 4, 7, 8, 10, 14, 22, 25]\n",
            "[2, 6, 7, 9, 14, 16, 22, 24, 25, 27, 30]\n",
            "[1, 4, 12, 15, 17, 22, 26, 29, 32, 34]\n",
            "[0, 1, 3, 6, 10]\n",
            "[0, 2, 6, 9, 10, 12, 14, 15]\n",
            "[0, 2, 4, 5, 7, 12, 15, 16, 21, 23, 26, 28, 33, 37]\n",
            "[0, 2, 6, 11, 13, 15, 19, 23, 27, 29, 32, 41]\n",
            "[1, 5, 8, 9, 11, 12, 14, 17, 19, 22, 24]\n",
            "[0, 7]\n",
            "[0]\n",
            "[0, 5, 6, 9, 11, 15, 18, 21, 23, 26, 30, 33]\n",
            "[2, 7, 11, 14, 24]\n",
            "[0]\n",
            "[1, 4, 6, 12, 16]\n",
            "[0, 6, 8]\n",
            "[0, 1, 4, 5, 7, 12, 22, 23]\n",
            "[2, 4, 6, 13]\n",
            "[0, 2, 4, 5]\n",
            "[0, 3, 7, 9, 11, 15, 16, 18, 22]\n",
            "[0, 1, 6, 7, 13, 18, 19]\n",
            "[0, 1, 3, 7, 10, 14, 17, 20, 21, 26]\n",
            "[5, 7, 9, 13, 16]\n",
            "[0, 2, 7, 15, 18, 25, 27, 33, 35]\n",
            "[2, 3, 9, 16, 19, 22, 25, 29, 35, 39, 45, 47, 55, 57, 61, 64, 72, 75, 78, 85, 93, 101]\n",
            "[0, 4, 6, 9, 13]\n",
            "[0, 2, 8]\n",
            "[0, 1, 12, 14, 15, 20, 22, 28, 29, 30, 33, 34, 37, 40, 42, 44, 49, 54, 55, 56, 70, 71, 74, 78, 82, 85, 91, 96, 98, 101, 104, 107, 108, 122, 124, 129, 132, 134, 138, 140, 143, 146, 154, 156, 157, 176, 183, 194, 216, 218]\n",
            "[3, 6, 10, 13, 15, 17, 20, 27, 36, 46, 47, 49, 55, 57, 64, 70, 75, 87, 98, 104, 105, 107, 112]\n",
            "[0]\n",
            "[0, 3]\n",
            "[0, 3, 5, 10, 14, 17, 21, 30, 34, 36, 41]\n",
            "[0, 2, 4, 5, 13]\n",
            "[0, 1, 3]\n",
            "[0, 4, 12]\n",
            "[1, 3, 5, 9, 11]\n",
            "[0, 2, 4, 8, 9, 11, 14, 16, 20, 21, 24]\n",
            "[3, 11, 12, 18, 21, 23, 30, 34, 38, 40, 43, 44]\n",
            "[0, 2, 5]\n",
            "[2, 9, 11, 13, 15, 18]\n",
            "[0]\n",
            "[0, 4, 11, 15, 20, 22, 25, 27, 31, 34]\n"
          ]
        }
      ],
      "source": [
        "df=pd.read_csv(\"data.csv\")\n",
        "new_df=pd.DataFrame(columns=['Review','labels'])\n",
        "review_list=[]\n",
        "labels_list=[]\n",
        "for i in range(len(df)):\n",
        "    review=df['Review'][i]\n",
        "    label=df['labels'][i]\n",
        "    review_list=review_list+[review]\n",
        "    labels_list=labels_list+[label]\n",
        "    #print(review)\n",
        "    try:\n",
        "        aug=augment(review,3)\n",
        "        review_list+=aug\n",
        "        labels_list=labels_list+[label]*aug\n",
        "        print(len(review_list))\n",
        "        print(len(labels_list))\n",
        "    except:\n",
        "        continue\n",
        "new_df['Review']=review_list\n",
        "new_df['labels']=labels_list\n",
        "new_df.to_csv(\"data_aug.csv\",index=False)"
      ]
    },
    {
      "cell_type": "code",
      "execution_count": null,
      "metadata": {
        "id": "FSbX811HiSjC"
      },
      "outputs": [],
      "source": [
        "text=\"vị trí khá bất tiện cho đoàn đi xe ô tô vì đường một chiều và nằm trong hẻm\""
      ]
    },
    {
      "cell_type": "code",
      "execution_count": null,
      "metadata": {
        "colab": {
          "base_uri": "https://localhost:8080/"
        },
        "id": "29JGyiKLiaRS",
        "outputId": "3bc5d7e8-b8e8-498a-a9ca-5aba78fead7a"
      },
      "outputs": [
        {
          "name": "stdout",
          "output_type": "stream",
          "text": [
            "[('vị trí', 'N'), ('khá', 'R'), ('bất tiện', 'A'), ('cho', 'E'), ('đoàn', 'N'), ('đi', 'V'), ('xe', 'N'), ('ô tô', 'A'), ('vì', 'E'), ('đường', 'N'), ('một chiều', 'V'), ('và', 'C'), ('nằm', 'V'), ('trong', 'E'), ('hẻm', 'N')]\n"
          ]
        }
      ],
      "source": [
        "tagging=pos_tag(text)\n",
        "print(tagging)"
      ]
    },
    {
      "cell_type": "code",
      "execution_count": null,
      "metadata": {
        "colab": {
          "base_uri": "https://localhost:8080/"
        },
        "id": "3jIlKDsHjm2a",
        "outputId": "191c699b-488f-4f99-c71f-805b11648fa6"
      },
      "outputs": [
        {
          "name": "stdout",
          "output_type": "stream",
          "text": [
            "[0, 4, 6, 9, 14]\n"
          ]
        }
      ],
      "source": [
        "dict_score=augment(text,5)"
      ]
    },
    {
      "cell_type": "code",
      "execution_count": null,
      "metadata": {
        "colab": {
          "base_uri": "https://localhost:8080/"
        },
        "id": "wakygo8ejkun",
        "outputId": "3a3ff880-f851-46b3-adc8-7c12f69188fe"
      },
      "outputs": [
        {
          "name": "stdout",
          "output_type": "stream",
          "text": [
            "{'Đường khá bất tiện cho đoàn đi xe ô tô vì đường một chiều và nằm trong hẻm': 0.5692278742790222, 'Vị_trí khá bất tiện cho đoàn đi xe ô tô vì đường một chiều và nằm trong hẻm': 0.060610029846429825, 'Nó khá bất tiện cho đoàn đi xe ô tô vì đường một chiều và nằm trong hẻm': 0.03340255096554756, 'Lộ_trình khá bất tiện cho đoàn đi xe ô tô vì đường một chiều và nằm trong hẻm': 0.014765167608857155, 'Khu_vực khá bất tiện cho đoàn đi xe ô tô vì đường một chiều và nằm trong hẻm': 0.012149202637374401, 'vị trí khá bất tiện cho người đi xe ô tô vì đường một chiều và nằm trong hẻm': 0.942931592464447, 'vị trí khá bất tiện cho việc đi xe ô tô vì đường một chiều và nằm trong hẻm': 0.015732822939753532, 'vị trí khá bất tiện cho đối_tượng đi xe ô tô vì đường một chiều và nằm trong hẻm': 0.003806827589869499, 'vị trí khá bất tiện cho những_ai đi xe ô tô vì đường một chiều và nằm trong hẻm': 0.0036981587763875723, 'vị trí khá bất tiện cho tài_xế đi xe ô tô vì đường một chiều và nằm trong hẻm': 0.003219174686819315, 'vị trí khá bất tiện cho đoàn đi xe ô tô vì đường một chiều và nằm trong hẻm': 0.01321658119559288, 'vị trí khá bất tiện cho đoàn đi xe_đạp ô tô vì đường một chiều và nằm trong hẻm': 0.19018973410129547, 'vị trí khá bất tiện cho đoàn đi xe_điện ô tô vì đường một chiều và nằm trong hẻm': 0.029284771531820297, 'vị trí khá bất tiện cho đoàn đi bằng ô tô vì đường một chiều và nằm trong hẻm': 0.013434065505862236, 'vị trí khá bất tiện cho đoàn đi dép ô tô vì đường một chiều và nằm trong hẻm': 0.012011892162263393, 'vị trí khá bất tiện cho đoàn đi xe ô tô vì đi một chiều và nằm trong hẻm': 0.5594411492347717, 'vị trí khá bất tiện cho đoàn đi xe ô tô vì lưu_thông một chiều và nằm trong hẻm': 0.04016154259443283, 'vị trí khá bất tiện cho đoàn đi xe ô tô vì chạy một chiều và nằm trong hẻm': 0.016095295548439026, 'vị trí khá bất tiện cho đoàn đi xe ô tô vì xe một chiều và nằm trong hẻm': 0.014998244121670723, 'vị trí khá bất tiện cho đoàn đi xe ô tô vì đường một chiều và nằm trong.': 0.6303555965423584, 'vị trí khá bất tiện cho đoàn đi xe ô tô vì đường một chiều và nằm trong...': 0.03406493738293648, 'vị trí khá bất tiện cho đoàn đi xe ô tô vì đường một chiều và nằm trong TP.HCM.': 0.027168624103069305, 'vị trí khá bất tiện cho đoàn đi xe ô tô vì đường một chiều và nằm trong phố': 0.016933856531977654}\n"
          ]
        }
      ],
      "source": [
        "print(dict_score)"
      ]
    },
    {
      "cell_type": "code",
      "execution_count": null,
      "metadata": {
        "id": "x6xblRqGkeSp"
      },
      "outputs": [],
      "source": [
        "list_aug=sorted(dict_score.items(), key=lambda x: x[1],reverse=True)"
      ]
    },
    {
      "cell_type": "code",
      "execution_count": null,
      "metadata": {
        "colab": {
          "base_uri": "https://localhost:8080/"
        },
        "id": "1YMfGSLqkDIw",
        "outputId": "30d416ca-83ee-4715-ff89-f134ace1d8f0"
      },
      "outputs": [
        {
          "data": {
            "text/plain": [
              "[('vị trí khá bất tiện cho người đi xe ô tô vì đường một chiều và nằm trong hẻm',\n",
              "  0.942931592464447),\n",
              " ('vị trí khá bất tiện cho đoàn đi xe ô tô vì đường một chiều và nằm trong.',\n",
              "  0.6303555965423584),\n",
              " ('Đường khá bất tiện cho đoàn đi xe ô tô vì đường một chiều và nằm trong hẻm',\n",
              "  0.5692278742790222),\n",
              " ('vị trí khá bất tiện cho đoàn đi xe ô tô vì đi một chiều và nằm trong hẻm',\n",
              "  0.5594411492347717),\n",
              " ('vị trí khá bất tiện cho đoàn đi xe_đạp ô tô vì đường một chiều và nằm trong hẻm',\n",
              "  0.19018973410129547)]"
            ]
          },
          "execution_count": 45,
          "metadata": {},
          "output_type": "execute_result"
        }
      ],
      "source": [
        "list_aug[:5]"
      ]
    },
    {
      "cell_type": "code",
      "execution_count": null,
      "metadata": {
        "colab": {
          "base_uri": "https://localhost:8080/"
        },
        "id": "sGwZMe1g_ocP",
        "outputId": "5ef6d670-529f-4512-cdd3-ce393459f796"
      },
      "outputs": [
        {
          "data": {
            "text/plain": [
              "2988"
            ]
          },
          "execution_count": 33,
          "metadata": {},
          "output_type": "execute_result"
        }
      ],
      "source": [
        "len(labels_list)"
      ]
    },
    {
      "cell_type": "code",
      "execution_count": null,
      "metadata": {
        "colab": {
          "base_uri": "https://localhost:8080/"
        },
        "id": "fW3kyOMUddSb",
        "outputId": "19eaf3a4-4033-498d-8aa1-606ab9860e21"
      },
      "outputs": [
        {
          "data": {
            "text/plain": [
              "2982"
            ]
          },
          "execution_count": 29,
          "metadata": {},
          "output_type": "execute_result"
        }
      ],
      "source": [
        "len(review_list)"
      ]
    },
    {
      "cell_type": "code",
      "execution_count": null,
      "metadata": {
        "colab": {
          "base_uri": "https://localhost:8080/"
        },
        "id": "mPvGTUyW1LbV",
        "outputId": "2d545bef-ffde-40fb-ab9d-d5f9ed1e230b"
      },
      "outputs": [
        {
          "data": {
            "text/plain": [
              "['Phòng có giường lớn, êm đẹp, sạch sẽ,... Lễ tân is the best. Buffet ngon, thanh đạm. Không gian sảnh sang chảnh tha hồ check in. Cảm ơn Phương Linh đã giúp tụi mình tìm 1 căn phòng vừa ý. Nếu có dịp mình sẽ chọn căn Pano.',\n",
              " 'Phòng có giường lớn, êm đẹp, sạch sẽ,... Lễ tân is the best. Buffet ngon, thanh đạm. Không gian sảnh sang chảnh để check in. Cảm ơn Phương Linh đã giúp tụi mình tìm 1 căn phòng vừa ý. Nếu có dịp mình sẽ chọn căn Pano.',\n",
              " 'Phòng có giường lớn, êm đẹp, sạch sẽ,... Lễ tân is the best. Buffet ngon, thanh đạm. Không gian sảnh sang chảnh tha hồ check in. Cảm ơn Phương Linh đã giúp tụi mình tìm 1 căn phòng vừa ý. Nếu có dịp mình sẽ chọn căn Pano.',\n",
              " 'Phòng có giường lớn, êm đẹp, sạch sẽ,... Lễ tân is the best. Buffet ngon, rẻ. Không gian sảnh sang chảnh tha hồ check in. Cảm ơn Phương Linh đã giúp tụi mình tìm 1 căn phòng vừa ý. Nếu có dịp mình sẽ chọn căn Pano.']"
            ]
          },
          "execution_count": 21,
          "metadata": {},
          "output_type": "execute_result"
        }
      ],
      "source": [
        "new_df[\"Review\"][0]"
      ]
    },
    {
      "cell_type": "code",
      "execution_count": null,
      "metadata": {
        "colab": {
          "base_uri": "https://localhost:8080/"
        },
        "id": "M3yJqGTdjB4r",
        "outputId": "e6561040-6ffb-4f7f-f770-7c913baa50f6"
      },
      "outputs": [
        {
          "name": "stdout",
          "output_type": "stream",
          "text": [
            "Looking in indexes: https://pypi.org/simple, https://us-python.pkg.dev/colab-wheels/public/simple/\n",
            "Collecting transformers\n",
            "  Downloading transformers-4.25.1-py3-none-any.whl (5.8 MB)\n",
            "\u001b[K     |████████████████████████████████| 5.8 MB 6.3 MB/s \n",
            "\u001b[?25hRequirement already satisfied: requests in /usr/local/lib/python3.8/dist-packages (from transformers) (2.23.0)\n",
            "Requirement already satisfied: regex!=2019.12.17 in /usr/local/lib/python3.8/dist-packages (from transformers) (2022.6.2)\n",
            "Requirement already satisfied: pyyaml>=5.1 in /usr/local/lib/python3.8/dist-packages (from transformers) (6.0)\n",
            "Requirement already satisfied: filelock in /usr/local/lib/python3.8/dist-packages (from transformers) (3.8.2)\n",
            "Requirement already satisfied: tqdm>=4.27 in /usr/local/lib/python3.8/dist-packages (from transformers) (4.64.1)\n",
            "Requirement already satisfied: numpy>=1.17 in /usr/local/lib/python3.8/dist-packages (from transformers) (1.21.6)\n",
            "Collecting huggingface-hub<1.0,>=0.10.0\n",
            "  Downloading huggingface_hub-0.11.1-py3-none-any.whl (182 kB)\n",
            "\u001b[K     |████████████████████████████████| 182 kB 37.4 MB/s \n",
            "\u001b[?25hRequirement already satisfied: packaging>=20.0 in /usr/local/lib/python3.8/dist-packages (from transformers) (21.3)\n",
            "Collecting tokenizers!=0.11.3,<0.14,>=0.11.1\n",
            "  Downloading tokenizers-0.13.2-cp38-cp38-manylinux_2_17_x86_64.manylinux2014_x86_64.whl (7.6 MB)\n",
            "\u001b[K     |████████████████████████████████| 7.6 MB 54.5 MB/s \n",
            "\u001b[?25hRequirement already satisfied: typing-extensions>=3.7.4.3 in /usr/local/lib/python3.8/dist-packages (from huggingface-hub<1.0,>=0.10.0->transformers) (4.4.0)\n",
            "Requirement already satisfied: pyparsing!=3.0.5,>=2.0.2 in /usr/local/lib/python3.8/dist-packages (from packaging>=20.0->transformers) (3.0.9)\n",
            "Requirement already satisfied: chardet<4,>=3.0.2 in /usr/local/lib/python3.8/dist-packages (from requests->transformers) (3.0.4)\n",
            "Requirement already satisfied: certifi>=2017.4.17 in /usr/local/lib/python3.8/dist-packages (from requests->transformers) (2022.12.7)\n",
            "Requirement already satisfied: urllib3!=1.25.0,!=1.25.1,<1.26,>=1.21.1 in /usr/local/lib/python3.8/dist-packages (from requests->transformers) (1.24.3)\n",
            "Requirement already satisfied: idna<3,>=2.5 in /usr/local/lib/python3.8/dist-packages (from requests->transformers) (2.10)\n",
            "Installing collected packages: tokenizers, huggingface-hub, transformers\n",
            "Successfully installed huggingface-hub-0.11.1 tokenizers-0.13.2 transformers-4.25.1\n"
          ]
        }
      ],
      "source": [
        "!pip install transformers"
      ]
    },
    {
      "cell_type": "markdown",
      "metadata": {
        "id": "QOLJMqHjkzyk"
      },
      "source": [
        "# Demo"
      ]
    },
    {
      "cell_type": "code",
      "execution_count": null,
      "metadata": {
        "colab": {
          "base_uri": "https://localhost:8080/"
        },
        "id": "3cib-jfJ1Fvo",
        "outputId": "fd088f7f-60fe-4758-db78-4ec950050b38"
      },
      "outputs": [
        {
          "name": "stdout",
          "output_type": "stream",
          "text": [
            "Thầy dạy rất hay 2\n",
            "Không ai hướng dẫn, toàn phải tự lực cánh sinh 0\n",
            "Người lái đò sông Đà 1\n",
            "Thầy toàn đọc slide, không giảng bài 0\n",
            "Phí tiền khi học lớp này 0\n",
            "Anh hùng vũ trụ Phạm Tuân 1\n",
            "Học phí quá cao, cô lại dạy dở, không ai hỗ trợ 0\n",
            "Trợ giảng rất nhiệt tình 2\n",
            "Thầy tận tình giúp đỡ sinh viên 2\n",
            "Tuyên ngôn độc lập quảng trường Ba Đình 1\n"
          ]
        },
        {
          "name": "stderr",
          "output_type": "stream",
          "text": [
            "/usr/local/lib/python3.8/dist-packages/sklearn/feature_extraction/text.py:396: UserWarning: Your stop_words may be inconsistent with your preprocessing. Tokenizing the stop words generated tokens ['tòa'] not in stop_words.\n",
            "  warnings.warn(\n"
          ]
        }
      ],
      "source": [
        "sentences = [\n",
        "    'Thầy dạy rất hay',\n",
        "    'Không ai hướng dẫn, toàn phải tự lực cánh sinh',\n",
        "    'Người lái đò sông Đà',\n",
        "    'Thầy toàn đọc slide, không giảng bài',\n",
        "    'Phí tiền khi học lớp này',\n",
        "    'Anh hùng vũ trụ Phạm Tuân',\n",
        "    'Học phí quá cao, cô lại dạy dở, không ai hỗ trợ',\n",
        "    'Trợ giảng rất nhiệt tình',\n",
        "    'Thầy tận tình giúp đỡ sinh viên',\n",
        "    'Tuyên ngôn độc lập quảng trường Ba Đình'\n",
        "]\n",
        "\n",
        "for s in sentences:\n",
        "    predict_ = model_.predict(vectorizer_.transform([preprocess(s)]))\n",
        "    \n",
        "    print(s, predict_[0])"
      ]
    }
  ],
  "metadata": {
    "colab": {
      "collapsed_sections": [
        "wRgvNPW7kzyf",
        "P3bXe7P4kzyf"
      ],
      "provenance": []
    },
    "kernelspec": {
      "display_name": "Python 3 (ipykernel)",
      "language": "python",
      "name": "python3"
    },
    "language_info": {
      "codemirror_mode": {
        "name": "ipython",
        "version": 3
      },
      "file_extension": ".py",
      "mimetype": "text/x-python",
      "name": "python",
      "nbconvert_exporter": "python",
      "pygments_lexer": "ipython3",
      "version": "3.9.7"
    },
    "widgets": {
      "application/vnd.jupyter.widget-state+json": {
        "0d272eeee9eb4dda82d922c48df72496": {
          "model_module": "@jupyter-widgets/base",
          "model_module_version": "1.2.0",
          "model_name": "LayoutModel",
          "state": {
            "_model_module": "@jupyter-widgets/base",
            "_model_module_version": "1.2.0",
            "_model_name": "LayoutModel",
            "_view_count": null,
            "_view_module": "@jupyter-widgets/base",
            "_view_module_version": "1.2.0",
            "_view_name": "LayoutView",
            "align_content": null,
            "align_items": null,
            "align_self": null,
            "border": null,
            "bottom": null,
            "display": null,
            "flex": null,
            "flex_flow": null,
            "grid_area": null,
            "grid_auto_columns": null,
            "grid_auto_flow": null,
            "grid_auto_rows": null,
            "grid_column": null,
            "grid_gap": null,
            "grid_row": null,
            "grid_template_areas": null,
            "grid_template_columns": null,
            "grid_template_rows": null,
            "height": null,
            "justify_content": null,
            "justify_items": null,
            "left": null,
            "margin": null,
            "max_height": null,
            "max_width": null,
            "min_height": null,
            "min_width": null,
            "object_fit": null,
            "object_position": null,
            "order": null,
            "overflow": null,
            "overflow_x": null,
            "overflow_y": null,
            "padding": null,
            "right": null,
            "top": null,
            "visibility": null,
            "width": null
          }
        },
        "143ec34432124e9baa606c8af6822c54": {
          "model_module": "@jupyter-widgets/controls",
          "model_module_version": "1.5.0",
          "model_name": "DescriptionStyleModel",
          "state": {
            "_model_module": "@jupyter-widgets/controls",
            "_model_module_version": "1.5.0",
            "_model_name": "DescriptionStyleModel",
            "_view_count": null,
            "_view_module": "@jupyter-widgets/base",
            "_view_module_version": "1.2.0",
            "_view_name": "StyleView",
            "description_width": ""
          }
        },
        "296654b9ffba4abea64e05c0df36ca0f": {
          "model_module": "@jupyter-widgets/base",
          "model_module_version": "1.2.0",
          "model_name": "LayoutModel",
          "state": {
            "_model_module": "@jupyter-widgets/base",
            "_model_module_version": "1.2.0",
            "_model_name": "LayoutModel",
            "_view_count": null,
            "_view_module": "@jupyter-widgets/base",
            "_view_module_version": "1.2.0",
            "_view_name": "LayoutView",
            "align_content": null,
            "align_items": null,
            "align_self": null,
            "border": null,
            "bottom": null,
            "display": null,
            "flex": null,
            "flex_flow": null,
            "grid_area": null,
            "grid_auto_columns": null,
            "grid_auto_flow": null,
            "grid_auto_rows": null,
            "grid_column": null,
            "grid_gap": null,
            "grid_row": null,
            "grid_template_areas": null,
            "grid_template_columns": null,
            "grid_template_rows": null,
            "height": null,
            "justify_content": null,
            "justify_items": null,
            "left": null,
            "margin": null,
            "max_height": null,
            "max_width": null,
            "min_height": null,
            "min_width": null,
            "object_fit": null,
            "object_position": null,
            "order": null,
            "overflow": null,
            "overflow_x": null,
            "overflow_y": null,
            "padding": null,
            "right": null,
            "top": null,
            "visibility": null,
            "width": null
          }
        },
        "2db26a09beba4fefb2863af5a9a99e73": {
          "model_module": "@jupyter-widgets/base",
          "model_module_version": "1.2.0",
          "model_name": "LayoutModel",
          "state": {
            "_model_module": "@jupyter-widgets/base",
            "_model_module_version": "1.2.0",
            "_model_name": "LayoutModel",
            "_view_count": null,
            "_view_module": "@jupyter-widgets/base",
            "_view_module_version": "1.2.0",
            "_view_name": "LayoutView",
            "align_content": null,
            "align_items": null,
            "align_self": null,
            "border": null,
            "bottom": null,
            "display": null,
            "flex": null,
            "flex_flow": null,
            "grid_area": null,
            "grid_auto_columns": null,
            "grid_auto_flow": null,
            "grid_auto_rows": null,
            "grid_column": null,
            "grid_gap": null,
            "grid_row": null,
            "grid_template_areas": null,
            "grid_template_columns": null,
            "grid_template_rows": null,
            "height": null,
            "justify_content": null,
            "justify_items": null,
            "left": null,
            "margin": null,
            "max_height": null,
            "max_width": null,
            "min_height": null,
            "min_width": null,
            "object_fit": null,
            "object_position": null,
            "order": null,
            "overflow": null,
            "overflow_x": null,
            "overflow_y": null,
            "padding": null,
            "right": null,
            "top": null,
            "visibility": null,
            "width": null
          }
        },
        "3247601aafd04898820b4d322341b204": {
          "model_module": "@jupyter-widgets/base",
          "model_module_version": "1.2.0",
          "model_name": "LayoutModel",
          "state": {
            "_model_module": "@jupyter-widgets/base",
            "_model_module_version": "1.2.0",
            "_model_name": "LayoutModel",
            "_view_count": null,
            "_view_module": "@jupyter-widgets/base",
            "_view_module_version": "1.2.0",
            "_view_name": "LayoutView",
            "align_content": null,
            "align_items": null,
            "align_self": null,
            "border": null,
            "bottom": null,
            "display": null,
            "flex": null,
            "flex_flow": null,
            "grid_area": null,
            "grid_auto_columns": null,
            "grid_auto_flow": null,
            "grid_auto_rows": null,
            "grid_column": null,
            "grid_gap": null,
            "grid_row": null,
            "grid_template_areas": null,
            "grid_template_columns": null,
            "grid_template_rows": null,
            "height": null,
            "justify_content": null,
            "justify_items": null,
            "left": null,
            "margin": null,
            "max_height": null,
            "max_width": null,
            "min_height": null,
            "min_width": null,
            "object_fit": null,
            "object_position": null,
            "order": null,
            "overflow": null,
            "overflow_x": null,
            "overflow_y": null,
            "padding": null,
            "right": null,
            "top": null,
            "visibility": null,
            "width": null
          }
        },
        "33cc4f6ae44542fbaee7c62507c555e4": {
          "model_module": "@jupyter-widgets/controls",
          "model_module_version": "1.5.0",
          "model_name": "DescriptionStyleModel",
          "state": {
            "_model_module": "@jupyter-widgets/controls",
            "_model_module_version": "1.5.0",
            "_model_name": "DescriptionStyleModel",
            "_view_count": null,
            "_view_module": "@jupyter-widgets/base",
            "_view_module_version": "1.2.0",
            "_view_name": "StyleView",
            "description_width": ""
          }
        },
        "34bf5ae39f2143c7a6501be538d3b8f8": {
          "model_module": "@jupyter-widgets/controls",
          "model_module_version": "1.5.0",
          "model_name": "HTMLModel",
          "state": {
            "_dom_classes": [],
            "_model_module": "@jupyter-widgets/controls",
            "_model_module_version": "1.5.0",
            "_model_name": "HTMLModel",
            "_view_count": null,
            "_view_module": "@jupyter-widgets/controls",
            "_view_module_version": "1.5.0",
            "_view_name": "HTMLView",
            "description": "",
            "description_tooltip": null,
            "layout": "IPY_MODEL_be1e2e978f3a43bfaf042d8fec4693c7",
            "placeholder": "​",
            "style": "IPY_MODEL_33cc4f6ae44542fbaee7c62507c555e4",
            "value": "Downloading: 100%"
          }
        },
        "355c62ae3a964503b8b3e237ffd9ca51": {
          "model_module": "@jupyter-widgets/base",
          "model_module_version": "1.2.0",
          "model_name": "LayoutModel",
          "state": {
            "_model_module": "@jupyter-widgets/base",
            "_model_module_version": "1.2.0",
            "_model_name": "LayoutModel",
            "_view_count": null,
            "_view_module": "@jupyter-widgets/base",
            "_view_module_version": "1.2.0",
            "_view_name": "LayoutView",
            "align_content": null,
            "align_items": null,
            "align_self": null,
            "border": null,
            "bottom": null,
            "display": null,
            "flex": null,
            "flex_flow": null,
            "grid_area": null,
            "grid_auto_columns": null,
            "grid_auto_flow": null,
            "grid_auto_rows": null,
            "grid_column": null,
            "grid_gap": null,
            "grid_row": null,
            "grid_template_areas": null,
            "grid_template_columns": null,
            "grid_template_rows": null,
            "height": null,
            "justify_content": null,
            "justify_items": null,
            "left": null,
            "margin": null,
            "max_height": null,
            "max_width": null,
            "min_height": null,
            "min_width": null,
            "object_fit": null,
            "object_position": null,
            "order": null,
            "overflow": null,
            "overflow_x": null,
            "overflow_y": null,
            "padding": null,
            "right": null,
            "top": null,
            "visibility": null,
            "width": null
          }
        },
        "3a9f3607666d458295e1216a8aa140c5": {
          "model_module": "@jupyter-widgets/controls",
          "model_module_version": "1.5.0",
          "model_name": "HTMLModel",
          "state": {
            "_dom_classes": [],
            "_model_module": "@jupyter-widgets/controls",
            "_model_module_version": "1.5.0",
            "_model_name": "HTMLModel",
            "_view_count": null,
            "_view_module": "@jupyter-widgets/controls",
            "_view_module_version": "1.5.0",
            "_view_name": "HTMLView",
            "description": "",
            "description_tooltip": null,
            "layout": "IPY_MODEL_a607f78e05d24338915a7b3608876ec5",
            "placeholder": "​",
            "style": "IPY_MODEL_eeb198c71c7441d08cf015f98f0d9df0",
            "value": " 895k/895k [00:00&lt;00:00, 2.61MB/s]"
          }
        },
        "40e892b91c034a3d970ec367db2feab6": {
          "model_module": "@jupyter-widgets/controls",
          "model_module_version": "1.5.0",
          "model_name": "HTMLModel",
          "state": {
            "_dom_classes": [],
            "_model_module": "@jupyter-widgets/controls",
            "_model_module_version": "1.5.0",
            "_model_name": "HTMLModel",
            "_view_count": null,
            "_view_module": "@jupyter-widgets/controls",
            "_view_module_version": "1.5.0",
            "_view_name": "HTMLView",
            "description": "",
            "description_tooltip": null,
            "layout": "IPY_MODEL_cb6b78baec064349a66b9d126744503a",
            "placeholder": "​",
            "style": "IPY_MODEL_143ec34432124e9baa606c8af6822c54",
            "value": " 557/557 [00:00&lt;00:00, 11.9kB/s]"
          }
        },
        "533ed776e5cd4340859d8d572c7bc065": {
          "model_module": "@jupyter-widgets/base",
          "model_module_version": "1.2.0",
          "model_name": "LayoutModel",
          "state": {
            "_model_module": "@jupyter-widgets/base",
            "_model_module_version": "1.2.0",
            "_model_name": "LayoutModel",
            "_view_count": null,
            "_view_module": "@jupyter-widgets/base",
            "_view_module_version": "1.2.0",
            "_view_name": "LayoutView",
            "align_content": null,
            "align_items": null,
            "align_self": null,
            "border": null,
            "bottom": null,
            "display": null,
            "flex": null,
            "flex_flow": null,
            "grid_area": null,
            "grid_auto_columns": null,
            "grid_auto_flow": null,
            "grid_auto_rows": null,
            "grid_column": null,
            "grid_gap": null,
            "grid_row": null,
            "grid_template_areas": null,
            "grid_template_columns": null,
            "grid_template_rows": null,
            "height": null,
            "justify_content": null,
            "justify_items": null,
            "left": null,
            "margin": null,
            "max_height": null,
            "max_width": null,
            "min_height": null,
            "min_width": null,
            "object_fit": null,
            "object_position": null,
            "order": null,
            "overflow": null,
            "overflow_x": null,
            "overflow_y": null,
            "padding": null,
            "right": null,
            "top": null,
            "visibility": null,
            "width": null
          }
        },
        "55f620c9119c480981dca30deecb019b": {
          "model_module": "@jupyter-widgets/base",
          "model_module_version": "1.2.0",
          "model_name": "LayoutModel",
          "state": {
            "_model_module": "@jupyter-widgets/base",
            "_model_module_version": "1.2.0",
            "_model_name": "LayoutModel",
            "_view_count": null,
            "_view_module": "@jupyter-widgets/base",
            "_view_module_version": "1.2.0",
            "_view_name": "LayoutView",
            "align_content": null,
            "align_items": null,
            "align_self": null,
            "border": null,
            "bottom": null,
            "display": null,
            "flex": null,
            "flex_flow": null,
            "grid_area": null,
            "grid_auto_columns": null,
            "grid_auto_flow": null,
            "grid_auto_rows": null,
            "grid_column": null,
            "grid_gap": null,
            "grid_row": null,
            "grid_template_areas": null,
            "grid_template_columns": null,
            "grid_template_rows": null,
            "height": null,
            "justify_content": null,
            "justify_items": null,
            "left": null,
            "margin": null,
            "max_height": null,
            "max_width": null,
            "min_height": null,
            "min_width": null,
            "object_fit": null,
            "object_position": null,
            "order": null,
            "overflow": null,
            "overflow_x": null,
            "overflow_y": null,
            "padding": null,
            "right": null,
            "top": null,
            "visibility": null,
            "width": null
          }
        },
        "5ea81f9e56664deda77d1056bbdcfc14": {
          "model_module": "@jupyter-widgets/controls",
          "model_module_version": "1.5.0",
          "model_name": "FloatProgressModel",
          "state": {
            "_dom_classes": [],
            "_model_module": "@jupyter-widgets/controls",
            "_model_module_version": "1.5.0",
            "_model_name": "FloatProgressModel",
            "_view_count": null,
            "_view_module": "@jupyter-widgets/controls",
            "_view_module_version": "1.5.0",
            "_view_name": "ProgressView",
            "bar_style": "success",
            "description": "",
            "description_tooltip": null,
            "layout": "IPY_MODEL_355c62ae3a964503b8b3e237ffd9ca51",
            "max": 1135173,
            "min": 0,
            "orientation": "horizontal",
            "style": "IPY_MODEL_e80c699d4109419585dc487dc1236b4e",
            "value": 1135173
          }
        },
        "5f612082a1224787b0c3e276a2d49cd4": {
          "model_module": "@jupyter-widgets/controls",
          "model_module_version": "1.5.0",
          "model_name": "HBoxModel",
          "state": {
            "_dom_classes": [],
            "_model_module": "@jupyter-widgets/controls",
            "_model_module_version": "1.5.0",
            "_model_name": "HBoxModel",
            "_view_count": null,
            "_view_module": "@jupyter-widgets/controls",
            "_view_module_version": "1.5.0",
            "_view_name": "HBoxView",
            "box_style": "",
            "children": [
              "IPY_MODEL_f6b67fdc2d83455bb34fa795d67e10b7",
              "IPY_MODEL_80a86114622f4237b4b7eb368785e707",
              "IPY_MODEL_3a9f3607666d458295e1216a8aa140c5"
            ],
            "layout": "IPY_MODEL_55f620c9119c480981dca30deecb019b"
          }
        },
        "62a8617eebff43f0ba46d6525d676ab0": {
          "model_module": "@jupyter-widgets/controls",
          "model_module_version": "1.5.0",
          "model_name": "HTMLModel",
          "state": {
            "_dom_classes": [],
            "_model_module": "@jupyter-widgets/controls",
            "_model_module_version": "1.5.0",
            "_model_name": "HTMLModel",
            "_view_count": null,
            "_view_module": "@jupyter-widgets/controls",
            "_view_module_version": "1.5.0",
            "_view_name": "HTMLView",
            "description": "",
            "description_tooltip": null,
            "layout": "IPY_MODEL_296654b9ffba4abea64e05c0df36ca0f",
            "placeholder": "​",
            "style": "IPY_MODEL_a4e3f66a42ee40b79b40297dcb6f04a7",
            "value": "Downloading: 100%"
          }
        },
        "70e17c2542ef4be9a64e3bd745a95909": {
          "model_module": "@jupyter-widgets/controls",
          "model_module_version": "1.5.0",
          "model_name": "HBoxModel",
          "state": {
            "_dom_classes": [],
            "_model_module": "@jupyter-widgets/controls",
            "_model_module_version": "1.5.0",
            "_model_name": "HBoxModel",
            "_view_count": null,
            "_view_module": "@jupyter-widgets/controls",
            "_view_module_version": "1.5.0",
            "_view_name": "HBoxView",
            "box_style": "",
            "children": [
              "IPY_MODEL_62a8617eebff43f0ba46d6525d676ab0",
              "IPY_MODEL_ce0a29a1b583454c94a05ef84e9bda12",
              "IPY_MODEL_fc998a7947064bab944cffd1d2e56963"
            ],
            "layout": "IPY_MODEL_2db26a09beba4fefb2863af5a9a99e73"
          }
        },
        "7626f32f5d28439e945f76d3147464b9": {
          "model_module": "@jupyter-widgets/controls",
          "model_module_version": "1.5.0",
          "model_name": "FloatProgressModel",
          "state": {
            "_dom_classes": [],
            "_model_module": "@jupyter-widgets/controls",
            "_model_module_version": "1.5.0",
            "_model_name": "FloatProgressModel",
            "_view_count": null,
            "_view_module": "@jupyter-widgets/controls",
            "_view_module_version": "1.5.0",
            "_view_name": "ProgressView",
            "bar_style": "success",
            "description": "",
            "description_tooltip": null,
            "layout": "IPY_MODEL_9baed5b5b0464ecd96dbaa30f60a443a",
            "max": 557,
            "min": 0,
            "orientation": "horizontal",
            "style": "IPY_MODEL_d7ee57a2cdb245fbad8293279b75ab59",
            "value": 557
          }
        },
        "80a86114622f4237b4b7eb368785e707": {
          "model_module": "@jupyter-widgets/controls",
          "model_module_version": "1.5.0",
          "model_name": "FloatProgressModel",
          "state": {
            "_dom_classes": [],
            "_model_module": "@jupyter-widgets/controls",
            "_model_module_version": "1.5.0",
            "_model_name": "FloatProgressModel",
            "_view_count": null,
            "_view_module": "@jupyter-widgets/controls",
            "_view_module_version": "1.5.0",
            "_view_name": "ProgressView",
            "bar_style": "success",
            "description": "",
            "description_tooltip": null,
            "layout": "IPY_MODEL_3247601aafd04898820b4d322341b204",
            "max": 895321,
            "min": 0,
            "orientation": "horizontal",
            "style": "IPY_MODEL_81f86805bd424f7eac04c40003aa7d76",
            "value": 895321
          }
        },
        "81f86805bd424f7eac04c40003aa7d76": {
          "model_module": "@jupyter-widgets/controls",
          "model_module_version": "1.5.0",
          "model_name": "ProgressStyleModel",
          "state": {
            "_model_module": "@jupyter-widgets/controls",
            "_model_module_version": "1.5.0",
            "_model_name": "ProgressStyleModel",
            "_view_count": null,
            "_view_module": "@jupyter-widgets/base",
            "_view_module_version": "1.2.0",
            "_view_name": "StyleView",
            "bar_color": null,
            "description_width": ""
          }
        },
        "823147a39fac446c870447db1c6f6591": {
          "model_module": "@jupyter-widgets/controls",
          "model_module_version": "1.5.0",
          "model_name": "DescriptionStyleModel",
          "state": {
            "_model_module": "@jupyter-widgets/controls",
            "_model_module_version": "1.5.0",
            "_model_name": "DescriptionStyleModel",
            "_view_count": null,
            "_view_module": "@jupyter-widgets/base",
            "_view_module_version": "1.2.0",
            "_view_name": "StyleView",
            "description_width": ""
          }
        },
        "827e760c93b44958b1f91afa04d6c34e": {
          "model_module": "@jupyter-widgets/base",
          "model_module_version": "1.2.0",
          "model_name": "LayoutModel",
          "state": {
            "_model_module": "@jupyter-widgets/base",
            "_model_module_version": "1.2.0",
            "_model_name": "LayoutModel",
            "_view_count": null,
            "_view_module": "@jupyter-widgets/base",
            "_view_module_version": "1.2.0",
            "_view_name": "LayoutView",
            "align_content": null,
            "align_items": null,
            "align_self": null,
            "border": null,
            "bottom": null,
            "display": null,
            "flex": null,
            "flex_flow": null,
            "grid_area": null,
            "grid_auto_columns": null,
            "grid_auto_flow": null,
            "grid_auto_rows": null,
            "grid_column": null,
            "grid_gap": null,
            "grid_row": null,
            "grid_template_areas": null,
            "grid_template_columns": null,
            "grid_template_rows": null,
            "height": null,
            "justify_content": null,
            "justify_items": null,
            "left": null,
            "margin": null,
            "max_height": null,
            "max_width": null,
            "min_height": null,
            "min_width": null,
            "object_fit": null,
            "object_position": null,
            "order": null,
            "overflow": null,
            "overflow_x": null,
            "overflow_y": null,
            "padding": null,
            "right": null,
            "top": null,
            "visibility": null,
            "width": null
          }
        },
        "984640150f404177852dddffc284c6c7": {
          "model_module": "@jupyter-widgets/base",
          "model_module_version": "1.2.0",
          "model_name": "LayoutModel",
          "state": {
            "_model_module": "@jupyter-widgets/base",
            "_model_module_version": "1.2.0",
            "_model_name": "LayoutModel",
            "_view_count": null,
            "_view_module": "@jupyter-widgets/base",
            "_view_module_version": "1.2.0",
            "_view_name": "LayoutView",
            "align_content": null,
            "align_items": null,
            "align_self": null,
            "border": null,
            "bottom": null,
            "display": null,
            "flex": null,
            "flex_flow": null,
            "grid_area": null,
            "grid_auto_columns": null,
            "grid_auto_flow": null,
            "grid_auto_rows": null,
            "grid_column": null,
            "grid_gap": null,
            "grid_row": null,
            "grid_template_areas": null,
            "grid_template_columns": null,
            "grid_template_rows": null,
            "height": null,
            "justify_content": null,
            "justify_items": null,
            "left": null,
            "margin": null,
            "max_height": null,
            "max_width": null,
            "min_height": null,
            "min_width": null,
            "object_fit": null,
            "object_position": null,
            "order": null,
            "overflow": null,
            "overflow_x": null,
            "overflow_y": null,
            "padding": null,
            "right": null,
            "top": null,
            "visibility": null,
            "width": null
          }
        },
        "9a05f9a88948499ca807a3cfa97fa086": {
          "model_module": "@jupyter-widgets/controls",
          "model_module_version": "1.5.0",
          "model_name": "HBoxModel",
          "state": {
            "_dom_classes": [],
            "_model_module": "@jupyter-widgets/controls",
            "_model_module_version": "1.5.0",
            "_model_name": "HBoxModel",
            "_view_count": null,
            "_view_module": "@jupyter-widgets/controls",
            "_view_module_version": "1.5.0",
            "_view_name": "HBoxView",
            "box_style": "",
            "children": [
              "IPY_MODEL_34bf5ae39f2143c7a6501be538d3b8f8",
              "IPY_MODEL_5ea81f9e56664deda77d1056bbdcfc14",
              "IPY_MODEL_c33e0a8f0cc3409b92909399b3872c13"
            ],
            "layout": "IPY_MODEL_533ed776e5cd4340859d8d572c7bc065"
          }
        },
        "9a7d5d17fc06433b9cd93528eccef0d1": {
          "model_module": "@jupyter-widgets/controls",
          "model_module_version": "1.5.0",
          "model_name": "DescriptionStyleModel",
          "state": {
            "_model_module": "@jupyter-widgets/controls",
            "_model_module_version": "1.5.0",
            "_model_name": "DescriptionStyleModel",
            "_view_count": null,
            "_view_module": "@jupyter-widgets/base",
            "_view_module_version": "1.2.0",
            "_view_name": "StyleView",
            "description_width": ""
          }
        },
        "9b41329e142140f2b5c7357a33f04e71": {
          "model_module": "@jupyter-widgets/controls",
          "model_module_version": "1.5.0",
          "model_name": "HBoxModel",
          "state": {
            "_dom_classes": [],
            "_model_module": "@jupyter-widgets/controls",
            "_model_module_version": "1.5.0",
            "_model_name": "HBoxModel",
            "_view_count": null,
            "_view_module": "@jupyter-widgets/controls",
            "_view_module_version": "1.5.0",
            "_view_name": "HBoxView",
            "box_style": "",
            "children": [
              "IPY_MODEL_b5038210bb6a4ee4b0bf9fcdb6239347",
              "IPY_MODEL_7626f32f5d28439e945f76d3147464b9",
              "IPY_MODEL_40e892b91c034a3d970ec367db2feab6"
            ],
            "layout": "IPY_MODEL_0d272eeee9eb4dda82d922c48df72496"
          }
        },
        "9baed5b5b0464ecd96dbaa30f60a443a": {
          "model_module": "@jupyter-widgets/base",
          "model_module_version": "1.2.0",
          "model_name": "LayoutModel",
          "state": {
            "_model_module": "@jupyter-widgets/base",
            "_model_module_version": "1.2.0",
            "_model_name": "LayoutModel",
            "_view_count": null,
            "_view_module": "@jupyter-widgets/base",
            "_view_module_version": "1.2.0",
            "_view_name": "LayoutView",
            "align_content": null,
            "align_items": null,
            "align_self": null,
            "border": null,
            "bottom": null,
            "display": null,
            "flex": null,
            "flex_flow": null,
            "grid_area": null,
            "grid_auto_columns": null,
            "grid_auto_flow": null,
            "grid_auto_rows": null,
            "grid_column": null,
            "grid_gap": null,
            "grid_row": null,
            "grid_template_areas": null,
            "grid_template_columns": null,
            "grid_template_rows": null,
            "height": null,
            "justify_content": null,
            "justify_items": null,
            "left": null,
            "margin": null,
            "max_height": null,
            "max_width": null,
            "min_height": null,
            "min_width": null,
            "object_fit": null,
            "object_position": null,
            "order": null,
            "overflow": null,
            "overflow_x": null,
            "overflow_y": null,
            "padding": null,
            "right": null,
            "top": null,
            "visibility": null,
            "width": null
          }
        },
        "a4e3f66a42ee40b79b40297dcb6f04a7": {
          "model_module": "@jupyter-widgets/controls",
          "model_module_version": "1.5.0",
          "model_name": "DescriptionStyleModel",
          "state": {
            "_model_module": "@jupyter-widgets/controls",
            "_model_module_version": "1.5.0",
            "_model_name": "DescriptionStyleModel",
            "_view_count": null,
            "_view_module": "@jupyter-widgets/base",
            "_view_module_version": "1.2.0",
            "_view_name": "StyleView",
            "description_width": ""
          }
        },
        "a607f78e05d24338915a7b3608876ec5": {
          "model_module": "@jupyter-widgets/base",
          "model_module_version": "1.2.0",
          "model_name": "LayoutModel",
          "state": {
            "_model_module": "@jupyter-widgets/base",
            "_model_module_version": "1.2.0",
            "_model_name": "LayoutModel",
            "_view_count": null,
            "_view_module": "@jupyter-widgets/base",
            "_view_module_version": "1.2.0",
            "_view_name": "LayoutView",
            "align_content": null,
            "align_items": null,
            "align_self": null,
            "border": null,
            "bottom": null,
            "display": null,
            "flex": null,
            "flex_flow": null,
            "grid_area": null,
            "grid_auto_columns": null,
            "grid_auto_flow": null,
            "grid_auto_rows": null,
            "grid_column": null,
            "grid_gap": null,
            "grid_row": null,
            "grid_template_areas": null,
            "grid_template_columns": null,
            "grid_template_rows": null,
            "height": null,
            "justify_content": null,
            "justify_items": null,
            "left": null,
            "margin": null,
            "max_height": null,
            "max_width": null,
            "min_height": null,
            "min_width": null,
            "object_fit": null,
            "object_position": null,
            "order": null,
            "overflow": null,
            "overflow_x": null,
            "overflow_y": null,
            "padding": null,
            "right": null,
            "top": null,
            "visibility": null,
            "width": null
          }
        },
        "a85ab5b895844c3fa58249386b14541b": {
          "model_module": "@jupyter-widgets/controls",
          "model_module_version": "1.5.0",
          "model_name": "DescriptionStyleModel",
          "state": {
            "_model_module": "@jupyter-widgets/controls",
            "_model_module_version": "1.5.0",
            "_model_name": "DescriptionStyleModel",
            "_view_count": null,
            "_view_module": "@jupyter-widgets/base",
            "_view_module_version": "1.2.0",
            "_view_name": "StyleView",
            "description_width": ""
          }
        },
        "b5038210bb6a4ee4b0bf9fcdb6239347": {
          "model_module": "@jupyter-widgets/controls",
          "model_module_version": "1.5.0",
          "model_name": "HTMLModel",
          "state": {
            "_dom_classes": [],
            "_model_module": "@jupyter-widgets/controls",
            "_model_module_version": "1.5.0",
            "_model_name": "HTMLModel",
            "_view_count": null,
            "_view_module": "@jupyter-widgets/controls",
            "_view_module_version": "1.5.0",
            "_view_name": "HTMLView",
            "description": "",
            "description_tooltip": null,
            "layout": "IPY_MODEL_827e760c93b44958b1f91afa04d6c34e",
            "placeholder": "​",
            "style": "IPY_MODEL_fe76e10a28114313abc58032267ead5c",
            "value": "Downloading: 100%"
          }
        },
        "be1e2e978f3a43bfaf042d8fec4693c7": {
          "model_module": "@jupyter-widgets/base",
          "model_module_version": "1.2.0",
          "model_name": "LayoutModel",
          "state": {
            "_model_module": "@jupyter-widgets/base",
            "_model_module_version": "1.2.0",
            "_model_name": "LayoutModel",
            "_view_count": null,
            "_view_module": "@jupyter-widgets/base",
            "_view_module_version": "1.2.0",
            "_view_name": "LayoutView",
            "align_content": null,
            "align_items": null,
            "align_self": null,
            "border": null,
            "bottom": null,
            "display": null,
            "flex": null,
            "flex_flow": null,
            "grid_area": null,
            "grid_auto_columns": null,
            "grid_auto_flow": null,
            "grid_auto_rows": null,
            "grid_column": null,
            "grid_gap": null,
            "grid_row": null,
            "grid_template_areas": null,
            "grid_template_columns": null,
            "grid_template_rows": null,
            "height": null,
            "justify_content": null,
            "justify_items": null,
            "left": null,
            "margin": null,
            "max_height": null,
            "max_width": null,
            "min_height": null,
            "min_width": null,
            "object_fit": null,
            "object_position": null,
            "order": null,
            "overflow": null,
            "overflow_x": null,
            "overflow_y": null,
            "padding": null,
            "right": null,
            "top": null,
            "visibility": null,
            "width": null
          }
        },
        "c33e0a8f0cc3409b92909399b3872c13": {
          "model_module": "@jupyter-widgets/controls",
          "model_module_version": "1.5.0",
          "model_name": "HTMLModel",
          "state": {
            "_dom_classes": [],
            "_model_module": "@jupyter-widgets/controls",
            "_model_module_version": "1.5.0",
            "_model_name": "HTMLModel",
            "_view_count": null,
            "_view_module": "@jupyter-widgets/controls",
            "_view_module_version": "1.5.0",
            "_view_name": "HTMLView",
            "description": "",
            "description_tooltip": null,
            "layout": "IPY_MODEL_dfa2f6b21e60453082f5471cfbefbd17",
            "placeholder": "​",
            "style": "IPY_MODEL_9a7d5d17fc06433b9cd93528eccef0d1",
            "value": " 1.14M/1.14M [00:00&lt;00:00, 2.63MB/s]"
          }
        },
        "c811a7a85be14b9e8d8e979e19a98bbd": {
          "model_module": "@jupyter-widgets/controls",
          "model_module_version": "1.5.0",
          "model_name": "ProgressStyleModel",
          "state": {
            "_model_module": "@jupyter-widgets/controls",
            "_model_module_version": "1.5.0",
            "_model_name": "ProgressStyleModel",
            "_view_count": null,
            "_view_module": "@jupyter-widgets/base",
            "_view_module_version": "1.2.0",
            "_view_name": "StyleView",
            "bar_color": null,
            "description_width": ""
          }
        },
        "cb6b78baec064349a66b9d126744503a": {
          "model_module": "@jupyter-widgets/base",
          "model_module_version": "1.2.0",
          "model_name": "LayoutModel",
          "state": {
            "_model_module": "@jupyter-widgets/base",
            "_model_module_version": "1.2.0",
            "_model_name": "LayoutModel",
            "_view_count": null,
            "_view_module": "@jupyter-widgets/base",
            "_view_module_version": "1.2.0",
            "_view_name": "LayoutView",
            "align_content": null,
            "align_items": null,
            "align_self": null,
            "border": null,
            "bottom": null,
            "display": null,
            "flex": null,
            "flex_flow": null,
            "grid_area": null,
            "grid_auto_columns": null,
            "grid_auto_flow": null,
            "grid_auto_rows": null,
            "grid_column": null,
            "grid_gap": null,
            "grid_row": null,
            "grid_template_areas": null,
            "grid_template_columns": null,
            "grid_template_rows": null,
            "height": null,
            "justify_content": null,
            "justify_items": null,
            "left": null,
            "margin": null,
            "max_height": null,
            "max_width": null,
            "min_height": null,
            "min_width": null,
            "object_fit": null,
            "object_position": null,
            "order": null,
            "overflow": null,
            "overflow_x": null,
            "overflow_y": null,
            "padding": null,
            "right": null,
            "top": null,
            "visibility": null,
            "width": null
          }
        },
        "ce0a29a1b583454c94a05ef84e9bda12": {
          "model_module": "@jupyter-widgets/controls",
          "model_module_version": "1.5.0",
          "model_name": "FloatProgressModel",
          "state": {
            "_dom_classes": [],
            "_model_module": "@jupyter-widgets/controls",
            "_model_module_version": "1.5.0",
            "_model_name": "FloatProgressModel",
            "_view_count": null,
            "_view_module": "@jupyter-widgets/controls",
            "_view_module_version": "1.5.0",
            "_view_name": "ProgressView",
            "bar_style": "success",
            "description": "",
            "description_tooltip": null,
            "layout": "IPY_MODEL_f4154cba81a24f079344e27a9d4ddd9f",
            "max": 542923308,
            "min": 0,
            "orientation": "horizontal",
            "style": "IPY_MODEL_c811a7a85be14b9e8d8e979e19a98bbd",
            "value": 542923308
          }
        },
        "d7ee57a2cdb245fbad8293279b75ab59": {
          "model_module": "@jupyter-widgets/controls",
          "model_module_version": "1.5.0",
          "model_name": "ProgressStyleModel",
          "state": {
            "_model_module": "@jupyter-widgets/controls",
            "_model_module_version": "1.5.0",
            "_model_name": "ProgressStyleModel",
            "_view_count": null,
            "_view_module": "@jupyter-widgets/base",
            "_view_module_version": "1.2.0",
            "_view_name": "StyleView",
            "bar_color": null,
            "description_width": ""
          }
        },
        "dfa2f6b21e60453082f5471cfbefbd17": {
          "model_module": "@jupyter-widgets/base",
          "model_module_version": "1.2.0",
          "model_name": "LayoutModel",
          "state": {
            "_model_module": "@jupyter-widgets/base",
            "_model_module_version": "1.2.0",
            "_model_name": "LayoutModel",
            "_view_count": null,
            "_view_module": "@jupyter-widgets/base",
            "_view_module_version": "1.2.0",
            "_view_name": "LayoutView",
            "align_content": null,
            "align_items": null,
            "align_self": null,
            "border": null,
            "bottom": null,
            "display": null,
            "flex": null,
            "flex_flow": null,
            "grid_area": null,
            "grid_auto_columns": null,
            "grid_auto_flow": null,
            "grid_auto_rows": null,
            "grid_column": null,
            "grid_gap": null,
            "grid_row": null,
            "grid_template_areas": null,
            "grid_template_columns": null,
            "grid_template_rows": null,
            "height": null,
            "justify_content": null,
            "justify_items": null,
            "left": null,
            "margin": null,
            "max_height": null,
            "max_width": null,
            "min_height": null,
            "min_width": null,
            "object_fit": null,
            "object_position": null,
            "order": null,
            "overflow": null,
            "overflow_x": null,
            "overflow_y": null,
            "padding": null,
            "right": null,
            "top": null,
            "visibility": null,
            "width": null
          }
        },
        "e80c699d4109419585dc487dc1236b4e": {
          "model_module": "@jupyter-widgets/controls",
          "model_module_version": "1.5.0",
          "model_name": "ProgressStyleModel",
          "state": {
            "_model_module": "@jupyter-widgets/controls",
            "_model_module_version": "1.5.0",
            "_model_name": "ProgressStyleModel",
            "_view_count": null,
            "_view_module": "@jupyter-widgets/base",
            "_view_module_version": "1.2.0",
            "_view_name": "StyleView",
            "bar_color": null,
            "description_width": ""
          }
        },
        "eeb198c71c7441d08cf015f98f0d9df0": {
          "model_module": "@jupyter-widgets/controls",
          "model_module_version": "1.5.0",
          "model_name": "DescriptionStyleModel",
          "state": {
            "_model_module": "@jupyter-widgets/controls",
            "_model_module_version": "1.5.0",
            "_model_name": "DescriptionStyleModel",
            "_view_count": null,
            "_view_module": "@jupyter-widgets/base",
            "_view_module_version": "1.2.0",
            "_view_name": "StyleView",
            "description_width": ""
          }
        },
        "f4154cba81a24f079344e27a9d4ddd9f": {
          "model_module": "@jupyter-widgets/base",
          "model_module_version": "1.2.0",
          "model_name": "LayoutModel",
          "state": {
            "_model_module": "@jupyter-widgets/base",
            "_model_module_version": "1.2.0",
            "_model_name": "LayoutModel",
            "_view_count": null,
            "_view_module": "@jupyter-widgets/base",
            "_view_module_version": "1.2.0",
            "_view_name": "LayoutView",
            "align_content": null,
            "align_items": null,
            "align_self": null,
            "border": null,
            "bottom": null,
            "display": null,
            "flex": null,
            "flex_flow": null,
            "grid_area": null,
            "grid_auto_columns": null,
            "grid_auto_flow": null,
            "grid_auto_rows": null,
            "grid_column": null,
            "grid_gap": null,
            "grid_row": null,
            "grid_template_areas": null,
            "grid_template_columns": null,
            "grid_template_rows": null,
            "height": null,
            "justify_content": null,
            "justify_items": null,
            "left": null,
            "margin": null,
            "max_height": null,
            "max_width": null,
            "min_height": null,
            "min_width": null,
            "object_fit": null,
            "object_position": null,
            "order": null,
            "overflow": null,
            "overflow_x": null,
            "overflow_y": null,
            "padding": null,
            "right": null,
            "top": null,
            "visibility": null,
            "width": null
          }
        },
        "f6b67fdc2d83455bb34fa795d67e10b7": {
          "model_module": "@jupyter-widgets/controls",
          "model_module_version": "1.5.0",
          "model_name": "HTMLModel",
          "state": {
            "_dom_classes": [],
            "_model_module": "@jupyter-widgets/controls",
            "_model_module_version": "1.5.0",
            "_model_name": "HTMLModel",
            "_view_count": null,
            "_view_module": "@jupyter-widgets/controls",
            "_view_module_version": "1.5.0",
            "_view_name": "HTMLView",
            "description": "",
            "description_tooltip": null,
            "layout": "IPY_MODEL_ffdcd1ee1ea3423cbb101e4e17ba2065",
            "placeholder": "​",
            "style": "IPY_MODEL_823147a39fac446c870447db1c6f6591",
            "value": "Downloading: 100%"
          }
        },
        "fc998a7947064bab944cffd1d2e56963": {
          "model_module": "@jupyter-widgets/controls",
          "model_module_version": "1.5.0",
          "model_name": "HTMLModel",
          "state": {
            "_dom_classes": [],
            "_model_module": "@jupyter-widgets/controls",
            "_model_module_version": "1.5.0",
            "_model_name": "HTMLModel",
            "_view_count": null,
            "_view_module": "@jupyter-widgets/controls",
            "_view_module_version": "1.5.0",
            "_view_name": "HTMLView",
            "description": "",
            "description_tooltip": null,
            "layout": "IPY_MODEL_984640150f404177852dddffc284c6c7",
            "placeholder": "​",
            "style": "IPY_MODEL_a85ab5b895844c3fa58249386b14541b",
            "value": " 543M/543M [00:32&lt;00:00, 21.8MB/s]"
          }
        },
        "fe76e10a28114313abc58032267ead5c": {
          "model_module": "@jupyter-widgets/controls",
          "model_module_version": "1.5.0",
          "model_name": "DescriptionStyleModel",
          "state": {
            "_model_module": "@jupyter-widgets/controls",
            "_model_module_version": "1.5.0",
            "_model_name": "DescriptionStyleModel",
            "_view_count": null,
            "_view_module": "@jupyter-widgets/base",
            "_view_module_version": "1.2.0",
            "_view_name": "StyleView",
            "description_width": ""
          }
        },
        "ffdcd1ee1ea3423cbb101e4e17ba2065": {
          "model_module": "@jupyter-widgets/base",
          "model_module_version": "1.2.0",
          "model_name": "LayoutModel",
          "state": {
            "_model_module": "@jupyter-widgets/base",
            "_model_module_version": "1.2.0",
            "_model_name": "LayoutModel",
            "_view_count": null,
            "_view_module": "@jupyter-widgets/base",
            "_view_module_version": "1.2.0",
            "_view_name": "LayoutView",
            "align_content": null,
            "align_items": null,
            "align_self": null,
            "border": null,
            "bottom": null,
            "display": null,
            "flex": null,
            "flex_flow": null,
            "grid_area": null,
            "grid_auto_columns": null,
            "grid_auto_flow": null,
            "grid_auto_rows": null,
            "grid_column": null,
            "grid_gap": null,
            "grid_row": null,
            "grid_template_areas": null,
            "grid_template_columns": null,
            "grid_template_rows": null,
            "height": null,
            "justify_content": null,
            "justify_items": null,
            "left": null,
            "margin": null,
            "max_height": null,
            "max_width": null,
            "min_height": null,
            "min_width": null,
            "object_fit": null,
            "object_position": null,
            "order": null,
            "overflow": null,
            "overflow_x": null,
            "overflow_y": null,
            "padding": null,
            "right": null,
            "top": null,
            "visibility": null,
            "width": null
          }
        }
      }
    }
  },
  "nbformat": 4,
  "nbformat_minor": 0
}
