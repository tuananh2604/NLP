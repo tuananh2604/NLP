{
  "nbformat": 4,
  "nbformat_minor": 0,
  "metadata": {
    "colab": {
      "provenance": []
    },
    "kernelspec": {
      "name": "python3",
      "display_name": "Python 3"
    },
    "language_info": {
      "name": "python"
    }
  },
  "cells": [
    {
      "cell_type": "code",
      "execution_count": null,
      "metadata": {
        "id": "u14vDJLKtRbi"
      },
      "outputs": [],
      "source": [
        "sentences = open('input.txt', encoding='utf-8').readlines()\n",
        "tokenize_sentences = [sentence.split(' ') for sentence in sentences]"
      ]
    },
    {
      "cell_type": "code",
      "source": [
        "pip install underthesea"
      ],
      "metadata": {
        "colab": {
          "base_uri": "https://localhost:8080/"
        },
        "id": "UjNGroOIu00a",
        "outputId": "76e5a3b4-f1c4-4468-8add-3d4485cf29e4"
      },
      "execution_count": null,
      "outputs": [
        {
          "output_type": "stream",
          "name": "stdout",
          "text": [
            "Looking in indexes: https://pypi.org/simple, https://us-python.pkg.dev/colab-wheels/public/simple/\n",
            "Collecting underthesea\n",
            "  Downloading underthesea-6.0.0-py3-none-any.whl (11.0 MB)\n",
            "\u001b[2K     \u001b[90m━━━━━━━━━━━━━━━━━━━━━━━━━━━━━━━━━━━━━━━━\u001b[0m \u001b[32m11.0/11.0 MB\u001b[0m \u001b[31m50.5 MB/s\u001b[0m eta \u001b[36m0:00:00\u001b[0m\n",
            "\u001b[?25hCollecting python-crfsuite>=0.9.6\n",
            "  Downloading python_crfsuite-0.9.8-cp38-cp38-manylinux_2_17_x86_64.manylinux2014_x86_64.whl (1.0 MB)\n",
            "\u001b[2K     \u001b[90m━━━━━━━━━━━━━━━━━━━━━━━━━━━━━━━━━━━━━━━━\u001b[0m \u001b[32m1.0/1.0 MB\u001b[0m \u001b[31m60.4 MB/s\u001b[0m eta \u001b[36m0:00:00\u001b[0m\n",
            "\u001b[?25hRequirement already satisfied: Click>=6.0 in /usr/local/lib/python3.8/dist-packages (from underthesea) (7.1.2)\n",
            "Requirement already satisfied: scikit-learn in /usr/local/lib/python3.8/dist-packages (from underthesea) (1.0.2)\n",
            "Requirement already satisfied: nltk in /usr/local/lib/python3.8/dist-packages (from underthesea) (3.7)\n",
            "Requirement already satisfied: PyYAML in /usr/local/lib/python3.8/dist-packages (from underthesea) (6.0)\n",
            "Requirement already satisfied: tqdm in /usr/local/lib/python3.8/dist-packages (from underthesea) (4.64.1)\n",
            "Collecting underthesea-core==0.0.5a2\n",
            "  Downloading underthesea_core-0.0.5_alpha.2-cp38-cp38-manylinux2010_x86_64.whl (591 kB)\n",
            "\u001b[2K     \u001b[90m━━━━━━━━━━━━━━━━━━━━━━━━━━━━━━━━━━━━━━\u001b[0m \u001b[32m591.3/591.3 KB\u001b[0m \u001b[31m48.8 MB/s\u001b[0m eta \u001b[36m0:00:00\u001b[0m\n",
            "\u001b[?25hRequirement already satisfied: joblib in /usr/local/lib/python3.8/dist-packages (from underthesea) (1.2.0)\n",
            "Requirement already satisfied: requests in /usr/local/lib/python3.8/dist-packages (from underthesea) (2.25.1)\n",
            "Requirement already satisfied: regex>=2021.8.3 in /usr/local/lib/python3.8/dist-packages (from nltk->underthesea) (2022.6.2)\n",
            "Requirement already satisfied: idna<3,>=2.5 in /usr/local/lib/python3.8/dist-packages (from requests->underthesea) (2.10)\n",
            "Requirement already satisfied: chardet<5,>=3.0.2 in /usr/local/lib/python3.8/dist-packages (from requests->underthesea) (4.0.0)\n",
            "Requirement already satisfied: urllib3<1.27,>=1.21.1 in /usr/local/lib/python3.8/dist-packages (from requests->underthesea) (1.24.3)\n",
            "Requirement already satisfied: certifi>=2017.4.17 in /usr/local/lib/python3.8/dist-packages (from requests->underthesea) (2022.12.7)\n",
            "Requirement already satisfied: numpy>=1.14.6 in /usr/local/lib/python3.8/dist-packages (from scikit-learn->underthesea) (1.21.6)\n",
            "Requirement already satisfied: threadpoolctl>=2.0.0 in /usr/local/lib/python3.8/dist-packages (from scikit-learn->underthesea) (3.1.0)\n",
            "Requirement already satisfied: scipy>=1.1.0 in /usr/local/lib/python3.8/dist-packages (from scikit-learn->underthesea) (1.7.3)\n",
            "Installing collected packages: underthesea-core, python-crfsuite, underthesea\n",
            "Successfully installed python-crfsuite-0.9.8 underthesea-6.0.0 underthesea-core-0.0.5a2\n"
          ]
        }
      ]
    },
    {
      "cell_type": "code",
      "source": [
        "from underthesea import word_tokenize"
      ],
      "metadata": {
        "id": "M_5Fam6nuyj7"
      },
      "execution_count": null,
      "outputs": []
    },
    {
      "cell_type": "code",
      "source": [
        "with open('underthesea.txt', 'w', encoding='utf-8') as f:\n",
        "    underthesea_sentences = []\n",
        "    for sentence in sentences:\n",
        "        word_list = word_tokenize(sentence, format=\"text\")\n",
        "        underthesea_sentences.append(''.join(word_list))\n",
        "        for word in word_list: f.write(word + '\\n')\n",
        "        if sentence != sentences[-1]: f.write('\\n')\n",
        "    f.write('\\n')\n",
        "underthesea_sentences[0:3]"
      ],
      "metadata": {
        "colab": {
          "base_uri": "https://localhost:8080/"
        },
        "id": "xy0lYPFi1-aQ",
        "outputId": "bf2288a9-bc69-47c1-db3e-dedce2f52435"
      },
      "execution_count": null,
      "outputs": [
        {
          "output_type": "execute_result",
          "data": {
            "text/plain": [
              "['Đồ_ăn hải_sản tươi ngon , các món canh nấu rất tuyệt .',\n",
              " 'Mình hay ghé nhà_hàng Ngon ở Trần_Hưng_Đạo để dùng bữa với bạn_bè và đối_tác .',\n",
              " 'Đồ ăn_tươi ngon chế_biến vừa_vặn , giá_cả hợp_lý cạnh quán Nghĩa_Ghẹ .']"
            ]
          },
          "metadata": {},
          "execution_count": 51
        }
      ]
    },
    {
      "cell_type": "code",
      "source": [
        "count_underthesea_compounds = 0\n",
        "for sentence in underthesea_sentences:\n",
        "    for word in sentence.split():\n",
        "        if '_' in word: count_underthesea_compounds += 1\n",
        "print('Số lượng từ ghép khi tách từ bằng thư viện underthesea:', count_underthesea_compounds)"
      ],
      "metadata": {
        "colab": {
          "base_uri": "https://localhost:8080/"
        },
        "id": "Oeq_AyepwNx8",
        "outputId": "dfbe1687-38fe-4e34-cc2b-2e448eac632f"
      },
      "execution_count": null,
      "outputs": [
        {
          "output_type": "stream",
          "name": "stdout",
          "text": [
            "Số lượng từ ghép khi tách từ bằng thư viện underthesea: 213\n"
          ]
        }
      ]
    },
    {
      "cell_type": "code",
      "source": [
        "with open('vietnamese.txt', 'r', encoding='utf-8') as f:\n",
        "    manual_tokenize_sentences = []\n",
        "    sentence = ''\n",
        "    for word in f:\n",
        "        if word == '\\n': \n",
        "            manual_tokenize_sentences.append(sentence.strip())\n",
        "            sentence = ''\n",
        "        else: sentence += word.replace('\\n', ' ')\n",
        "manual_tokenize_sentences[0:51]"
      ],
      "metadata": {
        "colab": {
          "base_uri": "https://localhost:8080/"
        },
        "id": "ozEFREfOxoBt",
        "outputId": "4ec5d9bf-b8c5-4283-f484-dfa20d09809f"
      },
      "execution_count": null,
      "outputs": [
        {
          "output_type": "execute_result",
          "data": {
            "text/plain": [
              "['Đồ_ăn hải_sản tươi ngon , các món canh nấu rất tuyệt .',\n",
              " 'Mình hay ghé nhà_hàng Ngon ở Trần_Hưng_Đạo để dùng bữa với bạn_bè và đối_tác .',\n",
              " 'Đồ_ăn tươi ngon chế_biến vừa_vặn , giá_cả hợp_lý cạnh quán Nghĩa_Ghẹ .',\n",
              " 'Đồ_ăn ngon , hải_sản tươi , quán sạch , nhân_viên  dễ_thương  .',\n",
              " 'Lần đầu_tiên ghé ăn nhưng rất hài_lòng , chắc_chắn là sẽ quay lại .',\n",
              " 'Quán bán đủ món cháo lươn miến lươn , bún phở đầy_đủ , có nhiều lựa_chọn .',\n",
              " 'Sân_vận_động đã được đầu_tư cải_tạo lại , sân_cỏ đẹp , khán_đài được làm lại đẹp hơn trước rất nhiều .',\n",
              " 'Quảng_trường xanh , rộng và thoáng mát của thành_phố biển Quy_Nhơn , rất thích_hợp cho việc đi bộ .',\n",
              " 'Một tổ_hợp khoa_học , nơi tổ_chức hội_thảo khoa_học thu_hút nhân_tài thế_giới .',\n",
              " 'Khu_vui_chơi dành cho mọi_người có nhiều dụng_cụ tập_thể_dục , cây hoa được chăm_sóc tốt .',\n",
              " 'Thiên_nhiên hoang_sơ , chưa được khai_phá nhiều nên vẫn còn nhiều nét mộc_mạc .',\n",
              " 'Một địa_điểm hay cho các học_sinh thăm quan để hiểu sâu hơn giữa lý_thuyết và thực_tế các môn_học .',\n",
              " 'Không_gian hoạt_động giáo_dục khoa_học , sáng_tạo cho thiếu_nhi thật tuyệt_vời !',\n",
              " 'Sân_bay là con đường dạo phố đẹp nhất Quy_Nhơn .',\n",
              " 'Bán rất nhiều đồ đặc_sản không chỉ của Bình_Định mà cả các tỉnh khác .',\n",
              " 'Quán bán đặc_sản Bình_Định ngon , hải_sản chuyên mực câu chất_lượng , ngon , rẻ  .',\n",
              " 'Quần_áo thời_trang , nhân_viên nhiệt_tình , cửa_hàng đẹp , có nhiều hình_thức thanh_toán tiện_lợi .',\n",
              " 'Chị chủ shop nhiệt_tình , thân_thiện , gói quà_tặng theo nhiều phong_cách tuyệt_vời .',\n",
              " 'Giá_cả hợp_lý , người bán chân_thật , thân_thiện .',\n",
              " 'Thị_trường Mẹ và Bé Quy_Nhơn về mặt chung shop này bán giá_cả rẻ hơn các shop khác , tư_vấn tận_tâm .',\n",
              " 'Giá_cả chuẩn , phục_vụ nhiệt_tình , nhiều đặc_sản địa_phương , nên mua tại đây vì được nhiều cô chú địa_phương giới_thiệu .',\n",
              " 'Quà của shop rất đẹp , gói quà đẹp , nhân_viên tư_vấn nhiệt_tình giao hàng nhanh .',\n",
              " 'Dịch_vụ tốt , không_khí trong_lành , hậu_mãi .',\n",
              " 'Chỉ cần gọi điện buổi tối xe ô_tô đón bạn tận sảnh .',\n",
              " 'Dịch_vụ thuê xe_máy tại đây tốt nhất Quy_Nhơn .',\n",
              " 'Mình đã thuê xe để đi phượt , đèo dốc ổn , xe tốt an_toàn , chú cho thuê vui_tính , dễ_thương !',\n",
              " 'Giá tốt , thuê xe_máy nhanh_chóng , đơn_giản , không có vấn_đề gì khi đổi trả .',\n",
              " 'Mình được cô chú chủ nhà_nghỉ Phúc_Thịnh giới_thiệu sang đây thuê xe .',\n",
              " 'Giao xe tận nơi và đến tận nơi lấy xe cho khách , tiện_lợi và chuyên_nghiệp .',\n",
              " 'Giao xe nhanh mình gọi chỉ 10 phút là có xe đời_mới nhất , rất sạch_sẽ .',\n",
              " 'Giao xe nhanh_chóng , thủ_tục đơn_giản .',\n",
              " 'Xe Yamaha_Sirius đời_mới lái khá bốc , mượt_mà , còi , xi_nhan gương đầy_đủ .',\n",
              " 'Nhà_xe dễ_thương , bác tài dễ_thương ,  xe chạy đúng giờ , nằm đúng chỗ đã đặt ,  có thêm sữa uống cho hành_khách .',\n",
              " 'Mình đã đến cửa_hàng mình thấy hàng hóa rất đa_dạng , giá_cả rất phải_chăng đồ ăn được .',\n",
              " 'Nhà_hàng hải_sản Hoàng_Thao cũng rất là ổn và đẹp .',\n",
              " 'Tất_niên cuối năm , tiệc thôi_nôi ,  sinh_nhật hay bất_cứ tiệc gì đi_chăng_nữa .',\n",
              " 'Đây là một nhà_hàng địa_phương và rất nổi_tiếng .',\n",
              " 'Đồ ăn rất vừa_miệng , không bị ngọt như khách_sạn khác .',\n",
              " 'Không_gian yên_tĩnh có chỗ ngồi uống cà_phê , sạch_sẽ , dễ di_chuyển ,  thái_độ nhân_viên phục_vụ tốt  .',\n",
              " 'Tôi thấy sự trung_thực và hỗ_trợ khách_hàng tối_đa khi có_thể của anh ấy .',\n",
              " 'Nhân_viên nhiệt_tình , phong_cách hiện_đại .',\n",
              " 'Phòng thoải_mái , khá rộng , có bếp và dụng_cụ có_thể nấu ăn chung .',\n",
              " 'Phòng sạch_sẽ gọn_gàng , nhân_viên nhiệt_tình thân_thiện và chu_đáo .',\n",
              " 'Vị_trí đẹp , quản_lý bộ_phận lễ_tân nhiệt_tình , tận_tình , chu_đáo .',\n",
              " 'Toàn_bộ chăn , gối màu trắng nhìn sạch_sẽ .',\n",
              " 'Phòng có view nhìn ra biển đẹp , trang_trí nhìn hài_hòa , cân_đối .',\n",
              " 'Nhân_viên dễ_thương , phục_vụ tận_tình , phòng sạch_sẽ , view đẹp , vị_trí thuận_lợi .',\n",
              " 'Vị_trí nhà_khách thuận_lợi rất gần biển nên buổi sáng sớm bạn có_thể đi bộ ra biển tập_thể_dục và tắm biển thoải_mái .',\n",
              " 'Các bạn nhân_viên tuy không tiếp xúc trực_tiếp với khách nhưng thân_thiện và nhiệt_tình , còn chuẩn bị sẵn bong_bóng cho khách em bé .']"
            ]
          },
          "metadata": {},
          "execution_count": 52
        }
      ]
    },
    {
      "cell_type": "code",
      "source": [
        "count_manual_tokenize_compounds = 0\n",
        "for sentence in manual_tokenize_sentences:\n",
        "    for word in sentence.split():\n",
        "        if '_' in word: count_manual_tokenize_compounds += 1\n",
        "print('Số lượng từ ghép khi tách từ thủ công:', count_manual_tokenize_compounds)"
      ],
      "metadata": {
        "colab": {
          "base_uri": "https://localhost:8080/"
        },
        "id": "muzJD6KQx6eV",
        "outputId": "1776560f-6bf9-4142-d817-935856613c54"
      },
      "execution_count": null,
      "outputs": [
        {
          "output_type": "stream",
          "name": "stdout",
          "text": [
            "Số lượng từ ghép khi tách từ thủ công: 206\n"
          ]
        }
      ]
    },
    {
      "cell_type": "code",
      "source": [
        "def count_correct_words(pred, source, n_grams=3):\n",
        "    pred_words = pred.split()\n",
        "    source_words = source.split()\n",
        "    \n",
        "    total_true, tp = 0, 0\n",
        "    total_errors, fp = 0, 0\n",
        "    \n",
        "    idx = 0\n",
        "    while idx < len(pred_words):\n",
        "        if pred_words[idx] not in source_words[idx:(idx + n_grams)]: \n",
        "            if '_' in pred_words[idx]: fp += 1\n",
        "            del pred_words[idx]\n",
        "            total_errors += 1\n",
        "        else: idx += 1\n",
        "    \n",
        "    idx = 0\n",
        "    while idx < len(source_words):\n",
        "        if source_words[idx] not in pred_words[idx:(idx + n_grams)]: \n",
        "            del source_words[idx]\n",
        "        else: idx += 1\n",
        "    \n",
        "    if len(pred_words) < len(source_words): words = pred_words\n",
        "    else: words = source_words\n",
        "    \n",
        "    for idx in range (len(words)):\n",
        "        if pred_words[idx] == source_words[idx]:\n",
        "            if '_' in pred_words[idx]: tp += 1 \n",
        "            total_true += 1\n",
        "                    \n",
        "    return total_true, total_errors, tp, fp"
      ],
      "metadata": {
        "id": "9WTV8clRx-P0"
      },
      "execution_count": null,
      "outputs": []
    },
    {
      "cell_type": "code",
      "source": [
        "def tokenize_evaluation(pred, source, n_grams=3):\n",
        "    total_true = 0\n",
        "    total_errors = 0\n",
        "    total_words = 0\n",
        "    \n",
        "    pred_tp = 0\n",
        "    pred_fp = 0\n",
        "    \n",
        "    for pred_sentence, source_sentence in zip(pred, source):\n",
        "        total_words += len(source_sentence.split())\n",
        "        if pred_sentence != source_sentence:\n",
        "            true, error, tp, fp = count_correct_words(pred_sentence, source_sentence, n_grams)\n",
        "            total_true += true \n",
        "            total_errors += error\n",
        "            pred_tp += tp\n",
        "            pred_fp += fp\n",
        "        else:\n",
        "            for word in source_sentence.split():\n",
        "                if '_' in word: pred_tp += 1\n",
        "                total_true += 1\n",
        "    return {\n",
        "        'Accuracy': total_true / total_words, \n",
        "        'Precision': pred_tp / (pred_tp + pred_fp),\n",
        "        'Recall': pred_tp / count_manual_tokenize_compounds,\n",
        "        'True Positive': pred_tp, \n",
        "        'False Positive': pred_fp,\n",
        "        'Total True': total_true, \n",
        "        'Total Errors': total_errors\n",
        "    }"
      ],
      "metadata": {
        "id": "ahsVM6qrx-zC"
      },
      "execution_count": null,
      "outputs": []
    },
    {
      "cell_type": "code",
      "source": [
        "from collections import defaultdict\n",
        "import unicodedata as ud\n",
        "import pandas as pd\n",
        "import numpy as np\n",
        "import math\n",
        "import ast\n",
        "import re"
      ],
      "metadata": {
        "id": "cEJ-s9RmySMb"
      },
      "execution_count": null,
      "outputs": []
    },
    {
      "cell_type": "code",
      "source": [
        "underthesea_evaluation = tokenize_evaluation(underthesea_sentences, manual_tokenize_sentences)\n",
        "pd.DataFrame(\n",
        "    [underthesea_evaluation], \n",
        "    index = ['Underthesea']\n",
        ").astype(object).T"
      ],
      "metadata": {
        "colab": {
          "base_uri": "https://localhost:8080/",
          "height": 269
        },
        "id": "xRGBl9ROyA8j",
        "outputId": "18911ea1-fceb-4e1f-f308-21f5e445033e"
      },
      "execution_count": null,
      "outputs": [
        {
          "output_type": "execute_result",
          "data": {
            "text/plain": [
              "               Underthesea\n",
              "Accuracy          0.899721\n",
              "Precision         0.885714\n",
              "Recall            0.902913\n",
              "True Positive          186\n",
              "False Positive          24\n",
              "Total True             646\n",
              "Total Errors            69"
            ],
            "text/html": [
              "\n",
              "  <div id=\"df-1168aa60-4ba8-442f-a344-7c9284d54445\">\n",
              "    <div class=\"colab-df-container\">\n",
              "      <div>\n",
              "<style scoped>\n",
              "    .dataframe tbody tr th:only-of-type {\n",
              "        vertical-align: middle;\n",
              "    }\n",
              "\n",
              "    .dataframe tbody tr th {\n",
              "        vertical-align: top;\n",
              "    }\n",
              "\n",
              "    .dataframe thead th {\n",
              "        text-align: right;\n",
              "    }\n",
              "</style>\n",
              "<table border=\"1\" class=\"dataframe\">\n",
              "  <thead>\n",
              "    <tr style=\"text-align: right;\">\n",
              "      <th></th>\n",
              "      <th>Underthesea</th>\n",
              "    </tr>\n",
              "  </thead>\n",
              "  <tbody>\n",
              "    <tr>\n",
              "      <th>Accuracy</th>\n",
              "      <td>0.899721</td>\n",
              "    </tr>\n",
              "    <tr>\n",
              "      <th>Precision</th>\n",
              "      <td>0.885714</td>\n",
              "    </tr>\n",
              "    <tr>\n",
              "      <th>Recall</th>\n",
              "      <td>0.902913</td>\n",
              "    </tr>\n",
              "    <tr>\n",
              "      <th>True Positive</th>\n",
              "      <td>186</td>\n",
              "    </tr>\n",
              "    <tr>\n",
              "      <th>False Positive</th>\n",
              "      <td>24</td>\n",
              "    </tr>\n",
              "    <tr>\n",
              "      <th>Total True</th>\n",
              "      <td>646</td>\n",
              "    </tr>\n",
              "    <tr>\n",
              "      <th>Total Errors</th>\n",
              "      <td>69</td>\n",
              "    </tr>\n",
              "  </tbody>\n",
              "</table>\n",
              "</div>\n",
              "      <button class=\"colab-df-convert\" onclick=\"convertToInteractive('df-1168aa60-4ba8-442f-a344-7c9284d54445')\"\n",
              "              title=\"Convert this dataframe to an interactive table.\"\n",
              "              style=\"display:none;\">\n",
              "        \n",
              "  <svg xmlns=\"http://www.w3.org/2000/svg\" height=\"24px\"viewBox=\"0 0 24 24\"\n",
              "       width=\"24px\">\n",
              "    <path d=\"M0 0h24v24H0V0z\" fill=\"none\"/>\n",
              "    <path d=\"M18.56 5.44l.94 2.06.94-2.06 2.06-.94-2.06-.94-.94-2.06-.94 2.06-2.06.94zm-11 1L8.5 8.5l.94-2.06 2.06-.94-2.06-.94L8.5 2.5l-.94 2.06-2.06.94zm10 10l.94 2.06.94-2.06 2.06-.94-2.06-.94-.94-2.06-.94 2.06-2.06.94z\"/><path d=\"M17.41 7.96l-1.37-1.37c-.4-.4-.92-.59-1.43-.59-.52 0-1.04.2-1.43.59L10.3 9.45l-7.72 7.72c-.78.78-.78 2.05 0 2.83L4 21.41c.39.39.9.59 1.41.59.51 0 1.02-.2 1.41-.59l7.78-7.78 2.81-2.81c.8-.78.8-2.07 0-2.86zM5.41 20L4 18.59l7.72-7.72 1.47 1.35L5.41 20z\"/>\n",
              "  </svg>\n",
              "      </button>\n",
              "      \n",
              "  <style>\n",
              "    .colab-df-container {\n",
              "      display:flex;\n",
              "      flex-wrap:wrap;\n",
              "      gap: 12px;\n",
              "    }\n",
              "\n",
              "    .colab-df-convert {\n",
              "      background-color: #E8F0FE;\n",
              "      border: none;\n",
              "      border-radius: 50%;\n",
              "      cursor: pointer;\n",
              "      display: none;\n",
              "      fill: #1967D2;\n",
              "      height: 32px;\n",
              "      padding: 0 0 0 0;\n",
              "      width: 32px;\n",
              "    }\n",
              "\n",
              "    .colab-df-convert:hover {\n",
              "      background-color: #E2EBFA;\n",
              "      box-shadow: 0px 1px 2px rgba(60, 64, 67, 0.3), 0px 1px 3px 1px rgba(60, 64, 67, 0.15);\n",
              "      fill: #174EA6;\n",
              "    }\n",
              "\n",
              "    [theme=dark] .colab-df-convert {\n",
              "      background-color: #3B4455;\n",
              "      fill: #D2E3FC;\n",
              "    }\n",
              "\n",
              "    [theme=dark] .colab-df-convert:hover {\n",
              "      background-color: #434B5C;\n",
              "      box-shadow: 0px 1px 3px 1px rgba(0, 0, 0, 0.15);\n",
              "      filter: drop-shadow(0px 1px 2px rgba(0, 0, 0, 0.3));\n",
              "      fill: #FFFFFF;\n",
              "    }\n",
              "  </style>\n",
              "\n",
              "      <script>\n",
              "        const buttonEl =\n",
              "          document.querySelector('#df-1168aa60-4ba8-442f-a344-7c9284d54445 button.colab-df-convert');\n",
              "        buttonEl.style.display =\n",
              "          google.colab.kernel.accessAllowed ? 'block' : 'none';\n",
              "\n",
              "        async function convertToInteractive(key) {\n",
              "          const element = document.querySelector('#df-1168aa60-4ba8-442f-a344-7c9284d54445');\n",
              "          const dataTable =\n",
              "            await google.colab.kernel.invokeFunction('convertToInteractive',\n",
              "                                                     [key], {});\n",
              "          if (!dataTable) return;\n",
              "\n",
              "          const docLinkHtml = 'Like what you see? Visit the ' +\n",
              "            '<a target=\"_blank\" href=https://colab.research.google.com/notebooks/data_table.ipynb>data table notebook</a>'\n",
              "            + ' to learn more about interactive tables.';\n",
              "          element.innerHTML = '';\n",
              "          dataTable['output_type'] = 'display_data';\n",
              "          await google.colab.output.renderOutput(dataTable, element);\n",
              "          const docLink = document.createElement('div');\n",
              "          docLink.innerHTML = docLinkHtml;\n",
              "          element.appendChild(docLink);\n",
              "        }\n",
              "      </script>\n",
              "    </div>\n",
              "  </div>\n",
              "  "
            ]
          },
          "metadata": {},
          "execution_count": 49
        }
      ]
    }
  ]
}